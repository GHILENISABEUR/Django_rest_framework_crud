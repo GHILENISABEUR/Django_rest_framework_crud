{
  "nbformat": 4,
  "nbformat_minor": 0,
  "metadata": {
    "colab": {
      "provenance": [],
      "authorship_tag": "ABX9TyOO/lIXr+TBbrlm+jqswKJn",
      "include_colab_link": true
    },
    "kernelspec": {
      "name": "python3",
      "display_name": "Python 3"
    },
    "language_info": {
      "name": "python"
    }
  },
  "cells": [
    {
      "cell_type": "markdown",
      "metadata": {
        "id": "view-in-github",
        "colab_type": "text"
      },
      "source": [
        "<a href=\"https://colab.research.google.com/github/GHILENISABEUR/Django_rest_framework_crud/blob/main/souhail.ipynb\" target=\"_parent\"><img src=\"https://colab.research.google.com/assets/colab-badge.svg\" alt=\"Open In Colab\"/></a>"
      ]
    },
    {
      "cell_type": "code",
      "source": [
        "# Step 2: Install compatible numpy and pmdarima versions\n",
        "!pip install numpy==1.26.4\n",
        "!pip install --force-reinstall pmdarima==2.0.4\n"
      ],
      "metadata": {
        "id": "w9iVNOp7py3I"
      },
      "execution_count": null,
      "outputs": []
    },
    {
      "cell_type": "code",
      "source": [
        "import pandas as pd\n",
        "import numpy as np\n",
        "from statsmodels.tsa.holtwinters import ExponentialSmoothing\n",
        "from statsmodels.tsa.statespace.sarimax import SARIMAX\n",
        "from prophet import Prophet\n",
        "from sklearn.metrics import mean_absolute_error, mean_squared_error\n",
        "from sklearn.preprocessing import StandardScaler\n",
        "import xgboost as xgb\n",
        "import io\n",
        "import matplotlib.pyplot as plt\n",
        "import matplotlib.dates as mdates\n",
        "\n",
        "# Sample data (replace with your full data)\n",
        "data = \"\"\"\n",
        "| date | No_ | Description | Quantity | Unit Price | Amount |\n",
        "|:-----|:----|:------------|:---------|:-----------|:-------|\n",
        "| 2024-11-16 | TS57 | THON ENTIER.160 Gr SD-HV-EMBOUT | 5000 | 4.261 | 21305 |\n",
        "| 2024-11-16 | TS17 | THON ENTIER.620 Gr HV-ON  SD | 840 | 15.053 | 12644.52 |\n",
        "| 2024-03-12 | SD2 | SARDINES 120 Gr TO-OF SD | 500 | 2.238 | 1119 |\n",
        "\"\"\"\n",
        "\n",
        "# Load data\n",
        "df = pd.read_csv(\n",
        "    io.StringIO(data),\n",
        "    sep='|',\n",
        "    skiprows=3,\n",
        "    usecols=[1, 2, 3, 4, 5, 6],\n",
        "    names=['date', 'No_', 'Description', 'Quantity', 'Unit Price', 'Amount'],\n",
        "    engine='python'\n",
        ")\n",
        "\n",
        "df = df.apply(lambda x: x.str.strip() if x.dtype == \"object\" else x)\n",
        "df['date'] = pd.to_datetime(df['date'], format='%Y-%m-%d', errors='raise')\n",
        "df['Quantity'] = pd.to_numeric(df['Quantity'])\n",
        "df['Unit Price'] = pd.to_numeric(df['Unit Price'])\n",
        "df['Amount'] = pd.to_numeric(df['Amount'])\n",
        "\n",
        "# Process data - use full 2024 data for training\n",
        "df = df[df['date'].dt.year == 2024]\n",
        "daily_sales = df.groupby('date')['Amount'].sum().reset_index()\n",
        "daily_sales.set_index('date', inplace=True)\n",
        "\n",
        "# Create complete date range for 2024\n",
        "idx = pd.date_range('2024-01-01', '2024-12-31')\n",
        "daily_sales = daily_sales.reindex(idx, fill_value=0)\n",
        "daily_sales.index.name = 'date'\n",
        "\n",
        "# Train on all 2024 data\n",
        "train = daily_sales.loc['2024-01-01':'2024-12-31']\n",
        "\n",
        "# Forecast period (Jan-Mar 2025)\n",
        "forecast_dates = pd.date_range('2025-01-01', '2025-03-31')\n",
        "\n",
        "# 1. Naive forecast\n",
        "last_value = train['Amount'][-1]\n",
        "forecast_naive = np.repeat(last_value, len(forecast_dates))\n",
        "\n",
        "# 2. Exponential Smoothing\n",
        "model_es = ExponentialSmoothing(train['Amount'], trend='add', seasonal='add', seasonal_periods=7).fit()\n",
        "forecast_es = model_es.forecast(len(forecast_dates))\n",
        "\n",
        "# 3. SARIMAX\n",
        "model_sarimax = SARIMAX(train['Amount'], order=(1,1,1), seasonal_order=(1,1,1,7)).fit(disp=False)\n",
        "forecast_sarimax = model_sarimax.forecast(len(forecast_dates))\n",
        "\n",
        "# 4. Prophet\n",
        "prophet_train = train.reset_index().rename(columns={'date':'ds', 'Amount':'y'})\n",
        "prophet_model = Prophet(yearly_seasonality=True, weekly_seasonality=True, daily_seasonality=False)\n",
        "prophet_model.fit(prophet_train)\n",
        "future = prophet_model.make_future_dataframe(periods=len(forecast_dates), freq='D', include_history=False)\n",
        "forecast_prophet = prophet_model.predict(future)['yhat'].values\n",
        "\n",
        "# 5. XGBoost Regression\n",
        "def create_lags(series, lags=14):\n",
        "    df_lag = pd.DataFrame()\n",
        "    for lag in range(1, lags+1):\n",
        "        df_lag[f'lag_{lag}'] = series.shift(lag)\n",
        "    return df_lag\n",
        "\n",
        "lags = 14\n",
        "df_lags = create_lags(daily_sales['Amount'], lags)\n",
        "df_lags['target'] = daily_sales['Amount']\n",
        "df_lags.dropna(inplace=True)\n",
        "\n",
        "X = df_lags.drop(columns='target')\n",
        "y = df_lags['target']\n",
        "\n",
        "scaler = StandardScaler()\n",
        "X_scaled = scaler.fit_transform(X)\n",
        "\n",
        "xgb_model = xgb.XGBRegressor(objective='reg:squarederror', n_estimators=200, random_state=42)\n",
        "xgb_model.fit(X_scaled, y)\n",
        "\n",
        "# Prepare data for forecasting\n",
        "last_known_values = daily_sales['Amount'].values[-lags:].reshape(1, -1)\n",
        "forecast_xgb = []\n",
        "\n",
        "for _ in range(len(forecast_dates)):\n",
        "    # Scale the input\n",
        "    input_scaled = scaler.transform(last_known_values)\n",
        "    # Make prediction\n",
        "    pred = xgb_model.predict(input_scaled)[0]\n",
        "    forecast_xgb.append(pred)\n",
        "    # Update last known values\n",
        "    last_known_values = np.roll(last_known_values, -1)\n",
        "    last_known_values[0, -1] = pred\n",
        "\n",
        "# Create forecast DataFrame\n",
        "forecast_df = pd.DataFrame({\n",
        "    'Date': forecast_dates,\n",
        "    'Naive': forecast_naive,\n",
        "    'ExponentialSmoothing': forecast_es.values,\n",
        "    'SARIMAX': forecast_sarimax.values,\n",
        "    'Prophet': forecast_prophet,\n",
        "    'XGBoost': forecast_xgb\n",
        "})\n",
        "\n",
        "# Plotting\n",
        "plt.figure(figsize=(15, 7))\n",
        "\n",
        "# Plot historical data\n",
        "plt.plot(train.index, train['Amount'], label='2024 Actual Sales', color='black', linewidth=2)\n",
        "\n",
        "# Plot forecasts with different colors\n",
        "colors = ['red', 'blue', 'green', 'purple', 'orange']\n",
        "models = ['Naive', 'ExponentialSmoothing', 'SARIMAX', 'Prophet', 'XGBoost']\n",
        "for model, color in zip(models, colors):\n",
        "    plt.plot(forecast_df['Date'], forecast_df[model], label=f'2025 {model} Forecast',\n",
        "             linestyle='--', color=color, alpha=0.8)\n",
        "\n",
        "# Formatting\n",
        "plt.title('Sales Forecast: 2024 Actual vs 2025 Predictions', fontsize=16)\n",
        "plt.xlabel('Date', fontsize=12)\n",
        "plt.ylabel('Sales Amount', fontsize=12)\n",
        "plt.legend(fontsize=10)\n",
        "plt.grid(True, linestyle='--', alpha=0.7)\n",
        "\n",
        "# Format x-axis to show months\n",
        "ax = plt.gca()\n",
        "ax.xaxis.set_major_locator(mdates.MonthLocator())\n",
        "ax.xaxis.set_major_formatter(mdates.DateFormatter('%b %Y'))\n",
        "plt.xticks(rotation=45)\n",
        "\n",
        "plt.tight_layout()\n",
        "plt.show()\n",
        "\n",
        "# Print forecast values\n",
        "print(\"\\nForecast values for January-March 2025:\")\n",
        "print(forecast_df)\n",
        "\n",
        "# Calculate and print average monthly forecasts\n",
        "monthly_forecast = forecast_df.copy()\n",
        "monthly_forecast['Month'] = monthly_forecast['Date'].dt.to_period('M')\n",
        "monthly_avg = monthly_forecast.groupby('Month').mean(numeric_only=True)\n",
        "\n",
        "print(\"\\nAverage Monthly Forecasts for 2025:\")\n",
        "print(monthly_avg)"
      ],
      "metadata": {
        "id": "0dVFyfc2nDGv"
      },
      "execution_count": null,
      "outputs": []
    },
    {
      "cell_type": "code",
      "source": [
        "# 1. Install dependencies\n",
        "!pip install pandas numpy matplotlib statsmodels scikit-learn --quiet\n",
        "\n",
        "# 2. Import libraries\n",
        "import pandas as pd\n",
        "import numpy as np\n",
        "import matplotlib.pyplot as plt\n",
        "from statsmodels.tsa.holtwinters import ExponentialSmoothing\n",
        "from sklearn.linear_model import LinearRegression\n",
        "from datetime import datetime, timedelta\n",
        "\n",
        "# 3. Load and clean data\n",
        "def load_and_clean_data(file_content):\n",
        "    lines = [line.split('|') for line in file_content.strip().split('\\n')[2:]]\n",
        "    data = []\n",
        "    for line in lines:\n",
        "        if len(line) >= 3:\n",
        "            date_str = line[1].strip()\n",
        "            amount = line[2].strip()\n",
        "            if date_str and amount.replace('.', '', 1).isdigit():\n",
        "                data.append([date_str, float(amount)])\n",
        "    df = pd.DataFrame(data, columns=['date', 'predicted_amount'])\n",
        "    df['date'] = pd.to_datetime(df['date'])\n",
        "    df = df.groupby('date')['predicted_amount'].first().reset_index()  # remove duplicates\n",
        "    return df\n",
        "\n",
        "# 4. Forecasting models (daily level)\n",
        "def forecast_models_daily(df):\n",
        "    df_sorted = df.sort_values('date')\n",
        "    df_sorted['days_since_start'] = (df_sorted['date'] - df_sorted['date'].min()).dt.days\n",
        "\n",
        "    X = df_sorted['days_since_start'].values.reshape(-1, 1)\n",
        "    y = df_sorted['predicted_amount'].values\n",
        "\n",
        "    # Linear Regression\n",
        "    lr_model = LinearRegression()\n",
        "    lr_model.fit(X, y)\n",
        "\n",
        "    # Holt-Winters\n",
        "    if len(y) >= 14:\n",
        "        hw_model = ExponentialSmoothing(y, seasonal='add', seasonal_periods=7).fit()\n",
        "        hw_forecast = hw_model.forecast(30)\n",
        "    else:\n",
        "        hw_forecast = [np.nan] * 30\n",
        "\n",
        "    # Forecast for next 30 days\n",
        "    future_days = np.arange(df_sorted['days_since_start'].max() + 1,\n",
        "                            df_sorted['days_since_start'].max() + 31)\n",
        "    future_dates = [df_sorted['date'].max() + timedelta(days=i) for i in range(1, 31)]\n",
        "    lr_forecast = lr_model.predict(future_days.reshape(-1, 1))\n",
        "\n",
        "    forecast_df = pd.DataFrame({\n",
        "        'date': future_dates,\n",
        "        'linear_regression': lr_forecast,\n",
        "        'holt_winters': hw_forecast\n",
        "    })\n",
        "\n",
        "    return forecast_df\n",
        "\n",
        "# 5. Plotting\n",
        "def plot_daily_forecast(df, forecast_df):\n",
        "    plt.figure(figsize=(16, 8))\n",
        "\n",
        "    # Historical\n",
        "    plt.plot(df['date'], df['predicted_amount'], 'o-', color='#1f77b4', label='Actual', linewidth=2, markersize=6)\n",
        "\n",
        "    # Linear Regression Forecast\n",
        "    plt.plot(forecast_df['date'], forecast_df['linear_regression'], 's--', color='#ff7f0e',\n",
        "             label='Linear Regression Forecast', linewidth=2, markersize=6)\n",
        "\n",
        "    # Holt-Winters Forecast\n",
        "    plt.plot(forecast_df['date'], forecast_df['holt_winters'], 'd--', color='#2ca02c',\n",
        "             label='Holt-Winters Forecast', linewidth=2, markersize=6)\n",
        "\n",
        "    # Shaded forecast region\n",
        "    plt.axvspan(df['date'].max(), forecast_df['date'].max(), color='gray', alpha=0.15, label='Forecast Region')\n",
        "\n",
        "    # Enhancements\n",
        "    plt.title('📈 Daily Forecast: Actual vs Predicted', fontsize=18, fontweight='bold')\n",
        "    plt.xlabel('Date', fontsize=14)\n",
        "    plt.ylabel('Predicted Amount (TND)', fontsize=14)\n",
        "    plt.xticks(rotation=45, fontsize=12)\n",
        "    plt.yticks(fontsize=12)\n",
        "    plt.grid(True, linestyle='--', alpha=0.6)\n",
        "    plt.legend(fontsize=12, loc='upper left')\n",
        "    plt.tight_layout()\n",
        "\n",
        "    # Annotate last value\n",
        "    last_val = df.iloc[-1]\n",
        "    plt.annotate(f'{last_val.predicted_amount:.2f}',\n",
        "                 xy=(last_val.date, last_val.predicted_amount),\n",
        "                 xytext=(last_val.date + timedelta(days=2), last_val.predicted_amount + 200),\n",
        "                 arrowprops=dict(facecolor='black', arrowstyle='->'),\n",
        "                 fontsize=12, fontweight='bold')\n",
        "\n",
        "    plt.show()\n",
        "\n",
        "# 6. Main\n",
        "if __name__ == \"__main__\":\n",
        "    file_content = \"\"\"\n",
        "    | date | predicted_amount |\n",
        "    |:-----|:-----------------|\n",
        "    | 2025-01-02 00:00:00 | 5634.178409999996 |\n",
        "    | 2025-01-02 00:00:00 | 5634.178409999996 |\n",
        "    | 2025-01-03 00:00:00 | 5395.959650000003 |\n",
        "    | 2025-01-04 00:00:00 | 5095.616130000005 |\n",
        "    | 2025-01-05 00:00:00 | 4942.183179999999 |\n",
        "    | 2025-01-06 00:00:00 | 4692.452009999997 |\n",
        "    | 2025-01-07 00:00:00 | 4592.020099999999 |\n",
        "    | 2025-01-08 00:00:00 | 4604.349559999996 |\n",
        "    | 2025-01-09 00:00:00 | 4560.311389999999 |\n",
        "    | 2025-01-10 00:00:00 | 4393.209479999999 |\n",
        "    | 2025-01-11 00:00:00 | 4393.209479999999 |\n",
        "    | 2025-01-12 00:00:00 | 4393.209479999999 |\n",
        "    | 2025-02-01 00:00:00 | 3800.1239999999993 |\n",
        "    | 2025-02-05 00:00:00 | 3900.000000000000 |\n",
        "    | 2025-02-25 00:00:00 | 3392.76464 |\n",
        "    \"\"\"\n",
        "\n",
        "    df = load_and_clean_data(file_content)\n",
        "    forecast_df = forecast_models_daily(df)\n",
        "    plot_daily_forecast(df, forecast_df)\n"
      ],
      "metadata": {
        "colab": {
          "base_uri": "https://localhost:8080/",
          "height": 896
        },
        "id": "CtUjFvO7tI5V",
        "outputId": "6986304a-5cda-441d-d926-ab69f86abd63"
      },
      "execution_count": null,
      "outputs": [
        {
          "output_type": "stream",
          "name": "stderr",
          "text": [
            "<ipython-input-11-4435079da889>:86: UserWarning: Glyph 128200 (\\N{CHART WITH UPWARDS TREND}) missing from font(s) DejaVu Sans.\n",
            "  plt.tight_layout()\n",
            "/usr/local/lib/python3.11/dist-packages/IPython/core/pylabtools.py:151: UserWarning: Glyph 128200 (\\N{CHART WITH UPWARDS TREND}) missing from font(s) DejaVu Sans.\n",
            "  fig.canvas.print_figure(bytes_io, **kw)\n"
          ]
        },
        {
          "output_type": "display_data",
          "data": {
            "text/plain": [
              "<Figure size 1600x800 with 1 Axes>"
            ],
            "image/png": "[encoded data removed]"
          },
          "metadata": {}
        }
      ]
    },
    {
      "cell_type": "code",
      "source": [
        "import pandas as pd\n",
        "\n",
        "df = pd.read_excel(\"/content/export_table (1).xlsx\", sheet_name=\"Sheet1\")\n",
        "df['date'] = pd.to_datetime(df['date'])\n",
        "\n",
        "# Filter training data for 2023\n",
        "df_train = df[df['date'].dt.year == 2023]\n",
        "\n",
        "# Group monthly sales by product\n",
        "monthly_sales = df_train.groupby([pd.Grouper(key='date', freq='M'), 'Description'])['Amount'].sum().reset_index()\n"
      ],
      "metadata": {
        "id": "iaCBHm1Z0wJA",
        "outputId": "a916c287-e6ff-459e-babb-96f5f139902e",
        "colab": {
          "base_uri": "https://localhost:8080/"
        }
      },
      "execution_count": null,
      "outputs": [
        {
          "output_type": "stream",
          "name": "stderr",
          "text": [
            "<ipython-input-5-34f959d25862>:10: FutureWarning: 'M' is deprecated and will be removed in a future version, please use 'ME' instead.\n",
            "  monthly_sales = df_train.groupby([pd.Grouper(key='date', freq='M'), 'Description'])['Amount'].sum().reset_index()\n"
          ]
        }
      ]
    },
    {
      "cell_type": "code",
      "source": [
        "print(df['date'].min())\n",
        "print(df['date'].max())\n"
      ],
      "metadata": {
        "colab": {
          "base_uri": "https://localhost:8080/"
        },
        "id": "dnUMM8x4d9-q",
        "outputId": "1d5fa0bf-f00a-4d12-dd8a-62c0672cc74d"
      },
      "execution_count": null,
      "outputs": [
        {
          "output_type": "stream",
          "name": "stdout",
          "text": [
            "2024-01-02 00:00:00\n",
            "2025-02-25 00:00:00\n"
          ]
        }
      ]
    },
    {
      "cell_type": "code",
      "source": [
        "print(df_prophet.head())\n",
        "print(df_prophet.columns)\n"
      ],
      "metadata": {
        "colab": {
          "base_uri": "https://localhost:8080/"
        },
        "id": "MC26nrRKd2Ku",
        "outputId": "452cf99a-62e1-4488-a1c2-7be3af1cb597"
      },
      "execution_count": null,
      "outputs": [
        {
          "output_type": "stream",
          "name": "stdout",
          "text": [
            "Empty DataFrame\n",
            "Columns: [ds, y]\n",
            "Index: []\n",
            "Index(['ds', 'y'], dtype='object')\n"
          ]
        }
      ]
    },
    {
      "cell_type": "code",
      "source": [
        "import pandas as pd\n",
        "from prophet import Prophet\n",
        "\n",
        "# Load the Excel file\n",
        "df = pd.read_excel(\"export_table (1).xlsx\", sheet_name=\"Sheet1\")\n",
        "df['date'] = pd.to_datetime(df['date'])\n",
        "\n",
        "# Filter data for Jan and Feb 2024\n",
        "df_train = df[(df['date'] >= '2024-01-01') & (df['date'] < '2024-03-01')]\n",
        "\n",
        "# Group by month and sum 'Amount'\n",
        "monthly = df_train.groupby(pd.Grouper(key='date', freq='M'))['Amount'].sum().reset_index()\n",
        "\n",
        "# Rename columns for Prophet\n",
        "monthly.columns = ['ds', 'y']\n",
        "\n",
        "# Check contents\n",
        "print(monthly)\n",
        "\n",
        "# Train Prophet\n",
        "model = Prophet()\n",
        "model.fit(monthly)\n",
        "\n",
        "# Forecast March 2024\n",
        "future = model.make_future_dataframe(periods=1, freq='M')\n",
        "forecast = model.predict(future)\n",
        "\n",
        "# Display forecast\n",
        "print(forecast[['ds', 'yhat', 'yhat_lower', 'yhat_upper']].tail())\n"
      ],
      "metadata": {
        "colab": {
          "base_uri": "https://localhost:8080/"
        },
        "id": "3Y93megwdsv-",
        "outputId": "181ddbfe-81c6-4e2a-9690-9104535c8b99"
      },
      "execution_count": null,
      "outputs": [
        {
          "output_type": "stream",
          "name": "stderr",
          "text": [
            "<ipython-input-10-b89f380325d4>:12: FutureWarning: 'M' is deprecated and will be removed in a future version, please use 'ME' instead.\n",
            "  monthly = df_train.groupby(pd.Grouper(key='date', freq='M'))['Amount'].sum().reset_index()\n",
            "INFO:prophet:Disabling yearly seasonality. Run prophet with yearly_seasonality=True to override this.\n",
            "INFO:prophet:Disabling weekly seasonality. Run prophet with weekly_seasonality=True to override this.\n",
            "INFO:prophet:Disabling daily seasonality. Run prophet with daily_seasonality=True to override this.\n",
            "INFO:prophet:n_changepoints greater than number of observations. Using 0.\n",
            "DEBUG:cmdstanpy:input tempfile: /tmp/tmpde06q29d/wc0dh6wh.json\n",
            "DEBUG:cmdstanpy:input tempfile: /tmp/tmpde06q29d/c7ltukwp.json\n",
            "DEBUG:cmdstanpy:idx 0\n",
            "DEBUG:cmdstanpy:running CmdStan, num_threads: None\n",
            "DEBUG:cmdstanpy:CmdStan args: ['/usr/local/lib/python3.11/dist-packages/prophet/stan_model/prophet_model.bin', 'random', 'seed=66535', 'data', 'file=/tmp/tmpde06q29d/wc0dh6wh.json', 'init=/tmp/tmpde06q29d/c7ltukwp.json', 'output', 'file=/tmp/tmpde06q29d/prophet_modelufictpro/prophet_model-20250530091430.csv', 'method=optimize', 'algorithm=newton', 'iter=10000']\n",
            "09:14:30 - cmdstanpy - INFO - Chain [1] start processing\n",
            "INFO:cmdstanpy:Chain [1] start processing\n"
          ]
        },
        {
          "output_type": "stream",
          "name": "stdout",
          "text": [
            "          ds            y\n",
            "0 2024-01-31  1353673.216\n",
            "1 2024-02-29  1821545.557\n"
          ]
        },
        {
          "output_type": "stream",
          "name": "stderr",
          "text": [
            "09:14:30 - cmdstanpy - INFO - Chain [1] done processing\n",
            "INFO:cmdstanpy:Chain [1] done processing\n"
          ]
        },
        {
          "output_type": "stream",
          "name": "stdout",
          "text": [
            "          ds          yhat    yhat_lower    yhat_upper\n",
            "0 2024-01-31  1.353672e+06  1.353672e+06  1.353672e+06\n",
            "1 2024-02-29  1.821546e+06  1.821546e+06  1.821546e+06\n",
            "2 2024-03-31  2.321686e+06  2.321686e+06  2.321686e+06\n"
          ]
        },
        {
          "output_type": "stream",
          "name": "stderr",
          "text": [
            "/usr/local/lib/python3.11/dist-packages/prophet/forecaster.py:1854: FutureWarning: 'M' is deprecated and will be removed in a future version, please use 'ME' instead.\n",
            "  dates = pd.date_range(\n"
          ]
        }
      ]
    },
    {
      "cell_type": "code",
      "source": [
        "# Select only relevant columns from the forecast\n",
        "forecast_output = forecast[['ds', 'yhat', 'yhat_lower', 'yhat_upper']]\n",
        "\n",
        "# Save to CSV\n",
        "forecast_output.to_csv(\"forecast_march_2024.csv\", index=False)\n",
        "\n",
        "print(\"✅ Forecast saved to 'forecast_march_2024.csv'\")\n"
      ],
      "metadata": {
        "colab": {
          "base_uri": "https://localhost:8080/"
        },
        "id": "0Ubb9YC_eZQd",
        "outputId": "f115f7df-8046-4c7c-dc6c-eb2ddd017dd4"
      },
      "execution_count": null,
      "outputs": [
        {
          "output_type": "stream",
          "name": "stdout",
          "text": [
            "✅ Forecast saved to 'forecast_march_2024.csv'\n"
          ]
        }
      ]
    },
    {
      "cell_type": "code",
      "source": [
        "import pandas as pd\n",
        "from prophet import Prophet\n",
        "\n",
        "# Load and prepare data\n",
        "df = pd.read_excel(\"export_table (1).xlsx\", sheet_name=\"Sheet1\")\n",
        "df['date'] = pd.to_datetime(df['date'])\n",
        "\n",
        "# Filter Jan & Feb 2024\n",
        "df_train = df[(df['date'] >= '2024-01-01') & (df['date'] < '2024-03-01')]\n",
        "\n",
        "# Monthly aggregation (use 'ME' instead of deprecated 'M')\n",
        "monthly = df_train.groupby(pd.Grouper(key='date', freq='ME'))['Amount'].sum().reset_index()\n",
        "monthly.columns = ['ds', 'y']  # for Prophet\n",
        "\n",
        "# Train Prophet model\n",
        "model = Prophet()\n",
        "model.fit(monthly)\n",
        "\n",
        "# Forecast for 3 months\n",
        "future = model.make_future_dataframe(periods=1, freq='ME')\n",
        "forecast = model.predict(future)\n",
        "\n",
        "# Extract relevant forecast columns\n",
        "forecast_result = forecast[['ds', 'yhat']]\n",
        "forecast_result.columns = ['ds', 'y_predicted']\n",
        "\n",
        "# Merge with actuals\n",
        "comparison = pd.merge(monthly, forecast_result, on='ds', how='outer')\n",
        "\n",
        "# Calculate error\n",
        "comparison['error'] = comparison['y'] - comparison['y_predicted']\n",
        "\n",
        "# Save to CSV\n",
        "comparison.to_csv(\"actual_vs_predicted.csv\", index=False)\n",
        "\n",
        "print(\"✅ Saved actual vs. predicted comparison to 'actual_vs_predicted.csv'\")\n"
      ],
      "metadata": {
        "colab": {
          "base_uri": "https://localhost:8080/"
        },
        "id": "zHzmAqX6e89e",
        "outputId": "6a070e8d-e784-4c3f-ce80-5bc41ac5ea1e"
      },
      "execution_count": null,
      "outputs": [
        {
          "output_type": "stream",
          "name": "stderr",
          "text": [
            "INFO:prophet:Disabling yearly seasonality. Run prophet with yearly_seasonality=True to override this.\n",
            "INFO:prophet:Disabling weekly seasonality. Run prophet with weekly_seasonality=True to override this.\n",
            "INFO:prophet:Disabling daily seasonality. Run prophet with daily_seasonality=True to override this.\n",
            "INFO:prophet:n_changepoints greater than number of observations. Using 0.\n",
            "DEBUG:cmdstanpy:input tempfile: /tmp/tmpde06q29d/19epubqm.json\n",
            "DEBUG:cmdstanpy:input tempfile: /tmp/tmpde06q29d/ldsukj7r.json\n",
            "DEBUG:cmdstanpy:idx 0\n",
            "DEBUG:cmdstanpy:running CmdStan, num_threads: None\n",
            "DEBUG:cmdstanpy:CmdStan args: ['/usr/local/lib/python3.11/dist-packages/prophet/stan_model/prophet_model.bin', 'random', 'seed=67804', 'data', 'file=/tmp/tmpde06q29d/19epubqm.json', 'init=/tmp/tmpde06q29d/ldsukj7r.json', 'output', 'file=/tmp/tmpde06q29d/prophet_modelrg99smc0/prophet_model-20250530091806.csv', 'method=optimize', 'algorithm=newton', 'iter=10000']\n",
            "09:18:06 - cmdstanpy - INFO - Chain [1] start processing\n",
            "INFO:cmdstanpy:Chain [1] start processing\n",
            "09:18:07 - cmdstanpy - INFO - Chain [1] done processing\n",
            "INFO:cmdstanpy:Chain [1] done processing\n"
          ]
        },
        {
          "output_type": "stream",
          "name": "stdout",
          "text": [
            "✅ Saved actual vs. predicted comparison to 'actual_vs_predicted.csv'\n"
          ]
        }
      ]
    },
    {
      "cell_type": "code",
      "source": [
        "# Rename columns for clarity\n",
        "comparison = comparison.rename(columns={\n",
        "    'ds': 'Month',\n",
        "    'y': 'Actual_Sales_Amount',\n",
        "    'y_predicted': 'Predicted_Sales_Amount',\n",
        "    'error': 'Prediction_Error'\n",
        "})\n",
        "\n",
        "# Save to CSV\n",
        "comparison.to_csv(\"actual_vs_predicted_sales.csv\", index=False)\n",
        "\n",
        "print(\"✅ Saved comparison with clear column names to 'actual_vs_predicted_sales.csv'\")\n"
      ],
      "metadata": {
        "colab": {
          "base_uri": "https://localhost:8080/"
        },
        "id": "Zv0boAh1fXWl",
        "outputId": "f9efffbc-8867-4948-e468-d127bd012cae"
      },
      "execution_count": null,
      "outputs": [
        {
          "output_type": "stream",
          "name": "stdout",
          "text": [
            "✅ Saved comparison with clear column names to 'actual_vs_predicted_sales.csv'\n"
          ]
        }
      ]
    },
    {
      "cell_type": "code",
      "source": [
        "plt.figure(figsize=(10,6))\n",
        "plt.plot(comparison['Month'], comparison['Predicted_Sales_Amount'], label='Predicted Sales', marker='x')\n",
        "\n",
        "# Plot actual only where not NaN\n",
        "plt.plot(comparison['Month'][comparison['Actual_Sales_Amount'].notna()],\n",
        "         comparison['Actual_Sales_Amount'][comparison['Actual_Sales_Amount'].notna()],\n",
        "         label='Actual Sales', marker='o', linestyle='')\n",
        "\n",
        "plt.title('Actual vs Predicted Sales')\n",
        "plt.xlabel('Month')\n",
        "plt.ylabel('Sales Amount')\n",
        "plt.legend()\n",
        "plt.grid(True)\n",
        "plt.tight_layout()\n",
        "plt.show()\n"
      ],
      "metadata": {
        "colab": {
          "base_uri": "https://localhost:8080/",
          "height": 607
        },
        "id": "3riZiolKfgrD",
        "outputId": "93478a22-0278-4ddb-80d9-f63ce3f1c79d"
      },
      "execution_count": null,
      "outputs": [
        {
          "output_type": "display_data",
          "data": {
            "text/plain": [
              "<Figure size 1000x600 with 1 Axes>"
            ],
            "image/png": "[encoded data removed]"
          },
          "metadata": {}
        }
      ]
    },
    {
      "cell_type": "markdown",
      "source": [
        "#trained in the wole data\n"
      ],
      "metadata": {
        "id": "n4DEG8YQghKW"
      }
    },
    {
      "cell_type": "code",
      "source": [
        "import pandas as pd\n",
        "from prophet import Prophet\n",
        "import matplotlib.pyplot as plt\n",
        "\n",
        "# Load data\n",
        "df = pd.read_excel(\"export_table (1).xlsx\", sheet_name=\"Sheet1\")\n",
        "df['date'] = pd.to_datetime(df['date'], errors='coerce')\n",
        "\n",
        "# Filter data from 2024-01-01 onwards (adjust if you get more history)\n",
        "df_train = df[df['date'] >= '2024-01-01']\n",
        "print(f\"Filtered data starting 2024-01-01: {df_train.shape[0]} rows\")\n",
        "\n",
        "# Aggregate monthly total Quantity\n",
        "monthly = df_train.groupby(pd.Grouper(key='date', freq='ME'))['Quantity'].sum().reset_index()\n",
        "monthly.columns = ['ds', 'y']\n",
        "\n",
        "# Check enough data points\n",
        "if monthly['y'].notna().sum() < 2:\n",
        "    raise ValueError(\"Not enough data points to train Prophet.\")\n",
        "\n",
        "# Visualize monthly data\n",
        "plt.figure(figsize=(10, 6))\n",
        "plt.plot(monthly['ds'], monthly['y'], marker='o')\n",
        "plt.title(\"Monthly Quantity\")\n",
        "plt.xlabel(\"Date\")\n",
        "plt.ylabel(\"Quantity\")\n",
        "plt.grid(True)\n",
        "plt.show()\n",
        "\n",
        "# Initialize Prophet model with more flexible trend and monthly seasonality\n",
        "model = Prophet(changepoint_prior_scale=0.5, yearly_seasonality=True)\n",
        "model.add_seasonality(name='monthly', period=30.5, fourier_order=5)\n",
        "\n",
        "# Fit model\n",
        "model.fit(monthly)\n",
        "\n",
        "# Forecast next 3 months\n",
        "future = model.make_future_dataframe(periods=3, freq='ME')\n",
        "forecast = model.predict(future)\n",
        "\n",
        "# Extract relevant columns\n",
        "forecast_result = forecast[['ds', 'yhat']].copy()\n",
        "forecast_result.columns = ['ds', 'y_predicted']\n",
        "\n",
        "# Merge actual and predicted\n",
        "comparison = pd.merge(monthly, forecast_result, on='ds', how='outer')\n",
        "\n",
        "# Calculate error where actual exists\n",
        "comparison['error'] = comparison['y'] - comparison['y_predicted']\n",
        "\n",
        "# Save results to CSV\n",
        "comparison.to_csv(\"actual_vs_predicted_quantity_tuned.csv\", index=False)\n",
        "\n",
        "print(\"✅ Saved actual vs predicted Quantity with tuning to 'actual_vs_predicted_quantity_tuned.csv'\")\n",
        "\n",
        "# Plot forecast with actual data\n",
        "model.plot(forecast)\n",
        "plt.title(\"Prophet Forecast with Tuned Parameters\")\n",
        "plt.xlabel(\"Date\")\n",
        "plt.ylabel(\"Quantity\")\n",
        "plt.show()\n"
      ],
      "metadata": {
        "colab": {
          "base_uri": "https://localhost:8080/",
          "height": 1000
        },
        "id": "nauizG3FggPf",
        "outputId": "047290d2-7a6c-4378-86e1-25c9a77adce0"
      },
      "execution_count": null,
      "outputs": [
        {
          "output_type": "stream",
          "name": "stdout",
          "text": [
            "Filtered data starting 2024-01-01: 6801 rows\n"
          ]
        },
        {
          "output_type": "display_data",
          "data": {
            "text/plain": [
              "<Figure size 1000x600 with 1 Axes>"
            ],
            "image/png": "[encoded data removed]"
          },
          "metadata": {}
        },
        {
          "output_type": "stream",
          "name": "stderr",
          "text": [
            "INFO:prophet:Disabling weekly seasonality. Run prophet with weekly_seasonality=True to override this.\n",
            "INFO:prophet:Disabling daily seasonality. Run prophet with daily_seasonality=True to override this.\n",
            "INFO:prophet:n_changepoints greater than number of observations. Using 10.\n",
            "DEBUG:cmdstanpy:input tempfile: /tmp/tmpde06q29d/1vrqqe_g.json\n",
            "DEBUG:cmdstanpy:input tempfile: /tmp/tmpde06q29d/l_ebuwtb.json\n",
            "DEBUG:cmdstanpy:idx 0\n",
            "DEBUG:cmdstanpy:running CmdStan, num_threads: None\n",
            "DEBUG:cmdstanpy:CmdStan args: ['/usr/local/lib/python3.11/dist-packages/prophet/stan_model/prophet_model.bin', 'random', 'seed=98414', 'data', 'file=/tmp/tmpde06q29d/1vrqqe_g.json', 'init=/tmp/tmpde06q29d/l_ebuwtb.json', 'output', 'file=/tmp/tmpde06q29d/prophet_model77w2rhha/prophet_model-20250530093828.csv', 'method=optimize', 'algorithm=newton', 'iter=10000']\n",
            "09:38:28 - cmdstanpy - INFO - Chain [1] start processing\n",
            "INFO:cmdstanpy:Chain [1] start processing\n",
            "09:38:43 - cmdstanpy - INFO - Chain [1] done processing\n",
            "INFO:cmdstanpy:Chain [1] done processing\n"
          ]
        },
        {
          "output_type": "stream",
          "name": "stdout",
          "text": [
            "✅ Saved actual vs predicted Quantity with tuning to 'actual_vs_predicted_quantity_tuned.csv'\n"
          ]
        },
        {
          "output_type": "display_data",
          "data": {
            "text/plain": [
              "<Figure size 1000x600 with 1 Axes>"
            ],
            "image/png": "[encoded data removed]"
          },
          "metadata": {}
        }
      ]
    },
    {
      "cell_type": "code",
      "source": [
        "import pandas as pd\n",
        "from prophet import Prophet\n",
        "import matplotlib.pyplot as plt\n",
        "\n",
        "# Load data\n",
        "df = pd.read_excel(\"export_table (1).xlsx\", sheet_name=\"Sheet1\")\n",
        "df['date'] = pd.to_datetime(df['date'], errors='coerce')\n",
        "\n",
        "# Filter data from 2024-01-01 onwards\n",
        "df_train = df[df['date'] >= '2024-01-01']\n",
        "print(f\"Filtered data starting 2024-01-01: {df_train.shape[0]} rows\")\n",
        "\n",
        "# Aggregate monthly total Quantity\n",
        "monthly_quantity = df_train.groupby(pd.Grouper(key='date', freq='ME'))['Quantity'].sum().reset_index()\n",
        "\n",
        "# Rename for Prophet\n",
        "prophet_df = monthly_quantity.rename(columns={'date': 'ds', 'Quantity': 'y'})\n",
        "\n",
        "# Check enough data points\n",
        "if prophet_df['y'].notna().sum() < 2:\n",
        "    raise ValueError(\"Not enough data points to train Prophet.\")\n",
        "\n",
        "# Visualize monthly quantity\n",
        "plt.figure(figsize=(10, 6))\n",
        "plt.plot(monthly_quantity['date'], monthly_quantity['Quantity'], marker='o')\n",
        "plt.title(\"Monthly Quantity\")\n",
        "plt.xlabel(\"Date\")\n",
        "plt.ylabel(\"Quantity\")\n",
        "plt.grid(True)\n",
        "plt.show()\n",
        "\n",
        "# Initialize Prophet with tuning\n",
        "model = Prophet(changepoint_prior_scale=0.5, yearly_seasonality=True)\n",
        "model.add_seasonality(name='monthly', period=30.5, fourier_order=5)\n",
        "\n",
        "# Fit the model\n",
        "model.fit(prophet_df)\n",
        "\n",
        "# Forecast next 3 months\n",
        "future = model.make_future_dataframe(periods=3, freq='ME')\n",
        "forecast = model.predict(future)\n",
        "\n",
        "# Extract relevant columns\n",
        "forecast_result = forecast[['ds', 'yhat']].copy()\n",
        "forecast_result.columns = ['date', 'predicted_quantity']\n",
        "\n",
        "# Merge actual and predicted\n",
        "comparison = pd.merge(monthly_quantity, forecast_result, on='date', how='outer')\n",
        "\n",
        "# Calculate error where actual exists\n",
        "comparison['error'] = comparison['Quantity'] - comparison['predicted_quantity']\n",
        "\n",
        "# Save results\n",
        "comparison.to_csv(\"actual_vs_predicted_quantity_tuned.csv\", index=False)\n",
        "\n",
        "print(\"✅ Saved actual vs predicted Quantity with tuning to 'actual_vs_predicted_quantity_tuned.csv'\")\n",
        "\n",
        "# Plot forecast with actual data\n",
        "model.plot(forecast)\n",
        "plt.title(\"Prophet Forecast with Tuned Parameters\")\n",
        "plt.xlabel(\"Date\")\n",
        "plt.ylabel(\"Quantity\")\n",
        "plt.show()\n"
      ],
      "metadata": {
        "colab": {
          "base_uri": "https://localhost:8080/",
          "height": 1000
        },
        "id": "bthbIPyukMFK",
        "outputId": "5c3af3d0-87b1-4715-999c-9c9e2f94ef89"
      },
      "execution_count": null,
      "outputs": [
        {
          "output_type": "stream",
          "name": "stdout",
          "text": [
            "Filtered data starting 2024-01-01: 6801 rows\n"
          ]
        },
        {
          "output_type": "display_data",
          "data": {
            "text/plain": [
              "<Figure size 1000x600 with 1 Axes>"
            ],
            "image/png": "[encoded data removed]"
          },
          "metadata": {}
        },
        {
          "output_type": "stream",
          "name": "stderr",
          "text": [
            "INFO:prophet:Disabling weekly seasonality. Run prophet with weekly_seasonality=True to override this.\n",
            "INFO:prophet:Disabling daily seasonality. Run prophet with daily_seasonality=True to override this.\n",
            "INFO:prophet:n_changepoints greater than number of observations. Using 10.\n",
            "DEBUG:cmdstanpy:input tempfile: /tmp/tmpde06q29d/u8dtobth.json\n",
            "DEBUG:cmdstanpy:input tempfile: /tmp/tmpde06q29d/k21drihg.json\n",
            "DEBUG:cmdstanpy:idx 0\n",
            "DEBUG:cmdstanpy:running CmdStan, num_threads: None\n",
            "DEBUG:cmdstanpy:CmdStan args: ['/usr/local/lib/python3.11/dist-packages/prophet/stan_model/prophet_model.bin', 'random', 'seed=86930', 'data', 'file=/tmp/tmpde06q29d/u8dtobth.json', 'init=/tmp/tmpde06q29d/k21drihg.json', 'output', 'file=/tmp/tmpde06q29d/prophet_model26duix7_/prophet_model-20250530094052.csv', 'method=optimize', 'algorithm=newton', 'iter=10000']\n",
            "09:40:52 - cmdstanpy - INFO - Chain [1] start processing\n",
            "INFO:cmdstanpy:Chain [1] start processing\n",
            "09:41:08 - cmdstanpy - INFO - Chain [1] done processing\n",
            "INFO:cmdstanpy:Chain [1] done processing\n"
          ]
        },
        {
          "output_type": "stream",
          "name": "stdout",
          "text": [
            "✅ Saved actual vs predicted Quantity with tuning to 'actual_vs_predicted_quantity_tuned.csv'\n"
          ]
        },
        {
          "output_type": "display_data",
          "data": {
            "text/plain": [
              "<Figure size 1000x600 with 1 Axes>"
            ],
            "image/png": "[encoded data removed]"
          },
          "metadata": {}
        }
      ]
    },
    {
      "cell_type": "markdown",
      "source": [
        "##added description"
      ],
      "metadata": {
        "id": "JVuPrgOZniYk"
      }
    },
    {
      "cell_type": "code",
      "source": [
        "import pandas as pd\n",
        "from prophet import Prophet\n",
        "\n",
        "# Load data\n",
        "df = pd.read_excel(\"export_table (1).xlsx\", sheet_name=\"Sheet1\")\n",
        "df['date'] = pd.to_datetime(df['date'], errors='coerce')\n",
        "\n",
        "# Check the date range in your dataset\n",
        "print(f\"Data date range: {df['date'].min()} to {df['date'].max()}\")\n",
        "\n",
        "# Adjust this filter based on the actual data range printed above.\n",
        "# Example: Training on 2024 data, predict first 3 months of 2025\n",
        "df_train = df[(df['date'] >= '2024-01-01') & (df['date'] < '2025-01-01')]\n",
        "print(f\"Training data rows: {df_train.shape[0]}\")\n",
        "\n",
        "# Get unique product descriptions\n",
        "products = df_train['Description'].unique()\n",
        "print(f\"Total unique products: {len(products)}\")\n",
        "\n",
        "results = []\n",
        "\n",
        "for product in products:\n",
        "    product_data = df_train[df_train['Description'] == product]\n",
        "\n",
        "    # Aggregate monthly quantity per product\n",
        "    monthly = product_data.groupby(pd.Grouper(key='date', freq='ME'))['Quantity'].sum().reset_index()\n",
        "    monthly.rename(columns={'date': 'ds', 'Quantity': 'y'}, inplace=True)\n",
        "\n",
        "    valid_points = monthly['y'].notna().sum()\n",
        "    print(f\"Product: {product} | Non-null monthly points: {valid_points}\")\n",
        "\n",
        "    if valid_points < 2:\n",
        "        print(f\"Skipping '{product}' due to insufficient data\")\n",
        "        continue\n",
        "\n",
        "    # Train Prophet model\n",
        "    model = Prophet(changepoint_prior_scale=0.5, yearly_seasonality=True)\n",
        "    model.add_seasonality(name='monthly', period=30.5, fourier_order=5)\n",
        "    model.fit(monthly)\n",
        "\n",
        "    # Forecast next 3 months (e.g., Jan-Mar of next year)\n",
        "    future = model.make_future_dataframe(periods=3, freq='ME')\n",
        "    forecast = model.predict(future)\n",
        "\n",
        "    # Select forecast period only\n",
        "    forecasted = forecast[['ds', 'yhat']].tail(3)\n",
        "    forecasted['Description'] = product\n",
        "\n",
        "    results.append(forecasted)\n",
        "\n",
        "if results:\n",
        "    all_forecasts = pd.concat(results)\n",
        "    all_forecasts.rename(columns={'ds': 'date', 'yhat': 'predicted_quantity'}, inplace=True)\n",
        "    all_forecasts.to_csv(\"forecasted_quantities_per_product.csv\", index=False)\n",
        "    print(\"✅ Saved forecasted quantities per product for next 3 months to 'forecasted_quantities_per_product.csv'\")\n",
        "else:\n",
        "    print(\"❌ No products with sufficient data to forecast.\")\n"
      ],
      "metadata": {
        "colab": {
          "base_uri": "https://localhost:8080/"
        },
        "id": "oArKdJzynha1",
        "outputId": "65551efb-af8b-4990-e352-1f6b2b0cac1b"
      },
      "execution_count": null,
      "outputs": [
        {
          "output_type": "stream",
          "name": "stderr",
          "text": [
            "INFO:prophet:Disabling weekly seasonality. Run prophet with weekly_seasonality=True to override this.\n",
            "INFO:prophet:Disabling daily seasonality. Run prophet with daily_seasonality=True to override this.\n",
            "INFO:prophet:n_changepoints greater than number of observations. Using 7.\n",
            "DEBUG:cmdstanpy:input tempfile: /tmp/tmpde06q29d/jknjzid1.json\n",
            "DEBUG:cmdstanpy:input tempfile: /tmp/tmpde06q29d/noi4rrxy.json\n",
            "DEBUG:cmdstanpy:idx 0\n",
            "DEBUG:cmdstanpy:running CmdStan, num_threads: None\n",
            "DEBUG:cmdstanpy:CmdStan args: ['/usr/local/lib/python3.11/dist-packages/prophet/stan_model/prophet_model.bin', 'random', 'seed=20651', 'data', 'file=/tmp/tmpde06q29d/jknjzid1.json', 'init=/tmp/tmpde06q29d/noi4rrxy.json', 'output', 'file=/tmp/tmpde06q29d/prophet_modelzsod_oq7/prophet_model-20250530095810.csv', 'method=optimize', 'algorithm=newton', 'iter=10000']\n",
            "09:58:10 - cmdstanpy - INFO - Chain [1] start processing\n",
            "INFO:cmdstanpy:Chain [1] start processing\n"
          ]
        },
        {
          "output_type": "stream",
          "name": "stdout",
          "text": [
            "Data date range: 2024-01-02 00:00:00 to 2025-02-25 00:00:00\n",
            "Training data rows: 6411\n",
            "Total unique products: 130\n",
            "Product: THON ENTIER.160 Gr SD-HV-EMBOUT | Non-null monthly points: 11\n"
          ]
        },
        {
          "output_type": "stream",
          "name": "stderr",
          "text": [
            "09:58:23 - cmdstanpy - INFO - Chain [1] done processing\n",
            "INFO:cmdstanpy:Chain [1] done processing\n",
            "INFO:prophet:Disabling weekly seasonality. Run prophet with weekly_seasonality=True to override this.\n",
            "INFO:prophet:Disabling daily seasonality. Run prophet with daily_seasonality=True to override this.\n",
            "INFO:prophet:n_changepoints greater than number of observations. Using 8.\n",
            "DEBUG:cmdstanpy:input tempfile: /tmp/tmpde06q29d/4356agf2.json\n",
            "DEBUG:cmdstanpy:input tempfile: /tmp/tmpde06q29d/umalghw4.json\n",
            "DEBUG:cmdstanpy:idx 0\n",
            "DEBUG:cmdstanpy:running CmdStan, num_threads: None\n",
            "DEBUG:cmdstanpy:CmdStan args: ['/usr/local/lib/python3.11/dist-packages/prophet/stan_model/prophet_model.bin', 'random', 'seed=27775', 'data', 'file=/tmp/tmpde06q29d/4356agf2.json', 'init=/tmp/tmpde06q29d/umalghw4.json', 'output', 'file=/tmp/tmpde06q29d/prophet_model2qxiiptw/prophet_model-20250530095823.csv', 'method=optimize', 'algorithm=newton', 'iter=10000']\n",
            "09:58:23 - cmdstanpy - INFO - Chain [1] start processing\n",
            "INFO:cmdstanpy:Chain [1] start processing\n"
          ]
        },
        {
          "output_type": "stream",
          "name": "stdout",
          "text": [
            "Product: THON ENTIER.620 Gr HV-ON  SD | Non-null monthly points: 12\n"
          ]
        },
        {
          "output_type": "stream",
          "name": "stderr",
          "text": [
            "09:58:35 - cmdstanpy - INFO - Chain [1] done processing\n",
            "INFO:cmdstanpy:Chain [1] done processing\n",
            "INFO:prophet:Disabling weekly seasonality. Run prophet with weekly_seasonality=True to override this.\n",
            "INFO:prophet:Disabling daily seasonality. Run prophet with daily_seasonality=True to override this.\n",
            "INFO:prophet:n_changepoints greater than number of observations. Using 8.\n",
            "DEBUG:cmdstanpy:input tempfile: /tmp/tmpde06q29d/uokg0vj1.json\n",
            "DEBUG:cmdstanpy:input tempfile: /tmp/tmpde06q29d/02a9fljc.json\n",
            "DEBUG:cmdstanpy:idx 0\n",
            "DEBUG:cmdstanpy:running CmdStan, num_threads: None\n",
            "DEBUG:cmdstanpy:CmdStan args: ['/usr/local/lib/python3.11/dist-packages/prophet/stan_model/prophet_model.bin', 'random', 'seed=15811', 'data', 'file=/tmp/tmpde06q29d/uokg0vj1.json', 'init=/tmp/tmpde06q29d/02a9fljc.json', 'output', 'file=/tmp/tmpde06q29d/prophet_modeldh07zg7g/prophet_model-20250530095835.csv', 'method=optimize', 'algorithm=newton', 'iter=10000']\n",
            "09:58:35 - cmdstanpy - INFO - Chain [1] start processing\n",
            "INFO:cmdstanpy:Chain [1] start processing\n"
          ]
        },
        {
          "output_type": "stream",
          "name": "stdout",
          "text": [
            "Product: THON ENTIER 2,050 Kg HV-ON  SD | Non-null monthly points: 12\n"
          ]
        },
        {
          "output_type": "stream",
          "name": "stderr",
          "text": [
            "09:58:47 - cmdstanpy - INFO - Chain [1] done processing\n",
            "INFO:cmdstanpy:Chain [1] done processing\n",
            "INFO:prophet:Disabling weekly seasonality. Run prophet with weekly_seasonality=True to override this.\n",
            "INFO:prophet:Disabling daily seasonality. Run prophet with daily_seasonality=True to override this.\n",
            "INFO:prophet:n_changepoints greater than number of observations. Using 7.\n",
            "DEBUG:cmdstanpy:input tempfile: /tmp/tmpde06q29d/p04_04sw.json\n",
            "DEBUG:cmdstanpy:input tempfile: /tmp/tmpde06q29d/p15e1dv1.json\n",
            "DEBUG:cmdstanpy:idx 0\n",
            "DEBUG:cmdstanpy:running CmdStan, num_threads: None\n",
            "DEBUG:cmdstanpy:CmdStan args: ['/usr/local/lib/python3.11/dist-packages/prophet/stan_model/prophet_model.bin', 'random', 'seed=21680', 'data', 'file=/tmp/tmpde06q29d/p04_04sw.json', 'init=/tmp/tmpde06q29d/p15e1dv1.json', 'output', 'file=/tmp/tmpde06q29d/prophet_modelhz7mtv6t/prophet_model-20250530095847.csv', 'method=optimize', 'algorithm=newton', 'iter=10000']\n",
            "09:58:47 - cmdstanpy - INFO - Chain [1] start processing\n",
            "INFO:cmdstanpy:Chain [1] start processing\n"
          ]
        },
        {
          "output_type": "stream",
          "name": "stdout",
          "text": [
            "Product: THON ENTIER 1,9 kG HO-ON   SD | Non-null monthly points: 11\n"
          ]
        },
        {
          "output_type": "stream",
          "name": "stderr",
          "text": [
            "09:58:59 - cmdstanpy - INFO - Chain [1] done processing\n",
            "INFO:cmdstanpy:Chain [1] done processing\n",
            "INFO:prophet:Disabling weekly seasonality. Run prophet with weekly_seasonality=True to override this.\n",
            "INFO:prophet:Disabling daily seasonality. Run prophet with daily_seasonality=True to override this.\n",
            "INFO:prophet:n_changepoints greater than number of observations. Using 8.\n",
            "DEBUG:cmdstanpy:input tempfile: /tmp/tmpde06q29d/_tno15ck.json\n",
            "DEBUG:cmdstanpy:input tempfile: /tmp/tmpde06q29d/93himwu5.json\n",
            "DEBUG:cmdstanpy:idx 0\n",
            "DEBUG:cmdstanpy:running CmdStan, num_threads: None\n",
            "DEBUG:cmdstanpy:CmdStan args: ['/usr/local/lib/python3.11/dist-packages/prophet/stan_model/prophet_model.bin', 'random', 'seed=69556', 'data', 'file=/tmp/tmpde06q29d/_tno15ck.json', 'init=/tmp/tmpde06q29d/93himwu5.json', 'output', 'file=/tmp/tmpde06q29d/prophet_modelmd8wehqb/prophet_model-20250530095859.csv', 'method=optimize', 'algorithm=newton', 'iter=10000']\n",
            "09:58:59 - cmdstanpy - INFO - Chain [1] start processing\n",
            "INFO:cmdstanpy:Chain [1] start processing\n"
          ]
        },
        {
          "output_type": "stream",
          "name": "stdout",
          "text": [
            "Product: BOITE DE THON 160 GR HO EMBOUT | Non-null monthly points: 12\n"
          ]
        },
        {
          "output_type": "stream",
          "name": "stderr",
          "text": [
            "09:59:11 - cmdstanpy - INFO - Chain [1] done processing\n",
            "INFO:cmdstanpy:Chain [1] done processing\n",
            "INFO:prophet:Disabling weekly seasonality. Run prophet with weekly_seasonality=True to override this.\n",
            "INFO:prophet:Disabling daily seasonality. Run prophet with daily_seasonality=True to override this.\n",
            "INFO:prophet:n_changepoints greater than number of observations. Using 8.\n",
            "DEBUG:cmdstanpy:input tempfile: /tmp/tmpde06q29d/gpb3k_st.json\n",
            "DEBUG:cmdstanpy:input tempfile: /tmp/tmpde06q29d/b2mjo0pm.json\n",
            "DEBUG:cmdstanpy:idx 0\n",
            "DEBUG:cmdstanpy:running CmdStan, num_threads: None\n",
            "DEBUG:cmdstanpy:CmdStan args: ['/usr/local/lib/python3.11/dist-packages/prophet/stan_model/prophet_model.bin', 'random', 'seed=84654', 'data', 'file=/tmp/tmpde06q29d/gpb3k_st.json', 'init=/tmp/tmpde06q29d/b2mjo0pm.json', 'output', 'file=/tmp/tmpde06q29d/prophet_model1sd_p_tp/prophet_model-20250530095911.csv', 'method=optimize', 'algorithm=newton', 'iter=10000']\n",
            "09:59:11 - cmdstanpy - INFO - Chain [1] start processing\n",
            "INFO:cmdstanpy:Chain [1] start processing\n"
          ]
        },
        {
          "output_type": "stream",
          "name": "stdout",
          "text": [
            "Product: THON ENTIER 950 Gr HV-ON   SD | Non-null monthly points: 12\n"
          ]
        },
        {
          "output_type": "stream",
          "name": "stderr",
          "text": [
            "09:59:23 - cmdstanpy - INFO - Chain [1] done processing\n",
            "INFO:cmdstanpy:Chain [1] done processing\n",
            "INFO:prophet:Disabling weekly seasonality. Run prophet with weekly_seasonality=True to override this.\n",
            "INFO:prophet:Disabling daily seasonality. Run prophet with daily_seasonality=True to override this.\n",
            "INFO:prophet:n_changepoints greater than number of observations. Using 8.\n",
            "DEBUG:cmdstanpy:input tempfile: /tmp/tmpde06q29d/7j0dovn0.json\n",
            "DEBUG:cmdstanpy:input tempfile: /tmp/tmpde06q29d/qzmtrkwx.json\n",
            "DEBUG:cmdstanpy:idx 0\n",
            "DEBUG:cmdstanpy:running CmdStan, num_threads: None\n",
            "DEBUG:cmdstanpy:CmdStan args: ['/usr/local/lib/python3.11/dist-packages/prophet/stan_model/prophet_model.bin', 'random', 'seed=36927', 'data', 'file=/tmp/tmpde06q29d/7j0dovn0.json', 'init=/tmp/tmpde06q29d/qzmtrkwx.json', 'output', 'file=/tmp/tmpde06q29d/prophet_modelv8_qlcqr/prophet_model-20250530095923.csv', 'method=optimize', 'algorithm=newton', 'iter=10000']\n",
            "09:59:23 - cmdstanpy - INFO - Chain [1] start processing\n",
            "INFO:cmdstanpy:Chain [1] start processing\n"
          ]
        },
        {
          "output_type": "stream",
          "name": "stdout",
          "text": [
            "Product: FILETS MAQUERAUX 170 Gr HT-OF | Non-null monthly points: 12\n"
          ]
        },
        {
          "output_type": "stream",
          "name": "stderr",
          "text": [
            "09:59:36 - cmdstanpy - INFO - Chain [1] done processing\n",
            "INFO:cmdstanpy:Chain [1] done processing\n",
            "INFO:prophet:Disabling weekly seasonality. Run prophet with weekly_seasonality=True to override this.\n",
            "INFO:prophet:Disabling daily seasonality. Run prophet with daily_seasonality=True to override this.\n",
            "INFO:prophet:n_changepoints greater than number of observations. Using 4.\n",
            "DEBUG:cmdstanpy:input tempfile: /tmp/tmpde06q29d/dy2r3txu.json\n",
            "DEBUG:cmdstanpy:input tempfile: /tmp/tmpde06q29d/tetu4ll4.json\n",
            "DEBUG:cmdstanpy:idx 0\n",
            "DEBUG:cmdstanpy:running CmdStan, num_threads: None\n",
            "DEBUG:cmdstanpy:CmdStan args: ['/usr/local/lib/python3.11/dist-packages/prophet/stan_model/prophet_model.bin', 'random', 'seed=5983', 'data', 'file=/tmp/tmpde06q29d/dy2r3txu.json', 'init=/tmp/tmpde06q29d/tetu4ll4.json', 'output', 'file=/tmp/tmpde06q29d/prophet_modelxjpq5ssu/prophet_model-20250530095936.csv', 'method=optimize', 'algorithm=newton', 'iter=10000']\n",
            "09:59:36 - cmdstanpy - INFO - Chain [1] start processing\n",
            "INFO:cmdstanpy:Chain [1] start processing\n"
          ]
        },
        {
          "output_type": "stream",
          "name": "stdout",
          "text": [
            "Product: LOT 3 BTS SARD.120Gr HO-OF SD | Non-null monthly points: 7\n"
          ]
        },
        {
          "output_type": "stream",
          "name": "stderr",
          "text": [
            "09:59:46 - cmdstanpy - INFO - Chain [1] done processing\n",
            "INFO:cmdstanpy:Chain [1] done processing\n",
            "INFO:prophet:Disabling weekly seasonality. Run prophet with weekly_seasonality=True to override this.\n",
            "INFO:prophet:Disabling daily seasonality. Run prophet with daily_seasonality=True to override this.\n",
            "INFO:prophet:n_changepoints greater than number of observations. Using 3.\n",
            "DEBUG:cmdstanpy:input tempfile: /tmp/tmpde06q29d/0_v76j4y.json\n",
            "DEBUG:cmdstanpy:input tempfile: /tmp/tmpde06q29d/8z7mthw1.json\n",
            "DEBUG:cmdstanpy:idx 0\n",
            "DEBUG:cmdstanpy:running CmdStan, num_threads: None\n",
            "DEBUG:cmdstanpy:CmdStan args: ['/usr/local/lib/python3.11/dist-packages/prophet/stan_model/prophet_model.bin', 'random', 'seed=97150', 'data', 'file=/tmp/tmpde06q29d/0_v76j4y.json', 'init=/tmp/tmpde06q29d/8z7mthw1.json', 'output', 'file=/tmp/tmpde06q29d/prophet_models6ptb6eb/prophet_model-20250530095946.csv', 'method=optimize', 'algorithm=newton', 'iter=10000']\n",
            "09:59:46 - cmdstanpy - INFO - Chain [1] start processing\n",
            "INFO:cmdstanpy:Chain [1] start processing\n"
          ]
        },
        {
          "output_type": "stream",
          "name": "stdout",
          "text": [
            "Product: LOT 3 BTS SARD.120Gr HV-OF SD | Non-null monthly points: 6\n"
          ]
        },
        {
          "output_type": "stream",
          "name": "stderr",
          "text": [
            "09:59:54 - cmdstanpy - INFO - Chain [1] done processing\n",
            "INFO:cmdstanpy:Chain [1] done processing\n",
            "INFO:prophet:Disabling weekly seasonality. Run prophet with weekly_seasonality=True to override this.\n",
            "INFO:prophet:Disabling daily seasonality. Run prophet with daily_seasonality=True to override this.\n",
            "INFO:prophet:n_changepoints greater than number of observations. Using 7.\n",
            "DEBUG:cmdstanpy:input tempfile: /tmp/tmpde06q29d/p62tieam.json\n",
            "DEBUG:cmdstanpy:input tempfile: /tmp/tmpde06q29d/aj5auyyf.json\n",
            "DEBUG:cmdstanpy:idx 0\n",
            "DEBUG:cmdstanpy:running CmdStan, num_threads: None\n",
            "DEBUG:cmdstanpy:CmdStan args: ['/usr/local/lib/python3.11/dist-packages/prophet/stan_model/prophet_model.bin', 'random', 'seed=34736', 'data', 'file=/tmp/tmpde06q29d/p62tieam.json', 'init=/tmp/tmpde06q29d/aj5auyyf.json', 'output', 'file=/tmp/tmpde06q29d/prophet_model3dcvwn_3/prophet_model-20250530095955.csv', 'method=optimize', 'algorithm=newton', 'iter=10000']\n",
            "09:59:55 - cmdstanpy - INFO - Chain [1] start processing\n",
            "INFO:cmdstanpy:Chain [1] start processing\n"
          ]
        },
        {
          "output_type": "stream",
          "name": "stdout",
          "text": [
            "Product: BOITE DE THON 80 GR HO EMBOUT | Non-null monthly points: 10\n"
          ]
        },
        {
          "output_type": "stream",
          "name": "stderr",
          "text": [
            "10:00:06 - cmdstanpy - INFO - Chain [1] done processing\n",
            "INFO:cmdstanpy:Chain [1] done processing\n",
            "INFO:prophet:Disabling weekly seasonality. Run prophet with weekly_seasonality=True to override this.\n",
            "INFO:prophet:Disabling daily seasonality. Run prophet with daily_seasonality=True to override this.\n",
            "INFO:prophet:n_changepoints greater than number of observations. Using 8.\n",
            "DEBUG:cmdstanpy:input tempfile: /tmp/tmpde06q29d/gyrhcyah.json\n",
            "DEBUG:cmdstanpy:input tempfile: /tmp/tmpde06q29d/n5qis21o.json\n",
            "DEBUG:cmdstanpy:idx 0\n",
            "DEBUG:cmdstanpy:running CmdStan, num_threads: None\n",
            "DEBUG:cmdstanpy:CmdStan args: ['/usr/local/lib/python3.11/dist-packages/prophet/stan_model/prophet_model.bin', 'random', 'seed=89297', 'data', 'file=/tmp/tmpde06q29d/gyrhcyah.json', 'init=/tmp/tmpde06q29d/n5qis21o.json', 'output', 'file=/tmp/tmpde06q29d/prophet_modelskj84nab/prophet_model-20250530100006.csv', 'method=optimize', 'algorithm=newton', 'iter=10000']\n",
            "10:00:06 - cmdstanpy - INFO - Chain [1] start processing\n",
            "INFO:cmdstanpy:Chain [1] start processing\n"
          ]
        },
        {
          "output_type": "stream",
          "name": "stdout",
          "text": [
            "Product: BOITE DE THON 400 HV -SD | Non-null monthly points: 12\n"
          ]
        },
        {
          "output_type": "stream",
          "name": "stderr",
          "text": [
            "10:00:18 - cmdstanpy - INFO - Chain [1] done processing\n",
            "INFO:cmdstanpy:Chain [1] done processing\n",
            "INFO:prophet:Disabling weekly seasonality. Run prophet with weekly_seasonality=True to override this.\n",
            "INFO:prophet:Disabling daily seasonality. Run prophet with daily_seasonality=True to override this.\n",
            "INFO:prophet:n_changepoints greater than number of observations. Using 8.\n",
            "DEBUG:cmdstanpy:input tempfile: /tmp/tmpde06q29d/5qn8g5br.json\n",
            "DEBUG:cmdstanpy:input tempfile: /tmp/tmpde06q29d/r0391eyp.json\n",
            "DEBUG:cmdstanpy:idx 0\n",
            "DEBUG:cmdstanpy:running CmdStan, num_threads: None\n",
            "DEBUG:cmdstanpy:CmdStan args: ['/usr/local/lib/python3.11/dist-packages/prophet/stan_model/prophet_model.bin', 'random', 'seed=88028', 'data', 'file=/tmp/tmpde06q29d/5qn8g5br.json', 'init=/tmp/tmpde06q29d/r0391eyp.json', 'output', 'file=/tmp/tmpde06q29d/prophet_model_8qzo36h/prophet_model-20250530100018.csv', 'method=optimize', 'algorithm=newton', 'iter=10000']\n",
            "10:00:18 - cmdstanpy - INFO - Chain [1] start processing\n",
            "INFO:cmdstanpy:Chain [1] start processing\n"
          ]
        },
        {
          "output_type": "stream",
          "name": "stdout",
          "text": [
            "Product: SARDINES 120 Gr HO-OF SD | Non-null monthly points: 12\n"
          ]
        },
        {
          "output_type": "stream",
          "name": "stderr",
          "text": [
            "10:00:30 - cmdstanpy - INFO - Chain [1] done processing\n",
            "INFO:cmdstanpy:Chain [1] done processing\n",
            "INFO:prophet:Disabling weekly seasonality. Run prophet with weekly_seasonality=True to override this.\n",
            "INFO:prophet:Disabling daily seasonality. Run prophet with daily_seasonality=True to override this.\n",
            "INFO:prophet:n_changepoints greater than number of observations. Using 8.\n",
            "DEBUG:cmdstanpy:input tempfile: /tmp/tmpde06q29d/0px9il2q.json\n",
            "DEBUG:cmdstanpy:input tempfile: /tmp/tmpde06q29d/cdou5boy.json\n",
            "DEBUG:cmdstanpy:idx 0\n",
            "DEBUG:cmdstanpy:running CmdStan, num_threads: None\n",
            "DEBUG:cmdstanpy:CmdStan args: ['/usr/local/lib/python3.11/dist-packages/prophet/stan_model/prophet_model.bin', 'random', 'seed=34541', 'data', 'file=/tmp/tmpde06q29d/0px9il2q.json', 'init=/tmp/tmpde06q29d/cdou5boy.json', 'output', 'file=/tmp/tmpde06q29d/prophet_modelrvhybqfj/prophet_model-20250530100030.csv', 'method=optimize', 'algorithm=newton', 'iter=10000']\n",
            "10:00:30 - cmdstanpy - INFO - Chain [1] start processing\n",
            "INFO:cmdstanpy:Chain [1] start processing\n"
          ]
        },
        {
          "output_type": "stream",
          "name": "stdout",
          "text": [
            "Product: SARDINES 120 Gr TO-OF SD | Non-null monthly points: 12\n"
          ]
        },
        {
          "output_type": "stream",
          "name": "stderr",
          "text": [
            "10:00:42 - cmdstanpy - INFO - Chain [1] done processing\n",
            "INFO:cmdstanpy:Chain [1] done processing\n",
            "INFO:prophet:Disabling weekly seasonality. Run prophet with weekly_seasonality=True to override this.\n",
            "INFO:prophet:Disabling daily seasonality. Run prophet with daily_seasonality=True to override this.\n",
            "INFO:prophet:n_changepoints greater than number of observations. Using 8.\n",
            "DEBUG:cmdstanpy:input tempfile: /tmp/tmpde06q29d/5g954w35.json\n",
            "DEBUG:cmdstanpy:input tempfile: /tmp/tmpde06q29d/1fh9pg7x.json\n",
            "DEBUG:cmdstanpy:idx 0\n",
            "DEBUG:cmdstanpy:running CmdStan, num_threads: None\n",
            "DEBUG:cmdstanpy:CmdStan args: ['/usr/local/lib/python3.11/dist-packages/prophet/stan_model/prophet_model.bin', 'random', 'seed=16023', 'data', 'file=/tmp/tmpde06q29d/5g954w35.json', 'init=/tmp/tmpde06q29d/1fh9pg7x.json', 'output', 'file=/tmp/tmpde06q29d/prophet_modelx33qb1ee/prophet_model-20250530100042.csv', 'method=optimize', 'algorithm=newton', 'iter=10000']\n",
            "10:00:42 - cmdstanpy - INFO - Chain [1] start processing\n",
            "INFO:cmdstanpy:Chain [1] start processing\n"
          ]
        },
        {
          "output_type": "stream",
          "name": "stdout",
          "text": [
            "Product: SARDINES 120 Gr HV-OF SD | Non-null monthly points: 12\n"
          ]
        },
        {
          "output_type": "stream",
          "name": "stderr",
          "text": [
            "10:00:54 - cmdstanpy - INFO - Chain [1] done processing\n",
            "INFO:cmdstanpy:Chain [1] done processing\n",
            "INFO:prophet:Disabling weekly seasonality. Run prophet with weekly_seasonality=True to override this.\n",
            "INFO:prophet:Disabling daily seasonality. Run prophet with daily_seasonality=True to override this.\n",
            "INFO:prophet:n_changepoints greater than number of observations. Using 7.\n",
            "DEBUG:cmdstanpy:input tempfile: /tmp/tmpde06q29d/wtmhrelh.json\n",
            "DEBUG:cmdstanpy:input tempfile: /tmp/tmpde06q29d/1q607j0p.json\n",
            "DEBUG:cmdstanpy:idx 0\n",
            "DEBUG:cmdstanpy:running CmdStan, num_threads: None\n",
            "DEBUG:cmdstanpy:CmdStan args: ['/usr/local/lib/python3.11/dist-packages/prophet/stan_model/prophet_model.bin', 'random', 'seed=61950', 'data', 'file=/tmp/tmpde06q29d/wtmhrelh.json', 'init=/tmp/tmpde06q29d/1q607j0p.json', 'output', 'file=/tmp/tmpde06q29d/prophet_model009c610h/prophet_model-20250530100054.csv', 'method=optimize', 'algorithm=newton', 'iter=10000']\n",
            "10:00:54 - cmdstanpy - INFO - Chain [1] start processing\n",
            "INFO:cmdstanpy:Chain [1] start processing\n"
          ]
        },
        {
          "output_type": "stream",
          "name": "stdout",
          "text": [
            "Product: SARDINES 120 Gr CI-OF SD | Non-null monthly points: 11\n"
          ]
        },
        {
          "output_type": "stream",
          "name": "stderr",
          "text": [
            "10:01:06 - cmdstanpy - INFO - Chain [1] done processing\n",
            "INFO:cmdstanpy:Chain [1] done processing\n",
            "INFO:prophet:Disabling weekly seasonality. Run prophet with weekly_seasonality=True to override this.\n",
            "INFO:prophet:Disabling daily seasonality. Run prophet with daily_seasonality=True to override this.\n",
            "INFO:prophet:n_changepoints greater than number of observations. Using 8.\n",
            "DEBUG:cmdstanpy:input tempfile: /tmp/tmpde06q29d/hd8mznoh.json\n",
            "DEBUG:cmdstanpy:input tempfile: /tmp/tmpde06q29d/hr1g5arg.json\n",
            "DEBUG:cmdstanpy:idx 0\n",
            "DEBUG:cmdstanpy:running CmdStan, num_threads: None\n",
            "DEBUG:cmdstanpy:CmdStan args: ['/usr/local/lib/python3.11/dist-packages/prophet/stan_model/prophet_model.bin', 'random', 'seed=94493', 'data', 'file=/tmp/tmpde06q29d/hd8mznoh.json', 'init=/tmp/tmpde06q29d/hr1g5arg.json', 'output', 'file=/tmp/tmpde06q29d/prophet_modelb9v7nhog/prophet_model-20250530100106.csv', 'method=optimize', 'algorithm=newton', 'iter=10000']\n",
            "10:01:06 - cmdstanpy - INFO - Chain [1] start processing\n",
            "INFO:cmdstanpy:Chain [1] start processing\n"
          ]
        },
        {
          "output_type": "stream",
          "name": "stdout",
          "text": [
            "Product: SARDINES 120 Gr HA-OF SD | Non-null monthly points: 12\n"
          ]
        },
        {
          "output_type": "stream",
          "name": "stderr",
          "text": [
            "10:01:18 - cmdstanpy - INFO - Chain [1] done processing\n",
            "INFO:cmdstanpy:Chain [1] done processing\n",
            "INFO:prophet:Disabling weekly seasonality. Run prophet with weekly_seasonality=True to override this.\n",
            "INFO:prophet:Disabling daily seasonality. Run prophet with daily_seasonality=True to override this.\n",
            "INFO:prophet:n_changepoints greater than number of observations. Using 8.\n",
            "DEBUG:cmdstanpy:input tempfile: /tmp/tmpde06q29d/g87ewxg9.json\n",
            "DEBUG:cmdstanpy:input tempfile: /tmp/tmpde06q29d/0dhuwfg6.json\n",
            "DEBUG:cmdstanpy:idx 0\n",
            "DEBUG:cmdstanpy:running CmdStan, num_threads: None\n",
            "DEBUG:cmdstanpy:CmdStan args: ['/usr/local/lib/python3.11/dist-packages/prophet/stan_model/prophet_model.bin', 'random', 'seed=62870', 'data', 'file=/tmp/tmpde06q29d/g87ewxg9.json', 'init=/tmp/tmpde06q29d/0dhuwfg6.json', 'output', 'file=/tmp/tmpde06q29d/prophet_modelaovwobtr/prophet_model-20250530100118.csv', 'method=optimize', 'algorithm=newton', 'iter=10000']\n",
            "10:01:18 - cmdstanpy - INFO - Chain [1] start processing\n",
            "INFO:cmdstanpy:Chain [1] start processing\n"
          ]
        },
        {
          "output_type": "stream",
          "name": "stdout",
          "text": [
            "Product: LOT 3 BTS OEUF DE THON 120 Gr | Non-null monthly points: 12\n"
          ]
        },
        {
          "output_type": "stream",
          "name": "stderr",
          "text": [
            "10:01:30 - cmdstanpy - INFO - Chain [1] done processing\n",
            "INFO:cmdstanpy:Chain [1] done processing\n",
            "INFO:prophet:Disabling weekly seasonality. Run prophet with weekly_seasonality=True to override this.\n",
            "INFO:prophet:Disabling daily seasonality. Run prophet with daily_seasonality=True to override this.\n",
            "INFO:prophet:n_changepoints greater than number of observations. Using 8.\n",
            "DEBUG:cmdstanpy:input tempfile: /tmp/tmpde06q29d/kmfc_w2b.json\n",
            "DEBUG:cmdstanpy:input tempfile: /tmp/tmpde06q29d/0o2ojve7.json\n",
            "DEBUG:cmdstanpy:idx 0\n",
            "DEBUG:cmdstanpy:running CmdStan, num_threads: None\n",
            "DEBUG:cmdstanpy:CmdStan args: ['/usr/local/lib/python3.11/dist-packages/prophet/stan_model/prophet_model.bin', 'random', 'seed=28183', 'data', 'file=/tmp/tmpde06q29d/kmfc_w2b.json', 'init=/tmp/tmpde06q29d/0o2ojve7.json', 'output', 'file=/tmp/tmpde06q29d/prophet_modeln7aopgks/prophet_model-20250530100130.csv', 'method=optimize', 'algorithm=newton', 'iter=10000']\n",
            "10:01:30 - cmdstanpy - INFO - Chain [1] start processing\n",
            "INFO:cmdstanpy:Chain [1] start processing\n"
          ]
        },
        {
          "output_type": "stream",
          "name": "stdout",
          "text": [
            "Product: THON ENTIER FRAIS 160 HO-OF SD | Non-null monthly points: 12\n"
          ]
        },
        {
          "output_type": "stream",
          "name": "stderr",
          "text": [
            "10:01:42 - cmdstanpy - INFO - Chain [1] done processing\n",
            "INFO:cmdstanpy:Chain [1] done processing\n",
            "INFO:prophet:Disabling weekly seasonality. Run prophet with weekly_seasonality=True to override this.\n",
            "INFO:prophet:Disabling daily seasonality. Run prophet with daily_seasonality=True to override this.\n",
            "INFO:prophet:n_changepoints greater than number of observations. Using 7.\n",
            "DEBUG:cmdstanpy:input tempfile: /tmp/tmpde06q29d/dhsv64gj.json\n",
            "DEBUG:cmdstanpy:input tempfile: /tmp/tmpde06q29d/_ubhald7.json\n",
            "DEBUG:cmdstanpy:idx 0\n",
            "DEBUG:cmdstanpy:running CmdStan, num_threads: None\n",
            "DEBUG:cmdstanpy:CmdStan args: ['/usr/local/lib/python3.11/dist-packages/prophet/stan_model/prophet_model.bin', 'random', 'seed=30057', 'data', 'file=/tmp/tmpde06q29d/dhsv64gj.json', 'init=/tmp/tmpde06q29d/_ubhald7.json', 'output', 'file=/tmp/tmpde06q29d/prophet_model9x0xssky/prophet_model-20250530100142.csv', 'method=optimize', 'algorithm=newton', 'iter=10000']\n",
            "10:01:42 - cmdstanpy - INFO - Chain [1] start processing\n",
            "INFO:cmdstanpy:Chain [1] start processing\n"
          ]
        },
        {
          "output_type": "stream",
          "name": "stdout",
          "text": [
            "Product: BOCAUX FIL THON 190Gr HO SD | Non-null monthly points: 11\n"
          ]
        },
        {
          "output_type": "stream",
          "name": "stderr",
          "text": [
            "10:01:54 - cmdstanpy - INFO - Chain [1] done processing\n",
            "INFO:cmdstanpy:Chain [1] done processing\n",
            "INFO:prophet:Disabling weekly seasonality. Run prophet with weekly_seasonality=True to override this.\n",
            "INFO:prophet:Disabling daily seasonality. Run prophet with daily_seasonality=True to override this.\n",
            "INFO:prophet:n_changepoints greater than number of observations. Using 4.\n",
            "DEBUG:cmdstanpy:input tempfile: /tmp/tmpde06q29d/w6f7bcru.json\n",
            "DEBUG:cmdstanpy:input tempfile: /tmp/tmpde06q29d/igzhi5sx.json\n",
            "DEBUG:cmdstanpy:idx 0\n",
            "DEBUG:cmdstanpy:running CmdStan, num_threads: None\n",
            "DEBUG:cmdstanpy:CmdStan args: ['/usr/local/lib/python3.11/dist-packages/prophet/stan_model/prophet_model.bin', 'random', 'seed=92220', 'data', 'file=/tmp/tmpde06q29d/w6f7bcru.json', 'init=/tmp/tmpde06q29d/igzhi5sx.json', 'output', 'file=/tmp/tmpde06q29d/prophet_modeluzwvmex2/prophet_model-20250530100154.csv', 'method=optimize', 'algorithm=newton', 'iter=10000']\n",
            "10:01:54 - cmdstanpy - INFO - Chain [1] start processing\n",
            "INFO:cmdstanpy:Chain [1] start processing\n"
          ]
        },
        {
          "output_type": "stream",
          "name": "stdout",
          "text": [
            "Product: FILETS ANCHOIS 55 GR HO SD | Non-null monthly points: 7\n"
          ]
        },
        {
          "output_type": "stream",
          "name": "stderr",
          "text": [
            "10:02:04 - cmdstanpy - INFO - Chain [1] done processing\n",
            "INFO:cmdstanpy:Chain [1] done processing\n",
            "INFO:prophet:Disabling weekly seasonality. Run prophet with weekly_seasonality=True to override this.\n",
            "INFO:prophet:Disabling daily seasonality. Run prophet with daily_seasonality=True to override this.\n",
            "INFO:prophet:n_changepoints greater than number of observations. Using 6.\n",
            "DEBUG:cmdstanpy:input tempfile: /tmp/tmpde06q29d/114ptmsm.json\n",
            "DEBUG:cmdstanpy:input tempfile: /tmp/tmpde06q29d/7hzbh7pu.json\n",
            "DEBUG:cmdstanpy:idx 0\n",
            "DEBUG:cmdstanpy:running CmdStan, num_threads: None\n",
            "DEBUG:cmdstanpy:CmdStan args: ['/usr/local/lib/python3.11/dist-packages/prophet/stan_model/prophet_model.bin', 'random', 'seed=28355', 'data', 'file=/tmp/tmpde06q29d/114ptmsm.json', 'init=/tmp/tmpde06q29d/7hzbh7pu.json', 'output', 'file=/tmp/tmpde06q29d/prophet_model5lad9ax1/prophet_model-20250530100204.csv', 'method=optimize', 'algorithm=newton', 'iter=10000']\n",
            "10:02:04 - cmdstanpy - INFO - Chain [1] start processing\n",
            "INFO:cmdstanpy:Chain [1] start processing\n"
          ]
        },
        {
          "output_type": "stream",
          "name": "stdout",
          "text": [
            "Product: ALU.FILET THON 125 Gr Au Ci SD | Non-null monthly points: 9\n"
          ]
        },
        {
          "output_type": "stream",
          "name": "stderr",
          "text": [
            "10:02:14 - cmdstanpy - INFO - Chain [1] done processing\n",
            "INFO:cmdstanpy:Chain [1] done processing\n",
            "INFO:prophet:Disabling weekly seasonality. Run prophet with weekly_seasonality=True to override this.\n",
            "INFO:prophet:Disabling daily seasonality. Run prophet with daily_seasonality=True to override this.\n",
            "INFO:prophet:n_changepoints greater than number of observations. Using 4.\n",
            "DEBUG:cmdstanpy:input tempfile: /tmp/tmpde06q29d/jj35vk0v.json\n",
            "DEBUG:cmdstanpy:input tempfile: /tmp/tmpde06q29d/osq0kih8.json\n",
            "DEBUG:cmdstanpy:idx 0\n",
            "DEBUG:cmdstanpy:running CmdStan, num_threads: None\n",
            "DEBUG:cmdstanpy:CmdStan args: ['/usr/local/lib/python3.11/dist-packages/prophet/stan_model/prophet_model.bin', 'random', 'seed=17671', 'data', 'file=/tmp/tmpde06q29d/jj35vk0v.json', 'init=/tmp/tmpde06q29d/osq0kih8.json', 'output', 'file=/tmp/tmpde06q29d/prophet_modelv99p5949/prophet_model-20250530100214.csv', 'method=optimize', 'algorithm=newton', 'iter=10000']\n",
            "10:02:14 - cmdstanpy - INFO - Chain [1] start processing\n",
            "INFO:cmdstanpy:Chain [1] start processing\n"
          ]
        },
        {
          "output_type": "stream",
          "name": "stdout",
          "text": [
            "Product: BOCAUX ANCHOIS 85Gr HT-PI-SD | Non-null monthly points: 7\n"
          ]
        },
        {
          "output_type": "stream",
          "name": "stderr",
          "text": [
            "10:02:24 - cmdstanpy - INFO - Chain [1] done processing\n",
            "INFO:cmdstanpy:Chain [1] done processing\n",
            "INFO:prophet:Disabling weekly seasonality. Run prophet with weekly_seasonality=True to override this.\n",
            "INFO:prophet:Disabling daily seasonality. Run prophet with daily_seasonality=True to override this.\n",
            "INFO:prophet:n_changepoints greater than number of observations. Using 5.\n",
            "DEBUG:cmdstanpy:input tempfile: /tmp/tmpde06q29d/pfix9iqv.json\n",
            "DEBUG:cmdstanpy:input tempfile: /tmp/tmpde06q29d/5l9ue4gk.json\n",
            "DEBUG:cmdstanpy:idx 0\n",
            "DEBUG:cmdstanpy:running CmdStan, num_threads: None\n",
            "DEBUG:cmdstanpy:CmdStan args: ['/usr/local/lib/python3.11/dist-packages/prophet/stan_model/prophet_model.bin', 'random', 'seed=33505', 'data', 'file=/tmp/tmpde06q29d/pfix9iqv.json', 'init=/tmp/tmpde06q29d/5l9ue4gk.json', 'output', 'file=/tmp/tmpde06q29d/prophet_modelcth_dpwa/prophet_model-20250530100224.csv', 'method=optimize', 'algorithm=newton', 'iter=10000']\n",
            "10:02:24 - cmdstanpy - INFO - Chain [1] start processing\n",
            "INFO:cmdstanpy:Chain [1] start processing\n"
          ]
        },
        {
          "output_type": "stream",
          "name": "stdout",
          "text": [
            "Product: LOT 3 BTS SARD.120Gr CI-OF SD | Non-null monthly points: 8\n"
          ]
        },
        {
          "output_type": "stream",
          "name": "stderr",
          "text": [
            "10:02:31 - cmdstanpy - INFO - Chain [1] done processing\n",
            "INFO:cmdstanpy:Chain [1] done processing\n",
            "INFO:prophet:Disabling weekly seasonality. Run prophet with weekly_seasonality=True to override this.\n",
            "INFO:prophet:Disabling daily seasonality. Run prophet with daily_seasonality=True to override this.\n",
            "INFO:prophet:n_changepoints greater than number of observations. Using 8.\n",
            "DEBUG:cmdstanpy:input tempfile: /tmp/tmpde06q29d/b1skz9ig.json\n",
            "DEBUG:cmdstanpy:input tempfile: /tmp/tmpde06q29d/xpjq2e98.json\n",
            "DEBUG:cmdstanpy:idx 0\n",
            "DEBUG:cmdstanpy:running CmdStan, num_threads: None\n",
            "DEBUG:cmdstanpy:CmdStan args: ['/usr/local/lib/python3.11/dist-packages/prophet/stan_model/prophet_model.bin', 'random', 'seed=38914', 'data', 'file=/tmp/tmpde06q29d/b1skz9ig.json', 'init=/tmp/tmpde06q29d/xpjq2e98.json', 'output', 'file=/tmp/tmpde06q29d/prophet_modelnklagdth/prophet_model-20250530100231.csv', 'method=optimize', 'algorithm=newton', 'iter=10000']\n",
            "10:02:31 - cmdstanpy - INFO - Chain [1] start processing\n",
            "INFO:cmdstanpy:Chain [1] start processing\n"
          ]
        },
        {
          "output_type": "stream",
          "name": "stdout",
          "text": [
            "Product: BOITE THON  400 GR AU NATUREL | Non-null monthly points: 12\n"
          ]
        },
        {
          "output_type": "stream",
          "name": "stderr",
          "text": [
            "10:02:43 - cmdstanpy - INFO - Chain [1] done processing\n",
            "INFO:cmdstanpy:Chain [1] done processing\n",
            "INFO:prophet:Disabling weekly seasonality. Run prophet with weekly_seasonality=True to override this.\n",
            "INFO:prophet:Disabling daily seasonality. Run prophet with daily_seasonality=True to override this.\n",
            "INFO:prophet:n_changepoints greater than number of observations. Using 8.\n",
            "DEBUG:cmdstanpy:input tempfile: /tmp/tmpde06q29d/dlxjq63q.json\n",
            "DEBUG:cmdstanpy:input tempfile: /tmp/tmpde06q29d/a5zivqgb.json\n",
            "DEBUG:cmdstanpy:idx 0\n",
            "DEBUG:cmdstanpy:running CmdStan, num_threads: None\n",
            "DEBUG:cmdstanpy:CmdStan args: ['/usr/local/lib/python3.11/dist-packages/prophet/stan_model/prophet_model.bin', 'random', 'seed=51751', 'data', 'file=/tmp/tmpde06q29d/dlxjq63q.json', 'init=/tmp/tmpde06q29d/a5zivqgb.json', 'output', 'file=/tmp/tmpde06q29d/prophet_model3wgghbou/prophet_model-20250530100243.csv', 'method=optimize', 'algorithm=newton', 'iter=10000']\n",
            "10:02:43 - cmdstanpy - INFO - Chain [1] start processing\n",
            "INFO:cmdstanpy:Chain [1] start processing\n"
          ]
        },
        {
          "output_type": "stream",
          "name": "stdout",
          "text": [
            "Product: BOITE DE THON 80 GR HV EMBOUT | Non-null monthly points: 12\n"
          ]
        },
        {
          "output_type": "stream",
          "name": "stderr",
          "text": [
            "10:02:55 - cmdstanpy - INFO - Chain [1] done processing\n",
            "INFO:cmdstanpy:Chain [1] done processing\n",
            "INFO:prophet:Disabling weekly seasonality. Run prophet with weekly_seasonality=True to override this.\n",
            "INFO:prophet:Disabling daily seasonality. Run prophet with daily_seasonality=True to override this.\n",
            "INFO:prophet:n_changepoints greater than number of observations. Using 8.\n",
            "DEBUG:cmdstanpy:input tempfile: /tmp/tmpde06q29d/x_cxg958.json\n",
            "DEBUG:cmdstanpy:input tempfile: /tmp/tmpde06q29d/kgzserdr.json\n",
            "DEBUG:cmdstanpy:idx 0\n",
            "DEBUG:cmdstanpy:running CmdStan, num_threads: None\n",
            "DEBUG:cmdstanpy:CmdStan args: ['/usr/local/lib/python3.11/dist-packages/prophet/stan_model/prophet_model.bin', 'random', 'seed=39270', 'data', 'file=/tmp/tmpde06q29d/x_cxg958.json', 'init=/tmp/tmpde06q29d/kgzserdr.json', 'output', 'file=/tmp/tmpde06q29d/prophet_modelcjjxo_t2/prophet_model-20250530100255.csv', 'method=optimize', 'algorithm=newton', 'iter=10000']\n",
            "10:02:55 - cmdstanpy - INFO - Chain [1] start processing\n",
            "INFO:cmdstanpy:Chain [1] start processing\n"
          ]
        },
        {
          "output_type": "stream",
          "name": "stdout",
          "text": [
            "Product: THON ENTIER 2 kG -HO-ON   SD | Non-null monthly points: 12\n"
          ]
        },
        {
          "output_type": "stream",
          "name": "stderr",
          "text": [
            "10:03:06 - cmdstanpy - INFO - Chain [1] done processing\n",
            "INFO:cmdstanpy:Chain [1] done processing\n",
            "INFO:prophet:Disabling weekly seasonality. Run prophet with weekly_seasonality=True to override this.\n",
            "INFO:prophet:Disabling daily seasonality. Run prophet with daily_seasonality=True to override this.\n",
            "INFO:prophet:n_changepoints greater than number of observations. Using 7.\n",
            "DEBUG:cmdstanpy:input tempfile: /tmp/tmpde06q29d/ecr14clx.json\n",
            "DEBUG:cmdstanpy:input tempfile: /tmp/tmpde06q29d/e_v_xz5w.json\n",
            "DEBUG:cmdstanpy:idx 0\n",
            "DEBUG:cmdstanpy:running CmdStan, num_threads: None\n",
            "DEBUG:cmdstanpy:CmdStan args: ['/usr/local/lib/python3.11/dist-packages/prophet/stan_model/prophet_model.bin', 'random', 'seed=60690', 'data', 'file=/tmp/tmpde06q29d/ecr14clx.json', 'init=/tmp/tmpde06q29d/e_v_xz5w.json', 'output', 'file=/tmp/tmpde06q29d/prophet_model7lv1e_88/prophet_model-20250530100306.csv', 'method=optimize', 'algorithm=newton', 'iter=10000']\n",
            "10:03:06 - cmdstanpy - INFO - Chain [1] start processing\n",
            "INFO:cmdstanpy:Chain [1] start processing\n"
          ]
        },
        {
          "output_type": "stream",
          "name": "stdout",
          "text": [
            "Product: LOT 3 BTS SARD.120Gr TO-OF SD | Non-null monthly points: 10\n"
          ]
        },
        {
          "output_type": "stream",
          "name": "stderr",
          "text": [
            "10:03:18 - cmdstanpy - INFO - Chain [1] done processing\n",
            "INFO:cmdstanpy:Chain [1] done processing\n",
            "INFO:prophet:Disabling weekly seasonality. Run prophet with weekly_seasonality=True to override this.\n",
            "INFO:prophet:Disabling daily seasonality. Run prophet with daily_seasonality=True to override this.\n",
            "INFO:prophet:n_changepoints greater than number of observations. Using 7.\n",
            "DEBUG:cmdstanpy:input tempfile: /tmp/tmpde06q29d/yn89_9tw.json\n",
            "DEBUG:cmdstanpy:input tempfile: /tmp/tmpde06q29d/ps_k7v9d.json\n",
            "DEBUG:cmdstanpy:idx 0\n",
            "DEBUG:cmdstanpy:running CmdStan, num_threads: None\n",
            "DEBUG:cmdstanpy:CmdStan args: ['/usr/local/lib/python3.11/dist-packages/prophet/stan_model/prophet_model.bin', 'random', 'seed=63724', 'data', 'file=/tmp/tmpde06q29d/yn89_9tw.json', 'init=/tmp/tmpde06q29d/ps_k7v9d.json', 'output', 'file=/tmp/tmpde06q29d/prophet_model5qd62wpb/prophet_model-20250530100318.csv', 'method=optimize', 'algorithm=newton', 'iter=10000']\n",
            "10:03:18 - cmdstanpy - INFO - Chain [1] start processing\n",
            "INFO:cmdstanpy:Chain [1] start processing\n"
          ]
        },
        {
          "output_type": "stream",
          "name": "stdout",
          "text": [
            "Product: THON ENTIER.160 Gr SD-NAT-FP | Non-null monthly points: 11\n"
          ]
        },
        {
          "output_type": "stream",
          "name": "stderr",
          "text": [
            "10:03:30 - cmdstanpy - INFO - Chain [1] done processing\n",
            "INFO:cmdstanpy:Chain [1] done processing\n",
            "INFO:prophet:Disabling weekly seasonality. Run prophet with weekly_seasonality=True to override this.\n",
            "INFO:prophet:Disabling daily seasonality. Run prophet with daily_seasonality=True to override this.\n",
            "INFO:prophet:n_changepoints greater than number of observations. Using 7.\n",
            "DEBUG:cmdstanpy:input tempfile: /tmp/tmpde06q29d/xfnc1epp.json\n",
            "DEBUG:cmdstanpy:input tempfile: /tmp/tmpde06q29d/_to6lqs5.json\n",
            "DEBUG:cmdstanpy:idx 0\n",
            "DEBUG:cmdstanpy:running CmdStan, num_threads: None\n",
            "DEBUG:cmdstanpy:CmdStan args: ['/usr/local/lib/python3.11/dist-packages/prophet/stan_model/prophet_model.bin', 'random', 'seed=77346', 'data', 'file=/tmp/tmpde06q29d/xfnc1epp.json', 'init=/tmp/tmpde06q29d/_to6lqs5.json', 'output', 'file=/tmp/tmpde06q29d/prophet_modelx04cdrpm/prophet_model-20250530100330.csv', 'method=optimize', 'algorithm=newton', 'iter=10000']\n",
            "10:03:30 - cmdstanpy - INFO - Chain [1] start processing\n",
            "INFO:cmdstanpy:Chain [1] start processing\n"
          ]
        },
        {
          "output_type": "stream",
          "name": "stdout",
          "text": [
            "Product: THON ENTIER.620 Gr  HO-ON SD | Non-null monthly points: 11\n"
          ]
        },
        {
          "output_type": "stream",
          "name": "stderr",
          "text": [
            "10:03:42 - cmdstanpy - INFO - Chain [1] done processing\n",
            "INFO:cmdstanpy:Chain [1] done processing\n",
            "INFO:prophet:Disabling weekly seasonality. Run prophet with weekly_seasonality=True to override this.\n",
            "INFO:prophet:Disabling daily seasonality. Run prophet with daily_seasonality=True to override this.\n",
            "INFO:prophet:n_changepoints greater than number of observations. Using 7.\n",
            "DEBUG:cmdstanpy:input tempfile: /tmp/tmpde06q29d/s_33ipev.json\n",
            "DEBUG:cmdstanpy:input tempfile: /tmp/tmpde06q29d/0v3ld3kf.json\n",
            "DEBUG:cmdstanpy:idx 0\n",
            "DEBUG:cmdstanpy:running CmdStan, num_threads: None\n",
            "DEBUG:cmdstanpy:CmdStan args: ['/usr/local/lib/python3.11/dist-packages/prophet/stan_model/prophet_model.bin', 'random', 'seed=86145', 'data', 'file=/tmp/tmpde06q29d/s_33ipev.json', 'init=/tmp/tmpde06q29d/0v3ld3kf.json', 'output', 'file=/tmp/tmpde06q29d/prophet_modelsk7cr4sk/prophet_model-20250530100342.csv', 'method=optimize', 'algorithm=newton', 'iter=10000']\n",
            "10:03:42 - cmdstanpy - INFO - Chain [1] start processing\n",
            "INFO:cmdstanpy:Chain [1] start processing\n"
          ]
        },
        {
          "output_type": "stream",
          "name": "stdout",
          "text": [
            "Product: ALU.FILET THON 125 Gr HA SD | Non-null monthly points: 11\n"
          ]
        },
        {
          "output_type": "stream",
          "name": "stderr",
          "text": [
            "10:03:54 - cmdstanpy - INFO - Chain [1] done processing\n",
            "INFO:cmdstanpy:Chain [1] done processing\n",
            "INFO:prophet:Disabling weekly seasonality. Run prophet with weekly_seasonality=True to override this.\n",
            "INFO:prophet:Disabling daily seasonality. Run prophet with daily_seasonality=True to override this.\n",
            "INFO:prophet:n_changepoints greater than number of observations. Using 8.\n",
            "DEBUG:cmdstanpy:input tempfile: /tmp/tmpde06q29d/l1r5lbhc.json\n",
            "DEBUG:cmdstanpy:input tempfile: /tmp/tmpde06q29d/sun67__m.json\n",
            "DEBUG:cmdstanpy:idx 0\n",
            "DEBUG:cmdstanpy:running CmdStan, num_threads: None\n",
            "DEBUG:cmdstanpy:CmdStan args: ['/usr/local/lib/python3.11/dist-packages/prophet/stan_model/prophet_model.bin', 'random', 'seed=74988', 'data', 'file=/tmp/tmpde06q29d/l1r5lbhc.json', 'init=/tmp/tmpde06q29d/sun67__m.json', 'output', 'file=/tmp/tmpde06q29d/prophet_modelz5roizpq/prophet_model-20250530100354.csv', 'method=optimize', 'algorithm=newton', 'iter=10000']\n",
            "10:03:54 - cmdstanpy - INFO - Chain [1] start processing\n",
            "INFO:cmdstanpy:Chain [1] start processing\n"
          ]
        },
        {
          "output_type": "stream",
          "name": "stdout",
          "text": [
            "Product: THON ENTIER.160 Gr SD-HO-FP | Non-null monthly points: 12\n"
          ]
        },
        {
          "output_type": "stream",
          "name": "stderr",
          "text": [
            "10:04:06 - cmdstanpy - INFO - Chain [1] done processing\n",
            "INFO:cmdstanpy:Chain [1] done processing\n",
            "INFO:prophet:Disabling weekly seasonality. Run prophet with weekly_seasonality=True to override this.\n",
            "INFO:prophet:Disabling daily seasonality. Run prophet with daily_seasonality=True to override this.\n",
            "INFO:prophet:n_changepoints greater than number of observations. Using 8.\n",
            "DEBUG:cmdstanpy:input tempfile: /tmp/tmpde06q29d/qc1qen2p.json\n",
            "DEBUG:cmdstanpy:input tempfile: /tmp/tmpde06q29d/alrfc_pd.json\n",
            "DEBUG:cmdstanpy:idx 0\n",
            "DEBUG:cmdstanpy:running CmdStan, num_threads: None\n",
            "DEBUG:cmdstanpy:CmdStan args: ['/usr/local/lib/python3.11/dist-packages/prophet/stan_model/prophet_model.bin', 'random', 'seed=32184', 'data', 'file=/tmp/tmpde06q29d/qc1qen2p.json', 'init=/tmp/tmpde06q29d/alrfc_pd.json', 'output', 'file=/tmp/tmpde06q29d/prophet_modelakl_6o20/prophet_model-20250530100406.csv', 'method=optimize', 'algorithm=newton', 'iter=10000']\n",
            "10:04:06 - cmdstanpy - INFO - Chain [1] start processing\n",
            "INFO:cmdstanpy:Chain [1] start processing\n"
          ]
        },
        {
          "output_type": "stream",
          "name": "stdout",
          "text": [
            "Product: BOITE DE THON 400 HO -SD | Non-null monthly points: 12\n"
          ]
        },
        {
          "output_type": "stream",
          "name": "stderr",
          "text": [
            "10:04:18 - cmdstanpy - INFO - Chain [1] done processing\n",
            "INFO:cmdstanpy:Chain [1] done processing\n",
            "INFO:prophet:Disabling weekly seasonality. Run prophet with weekly_seasonality=True to override this.\n",
            "INFO:prophet:Disabling daily seasonality. Run prophet with daily_seasonality=True to override this.\n",
            "INFO:prophet:n_changepoints greater than number of observations. Using 7.\n",
            "DEBUG:cmdstanpy:input tempfile: /tmp/tmpde06q29d/y7jh_v0n.json\n",
            "DEBUG:cmdstanpy:input tempfile: /tmp/tmpde06q29d/xm27qxz_.json\n",
            "DEBUG:cmdstanpy:idx 0\n",
            "DEBUG:cmdstanpy:running CmdStan, num_threads: None\n",
            "DEBUG:cmdstanpy:CmdStan args: ['/usr/local/lib/python3.11/dist-packages/prophet/stan_model/prophet_model.bin', 'random', 'seed=23149', 'data', 'file=/tmp/tmpde06q29d/y7jh_v0n.json', 'init=/tmp/tmpde06q29d/xm27qxz_.json', 'output', 'file=/tmp/tmpde06q29d/prophet_modelt1p8shvu/prophet_model-20250530100418.csv', 'method=optimize', 'algorithm=newton', 'iter=10000']\n",
            "10:04:18 - cmdstanpy - INFO - Chain [1] start processing\n",
            "INFO:cmdstanpy:Chain [1] start processing\n"
          ]
        },
        {
          "output_type": "stream",
          "name": "stdout",
          "text": [
            "Product: THON ENTIER.160 Gr SD-HV-FP | Non-null monthly points: 10\n"
          ]
        },
        {
          "output_type": "stream",
          "name": "stderr",
          "text": [
            "10:04:29 - cmdstanpy - INFO - Chain [1] done processing\n",
            "INFO:cmdstanpy:Chain [1] done processing\n",
            "INFO:prophet:Disabling weekly seasonality. Run prophet with weekly_seasonality=True to override this.\n",
            "INFO:prophet:Disabling daily seasonality. Run prophet with daily_seasonality=True to override this.\n",
            "INFO:prophet:n_changepoints greater than number of observations. Using 7.\n",
            "DEBUG:cmdstanpy:input tempfile: /tmp/tmpde06q29d/zehyhtbw.json\n",
            "DEBUG:cmdstanpy:input tempfile: /tmp/tmpde06q29d/wzkvxkyd.json\n",
            "DEBUG:cmdstanpy:idx 0\n",
            "DEBUG:cmdstanpy:running CmdStan, num_threads: None\n",
            "DEBUG:cmdstanpy:CmdStan args: ['/usr/local/lib/python3.11/dist-packages/prophet/stan_model/prophet_model.bin', 'random', 'seed=39805', 'data', 'file=/tmp/tmpde06q29d/zehyhtbw.json', 'init=/tmp/tmpde06q29d/wzkvxkyd.json', 'output', 'file=/tmp/tmpde06q29d/prophet_modelc9duipt2/prophet_model-20250530100429.csv', 'method=optimize', 'algorithm=newton', 'iter=10000']\n",
            "10:04:29 - cmdstanpy - INFO - Chain [1] start processing\n",
            "INFO:cmdstanpy:Chain [1] start processing\n"
          ]
        },
        {
          "output_type": "stream",
          "name": "stdout",
          "text": [
            "Product: BOCAUX ANCHOIS 85Gr HT-SD | Non-null monthly points: 10\n"
          ]
        },
        {
          "output_type": "stream",
          "name": "stderr",
          "text": [
            "10:04:40 - cmdstanpy - INFO - Chain [1] done processing\n",
            "INFO:cmdstanpy:Chain [1] done processing\n",
            "INFO:prophet:Disabling weekly seasonality. Run prophet with weekly_seasonality=True to override this.\n",
            "INFO:prophet:Disabling daily seasonality. Run prophet with daily_seasonality=True to override this.\n",
            "INFO:prophet:n_changepoints greater than number of observations. Using 3.\n",
            "DEBUG:cmdstanpy:input tempfile: /tmp/tmpde06q29d/nz3id1j1.json\n",
            "DEBUG:cmdstanpy:input tempfile: /tmp/tmpde06q29d/0bnwcb9i.json\n",
            "DEBUG:cmdstanpy:idx 0\n",
            "DEBUG:cmdstanpy:running CmdStan, num_threads: None\n",
            "DEBUG:cmdstanpy:CmdStan args: ['/usr/local/lib/python3.11/dist-packages/prophet/stan_model/prophet_model.bin', 'random', 'seed=93438', 'data', 'file=/tmp/tmpde06q29d/nz3id1j1.json', 'init=/tmp/tmpde06q29d/0bnwcb9i.json', 'output', 'file=/tmp/tmpde06q29d/prophet_modele1i0fo0z/prophet_model-20250530100441.csv', 'method=optimize', 'algorithm=newton', 'iter=10000']\n",
            "10:04:41 - cmdstanpy - INFO - Chain [1] start processing\n",
            "INFO:cmdstanpy:Chain [1] start processing\n"
          ]
        },
        {
          "output_type": "stream",
          "name": "stdout",
          "text": [
            "Product: BOITE THON 1,700 KG AU NATUREL | Non-null monthly points: 6\n"
          ]
        },
        {
          "output_type": "stream",
          "name": "stderr",
          "text": [
            "10:04:49 - cmdstanpy - INFO - Chain [1] done processing\n",
            "INFO:cmdstanpy:Chain [1] done processing\n",
            "INFO:prophet:Disabling weekly seasonality. Run prophet with weekly_seasonality=True to override this.\n",
            "INFO:prophet:Disabling daily seasonality. Run prophet with daily_seasonality=True to override this.\n",
            "INFO:prophet:n_changepoints greater than number of observations. Using 0.\n",
            "DEBUG:cmdstanpy:input tempfile: /tmp/tmpde06q29d/ucr0dqpe.json\n",
            "DEBUG:cmdstanpy:input tempfile: /tmp/tmpde06q29d/ms_3v7y0.json\n",
            "DEBUG:cmdstanpy:idx 0\n",
            "DEBUG:cmdstanpy:running CmdStan, num_threads: None\n",
            "DEBUG:cmdstanpy:CmdStan args: ['/usr/local/lib/python3.11/dist-packages/prophet/stan_model/prophet_model.bin', 'random', 'seed=17831', 'data', 'file=/tmp/tmpde06q29d/ucr0dqpe.json', 'init=/tmp/tmpde06q29d/ms_3v7y0.json', 'output', 'file=/tmp/tmpde06q29d/prophet_modelyxqoq2i5/prophet_model-20250530100449.csv', 'method=optimize', 'algorithm=newton', 'iter=10000']\n",
            "10:04:49 - cmdstanpy - INFO - Chain [1] start processing\n",
            "INFO:cmdstanpy:Chain [1] start processing\n"
          ]
        },
        {
          "output_type": "stream",
          "name": "stdout",
          "text": [
            "Product: THON ENTIER.FR 950 Gr.HO-ON SD | Non-null monthly points: 2\n"
          ]
        },
        {
          "output_type": "stream",
          "name": "stderr",
          "text": [
            "10:04:56 - cmdstanpy - INFO - Chain [1] done processing\n",
            "INFO:cmdstanpy:Chain [1] done processing\n",
            "INFO:prophet:Disabling weekly seasonality. Run prophet with weekly_seasonality=True to override this.\n",
            "INFO:prophet:Disabling daily seasonality. Run prophet with daily_seasonality=True to override this.\n",
            "INFO:prophet:n_changepoints greater than number of observations. Using 5.\n",
            "DEBUG:cmdstanpy:input tempfile: /tmp/tmpde06q29d/h59b67ad.json\n",
            "DEBUG:cmdstanpy:input tempfile: /tmp/tmpde06q29d/l78esny4.json\n",
            "DEBUG:cmdstanpy:idx 0\n",
            "DEBUG:cmdstanpy:running CmdStan, num_threads: None\n",
            "DEBUG:cmdstanpy:CmdStan args: ['/usr/local/lib/python3.11/dist-packages/prophet/stan_model/prophet_model.bin', 'random', 'seed=31463', 'data', 'file=/tmp/tmpde06q29d/h59b67ad.json', 'init=/tmp/tmpde06q29d/l78esny4.json', 'output', 'file=/tmp/tmpde06q29d/prophet_modelz7vox0v2/prophet_model-20250530100457.csv', 'method=optimize', 'algorithm=newton', 'iter=10000']\n",
            "10:04:57 - cmdstanpy - INFO - Chain [1] start processing\n",
            "INFO:cmdstanpy:Chain [1] start processing\n"
          ]
        },
        {
          "output_type": "stream",
          "name": "stdout",
          "text": [
            "Product: ALU.FILET SARD 100 Gr HO-OF SD | Non-null monthly points: 8\n"
          ]
        },
        {
          "output_type": "stream",
          "name": "stderr",
          "text": [
            "10:05:07 - cmdstanpy - INFO - Chain [1] done processing\n",
            "INFO:cmdstanpy:Chain [1] done processing\n",
            "INFO:prophet:Disabling weekly seasonality. Run prophet with weekly_seasonality=True to override this.\n",
            "INFO:prophet:Disabling daily seasonality. Run prophet with daily_seasonality=True to override this.\n",
            "INFO:prophet:n_changepoints greater than number of observations. Using 5.\n",
            "DEBUG:cmdstanpy:input tempfile: /tmp/tmpde06q29d/3h5pvm1d.json\n",
            "DEBUG:cmdstanpy:input tempfile: /tmp/tmpde06q29d/19lzqrfm.json\n",
            "DEBUG:cmdstanpy:idx 0\n",
            "DEBUG:cmdstanpy:running CmdStan, num_threads: None\n",
            "DEBUG:cmdstanpy:CmdStan args: ['/usr/local/lib/python3.11/dist-packages/prophet/stan_model/prophet_model.bin', 'random', 'seed=36811', 'data', 'file=/tmp/tmpde06q29d/3h5pvm1d.json', 'init=/tmp/tmpde06q29d/19lzqrfm.json', 'output', 'file=/tmp/tmpde06q29d/prophet_modelcl0k6h41/prophet_model-20250530100507.csv', 'method=optimize', 'algorithm=newton', 'iter=10000']\n",
            "10:05:07 - cmdstanpy - INFO - Chain [1] start processing\n",
            "INFO:cmdstanpy:Chain [1] start processing\n"
          ]
        },
        {
          "output_type": "stream",
          "name": "stdout",
          "text": [
            "Product: ALU.FILET SARD 100 Gr HT-OF SD | Non-null monthly points: 8\n"
          ]
        },
        {
          "output_type": "stream",
          "name": "stderr",
          "text": [
            "10:05:17 - cmdstanpy - INFO - Chain [1] done processing\n",
            "INFO:cmdstanpy:Chain [1] done processing\n",
            "INFO:prophet:Disabling weekly seasonality. Run prophet with weekly_seasonality=True to override this.\n",
            "INFO:prophet:Disabling daily seasonality. Run prophet with daily_seasonality=True to override this.\n",
            "INFO:prophet:n_changepoints greater than number of observations. Using 5.\n",
            "DEBUG:cmdstanpy:input tempfile: /tmp/tmpde06q29d/8pkvxg12.json\n",
            "DEBUG:cmdstanpy:input tempfile: /tmp/tmpde06q29d/8hgi6k49.json\n",
            "DEBUG:cmdstanpy:idx 0\n",
            "DEBUG:cmdstanpy:running CmdStan, num_threads: None\n",
            "DEBUG:cmdstanpy:CmdStan args: ['/usr/local/lib/python3.11/dist-packages/prophet/stan_model/prophet_model.bin', 'random', 'seed=33436', 'data', 'file=/tmp/tmpde06q29d/8pkvxg12.json', 'init=/tmp/tmpde06q29d/8hgi6k49.json', 'output', 'file=/tmp/tmpde06q29d/prophet_model3fwgiuuo/prophet_model-20250530100517.csv', 'method=optimize', 'algorithm=newton', 'iter=10000']\n",
            "10:05:17 - cmdstanpy - INFO - Chain [1] start processing\n",
            "INFO:cmdstanpy:Chain [1] start processing\n"
          ]
        },
        {
          "output_type": "stream",
          "name": "stdout",
          "text": [
            "Product: ALU.FILET SARD 100 Gr CI-OF SD | Non-null monthly points: 8\n"
          ]
        },
        {
          "output_type": "stream",
          "name": "stderr",
          "text": [
            "10:05:26 - cmdstanpy - INFO - Chain [1] done processing\n",
            "INFO:cmdstanpy:Chain [1] done processing\n",
            "INFO:prophet:Disabling weekly seasonality. Run prophet with weekly_seasonality=True to override this.\n",
            "INFO:prophet:Disabling daily seasonality. Run prophet with daily_seasonality=True to override this.\n",
            "INFO:prophet:n_changepoints greater than number of observations. Using 7.\n",
            "DEBUG:cmdstanpy:input tempfile: /tmp/tmpde06q29d/4fz3dbcl.json\n",
            "DEBUG:cmdstanpy:input tempfile: /tmp/tmpde06q29d/4pm5lef9.json\n",
            "DEBUG:cmdstanpy:idx 0\n",
            "DEBUG:cmdstanpy:running CmdStan, num_threads: None\n",
            "DEBUG:cmdstanpy:CmdStan args: ['/usr/local/lib/python3.11/dist-packages/prophet/stan_model/prophet_model.bin', 'random', 'seed=55396', 'data', 'file=/tmp/tmpde06q29d/4fz3dbcl.json', 'init=/tmp/tmpde06q29d/4pm5lef9.json', 'output', 'file=/tmp/tmpde06q29d/prophet_modeluob_kybr/prophet_model-20250530100526.csv', 'method=optimize', 'algorithm=newton', 'iter=10000']\n",
            "10:05:26 - cmdstanpy - INFO - Chain [1] start processing\n",
            "INFO:cmdstanpy:Chain [1] start processing\n"
          ]
        },
        {
          "output_type": "stream",
          "name": "stdout",
          "text": [
            "Product: SARDINES 120 Gr  AUX PI-OF SD | Non-null monthly points: 11\n"
          ]
        },
        {
          "output_type": "stream",
          "name": "stderr",
          "text": [
            "10:05:37 - cmdstanpy - INFO - Chain [1] done processing\n",
            "INFO:cmdstanpy:Chain [1] done processing\n",
            "INFO:prophet:Disabling weekly seasonality. Run prophet with weekly_seasonality=True to override this.\n",
            "INFO:prophet:Disabling daily seasonality. Run prophet with daily_seasonality=True to override this.\n",
            "INFO:prophet:n_changepoints greater than number of observations. Using 8.\n",
            "DEBUG:cmdstanpy:input tempfile: /tmp/tmpde06q29d/6lduex6z.json\n",
            "DEBUG:cmdstanpy:input tempfile: /tmp/tmpde06q29d/kv5bm9zf.json\n",
            "DEBUG:cmdstanpy:idx 0\n",
            "DEBUG:cmdstanpy:running CmdStan, num_threads: None\n",
            "DEBUG:cmdstanpy:CmdStan args: ['/usr/local/lib/python3.11/dist-packages/prophet/stan_model/prophet_model.bin', 'random', 'seed=17320', 'data', 'file=/tmp/tmpde06q29d/6lduex6z.json', 'init=/tmp/tmpde06q29d/kv5bm9zf.json', 'output', 'file=/tmp/tmpde06q29d/prophet_model_gtgmnly/prophet_model-20250530100537.csv', 'method=optimize', 'algorithm=newton', 'iter=10000']\n",
            "10:05:37 - cmdstanpy - INFO - Chain [1] start processing\n",
            "INFO:cmdstanpy:Chain [1] start processing\n"
          ]
        },
        {
          "output_type": "stream",
          "name": "stdout",
          "text": [
            "Product: BOCAUX FIL THON 190Gr HO-HP SD | Non-null monthly points: 12\n"
          ]
        },
        {
          "output_type": "stream",
          "name": "stderr",
          "text": [
            "10:05:49 - cmdstanpy - INFO - Chain [1] done processing\n",
            "INFO:cmdstanpy:Chain [1] done processing\n",
            "INFO:prophet:Disabling weekly seasonality. Run prophet with weekly_seasonality=True to override this.\n",
            "INFO:prophet:Disabling daily seasonality. Run prophet with daily_seasonality=True to override this.\n",
            "INFO:prophet:n_changepoints greater than number of observations. Using 8.\n",
            "DEBUG:cmdstanpy:input tempfile: /tmp/tmpde06q29d/ukd59q4h.json\n",
            "DEBUG:cmdstanpy:input tempfile: /tmp/tmpde06q29d/qr5dl1pr.json\n",
            "DEBUG:cmdstanpy:idx 0\n",
            "DEBUG:cmdstanpy:running CmdStan, num_threads: None\n",
            "DEBUG:cmdstanpy:CmdStan args: ['/usr/local/lib/python3.11/dist-packages/prophet/stan_model/prophet_model.bin', 'random', 'seed=49463', 'data', 'file=/tmp/tmpde06q29d/ukd59q4h.json', 'init=/tmp/tmpde06q29d/qr5dl1pr.json', 'output', 'file=/tmp/tmpde06q29d/prophet_modeld3_epamm/prophet_model-20250530100549.csv', 'method=optimize', 'algorithm=newton', 'iter=10000']\n",
            "10:05:49 - cmdstanpy - INFO - Chain [1] start processing\n",
            "INFO:cmdstanpy:Chain [1] start processing\n"
          ]
        },
        {
          "output_type": "stream",
          "name": "stdout",
          "text": [
            "Product: ALU.FILETS THON 125 Gr HP SD | Non-null monthly points: 12\n"
          ]
        },
        {
          "output_type": "stream",
          "name": "stderr",
          "text": [
            "10:06:01 - cmdstanpy - INFO - Chain [1] done processing\n",
            "INFO:cmdstanpy:Chain [1] done processing\n",
            "INFO:prophet:Disabling weekly seasonality. Run prophet with weekly_seasonality=True to override this.\n",
            "INFO:prophet:Disabling daily seasonality. Run prophet with daily_seasonality=True to override this.\n",
            "INFO:prophet:n_changepoints greater than number of observations. Using 7.\n",
            "DEBUG:cmdstanpy:input tempfile: /tmp/tmpde06q29d/mgl6q2ms.json\n",
            "DEBUG:cmdstanpy:input tempfile: /tmp/tmpde06q29d/eiclnhpj.json\n",
            "DEBUG:cmdstanpy:idx 0\n",
            "DEBUG:cmdstanpy:running CmdStan, num_threads: None\n",
            "DEBUG:cmdstanpy:CmdStan args: ['/usr/local/lib/python3.11/dist-packages/prophet/stan_model/prophet_model.bin', 'random', 'seed=40928', 'data', 'file=/tmp/tmpde06q29d/mgl6q2ms.json', 'init=/tmp/tmpde06q29d/eiclnhpj.json', 'output', 'file=/tmp/tmpde06q29d/prophet_model0a5ctq_7/prophet_model-20250530100601.csv', 'method=optimize', 'algorithm=newton', 'iter=10000']\n",
            "10:06:01 - cmdstanpy - INFO - Chain [1] start processing\n",
            "INFO:cmdstanpy:Chain [1] start processing\n"
          ]
        },
        {
          "output_type": "stream",
          "name": "stdout",
          "text": [
            "Product: BOITE SARDINES 1KG-HV -SD | Non-null monthly points: 11\n"
          ]
        },
        {
          "output_type": "stream",
          "name": "stderr",
          "text": [
            "10:06:13 - cmdstanpy - INFO - Chain [1] done processing\n",
            "INFO:cmdstanpy:Chain [1] done processing\n",
            "INFO:prophet:Disabling weekly seasonality. Run prophet with weekly_seasonality=True to override this.\n",
            "INFO:prophet:Disabling daily seasonality. Run prophet with daily_seasonality=True to override this.\n",
            "INFO:prophet:n_changepoints greater than number of observations. Using 8.\n",
            "DEBUG:cmdstanpy:input tempfile: /tmp/tmpde06q29d/06iqx3pl.json\n",
            "DEBUG:cmdstanpy:input tempfile: /tmp/tmpde06q29d/n9yk2waf.json\n",
            "DEBUG:cmdstanpy:idx 0\n",
            "DEBUG:cmdstanpy:running CmdStan, num_threads: None\n",
            "DEBUG:cmdstanpy:CmdStan args: ['/usr/local/lib/python3.11/dist-packages/prophet/stan_model/prophet_model.bin', 'random', 'seed=39925', 'data', 'file=/tmp/tmpde06q29d/06iqx3pl.json', 'init=/tmp/tmpde06q29d/n9yk2waf.json', 'output', 'file=/tmp/tmpde06q29d/prophet_modelqvmkwxjl/prophet_model-20250530100613.csv', 'method=optimize', 'algorithm=newton', 'iter=10000']\n",
            "10:06:13 - cmdstanpy - INFO - Chain [1] start processing\n",
            "INFO:cmdstanpy:Chain [1] start processing\n"
          ]
        },
        {
          "output_type": "stream",
          "name": "stdout",
          "text": [
            "Product: THON ENTIER 1,9 kG HV-ON   SD | Non-null monthly points: 12\n"
          ]
        },
        {
          "output_type": "stream",
          "name": "stderr",
          "text": [
            "10:06:25 - cmdstanpy - INFO - Chain [1] done processing\n",
            "INFO:cmdstanpy:Chain [1] done processing\n",
            "INFO:prophet:Disabling weekly seasonality. Run prophet with weekly_seasonality=True to override this.\n",
            "INFO:prophet:Disabling daily seasonality. Run prophet with daily_seasonality=True to override this.\n",
            "INFO:prophet:n_changepoints greater than number of observations. Using 8.\n",
            "DEBUG:cmdstanpy:input tempfile: /tmp/tmpde06q29d/y8lcsc_5.json\n",
            "DEBUG:cmdstanpy:input tempfile: /tmp/tmpde06q29d/n17klage.json\n",
            "DEBUG:cmdstanpy:idx 0\n",
            "DEBUG:cmdstanpy:running CmdStan, num_threads: None\n",
            "DEBUG:cmdstanpy:CmdStan args: ['/usr/local/lib/python3.11/dist-packages/prophet/stan_model/prophet_model.bin', 'random', 'seed=1868', 'data', 'file=/tmp/tmpde06q29d/y8lcsc_5.json', 'init=/tmp/tmpde06q29d/n17klage.json', 'output', 'file=/tmp/tmpde06q29d/prophet_model58_f35nk/prophet_model-20250530100625.csv', 'method=optimize', 'algorithm=newton', 'iter=10000']\n",
            "10:06:25 - cmdstanpy - INFO - Chain [1] start processing\n",
            "INFO:cmdstanpy:Chain [1] start processing\n"
          ]
        },
        {
          "output_type": "stream",
          "name": "stdout",
          "text": [
            "Product: SARDINES 120 GR -HV KOLL YOUM | Non-null monthly points: 12\n"
          ]
        },
        {
          "output_type": "stream",
          "name": "stderr",
          "text": [
            "10:06:36 - cmdstanpy - INFO - Chain [1] done processing\n",
            "INFO:cmdstanpy:Chain [1] done processing\n",
            "INFO:prophet:Disabling weekly seasonality. Run prophet with weekly_seasonality=True to override this.\n",
            "INFO:prophet:Disabling daily seasonality. Run prophet with daily_seasonality=True to override this.\n",
            "INFO:prophet:n_changepoints greater than number of observations. Using 8.\n",
            "DEBUG:cmdstanpy:input tempfile: /tmp/tmpde06q29d/rlsz0svm.json\n",
            "DEBUG:cmdstanpy:input tempfile: /tmp/tmpde06q29d/npm0e1qz.json\n",
            "DEBUG:cmdstanpy:idx 0\n",
            "DEBUG:cmdstanpy:running CmdStan, num_threads: None\n",
            "DEBUG:cmdstanpy:CmdStan args: ['/usr/local/lib/python3.11/dist-packages/prophet/stan_model/prophet_model.bin', 'random', 'seed=68301', 'data', 'file=/tmp/tmpde06q29d/rlsz0svm.json', 'init=/tmp/tmpde06q29d/npm0e1qz.json', 'output', 'file=/tmp/tmpde06q29d/prophet_modelw0p3ovtm/prophet_model-20250530100636.csv', 'method=optimize', 'algorithm=newton', 'iter=10000']\n",
            "10:06:36 - cmdstanpy - INFO - Chain [1] start processing\n",
            "INFO:cmdstanpy:Chain [1] start processing\n"
          ]
        },
        {
          "output_type": "stream",
          "name": "stdout",
          "text": [
            "Product: SARDINES 120 GR -HO KOLL YOUM | Non-null monthly points: 12\n"
          ]
        },
        {
          "output_type": "stream",
          "name": "stderr",
          "text": [
            "10:06:48 - cmdstanpy - INFO - Chain [1] done processing\n",
            "INFO:cmdstanpy:Chain [1] done processing\n",
            "INFO:prophet:Disabling weekly seasonality. Run prophet with weekly_seasonality=True to override this.\n",
            "INFO:prophet:Disabling daily seasonality. Run prophet with daily_seasonality=True to override this.\n",
            "INFO:prophet:n_changepoints greater than number of observations. Using 8.\n",
            "DEBUG:cmdstanpy:input tempfile: /tmp/tmpde06q29d/e5j9v8mm.json\n",
            "DEBUG:cmdstanpy:input tempfile: /tmp/tmpde06q29d/hv2g0b5h.json\n",
            "DEBUG:cmdstanpy:idx 0\n",
            "DEBUG:cmdstanpy:running CmdStan, num_threads: None\n",
            "DEBUG:cmdstanpy:CmdStan args: ['/usr/local/lib/python3.11/dist-packages/prophet/stan_model/prophet_model.bin', 'random', 'seed=84010', 'data', 'file=/tmp/tmpde06q29d/e5j9v8mm.json', 'init=/tmp/tmpde06q29d/hv2g0b5h.json', 'output', 'file=/tmp/tmpde06q29d/prophet_modelnw7t67ui/prophet_model-20250530100648.csv', 'method=optimize', 'algorithm=newton', 'iter=10000']\n",
            "10:06:48 - cmdstanpy - INFO - Chain [1] start processing\n",
            "INFO:cmdstanpy:Chain [1] start processing\n"
          ]
        },
        {
          "output_type": "stream",
          "name": "stdout",
          "text": [
            "Product: BOCAUX FIL THON 190Gr HO-Ci SD | Non-null monthly points: 12\n"
          ]
        },
        {
          "output_type": "stream",
          "name": "stderr",
          "text": [
            "10:07:00 - cmdstanpy - INFO - Chain [1] done processing\n",
            "INFO:cmdstanpy:Chain [1] done processing\n",
            "INFO:prophet:Disabling weekly seasonality. Run prophet with weekly_seasonality=True to override this.\n",
            "INFO:prophet:Disabling daily seasonality. Run prophet with daily_seasonality=True to override this.\n",
            "INFO:prophet:n_changepoints greater than number of observations. Using 7.\n",
            "DEBUG:cmdstanpy:input tempfile: /tmp/tmpde06q29d/e2qzings.json\n",
            "DEBUG:cmdstanpy:input tempfile: /tmp/tmpde06q29d/ozm7w6js.json\n",
            "DEBUG:cmdstanpy:idx 0\n",
            "DEBUG:cmdstanpy:running CmdStan, num_threads: None\n",
            "DEBUG:cmdstanpy:CmdStan args: ['/usr/local/lib/python3.11/dist-packages/prophet/stan_model/prophet_model.bin', 'random', 'seed=12657', 'data', 'file=/tmp/tmpde06q29d/e2qzings.json', 'init=/tmp/tmpde06q29d/ozm7w6js.json', 'output', 'file=/tmp/tmpde06q29d/prophet_modelu35nmwmb/prophet_model-20250530100700.csv', 'method=optimize', 'algorithm=newton', 'iter=10000']\n",
            "10:07:00 - cmdstanpy - INFO - Chain [1] start processing\n",
            "INFO:cmdstanpy:Chain [1] start processing\n"
          ]
        },
        {
          "output_type": "stream",
          "name": "stdout",
          "text": [
            "Product: ALU.FILET THON  125 Gr HO SD | Non-null monthly points: 11\n"
          ]
        },
        {
          "output_type": "stream",
          "name": "stderr",
          "text": [
            "10:07:11 - cmdstanpy - INFO - Chain [1] done processing\n",
            "INFO:cmdstanpy:Chain [1] done processing\n",
            "INFO:prophet:Disabling weekly seasonality. Run prophet with weekly_seasonality=True to override this.\n",
            "INFO:prophet:Disabling daily seasonality. Run prophet with daily_seasonality=True to override this.\n",
            "INFO:prophet:n_changepoints greater than number of observations. Using 5.\n",
            "DEBUG:cmdstanpy:input tempfile: /tmp/tmpde06q29d/efhx6um3.json\n",
            "DEBUG:cmdstanpy:input tempfile: /tmp/tmpde06q29d/fdisyxbk.json\n",
            "DEBUG:cmdstanpy:idx 0\n",
            "DEBUG:cmdstanpy:running CmdStan, num_threads: None\n",
            "DEBUG:cmdstanpy:CmdStan args: ['/usr/local/lib/python3.11/dist-packages/prophet/stan_model/prophet_model.bin', 'random', 'seed=74394', 'data', 'file=/tmp/tmpde06q29d/efhx6um3.json', 'init=/tmp/tmpde06q29d/fdisyxbk.json', 'output', 'file=/tmp/tmpde06q29d/prophet_modelp39cmwcy/prophet_model-20250530100712.csv', 'method=optimize', 'algorithm=newton', 'iter=10000']\n",
            "10:07:12 - cmdstanpy - INFO - Chain [1] start processing\n",
            "INFO:cmdstanpy:Chain [1] start processing\n"
          ]
        },
        {
          "output_type": "stream",
          "name": "stdout",
          "text": [
            "Product: THON ENT. SORRA160GR HO-OF SD | Non-null monthly points: 1\n",
            "Skipping 'THON ENT. SORRA160GR HO-OF SD' due to insufficient data\n",
            "Product: BOCAUX ANCHOIS 85Gr HT-CA | Non-null monthly points: 8\n"
          ]
        },
        {
          "output_type": "stream",
          "name": "stderr",
          "text": [
            "10:07:19 - cmdstanpy - INFO - Chain [1] done processing\n",
            "INFO:cmdstanpy:Chain [1] done processing\n",
            "INFO:prophet:Disabling weekly seasonality. Run prophet with weekly_seasonality=True to override this.\n",
            "INFO:prophet:Disabling daily seasonality. Run prophet with daily_seasonality=True to override this.\n",
            "INFO:prophet:n_changepoints greater than number of observations. Using 4.\n",
            "DEBUG:cmdstanpy:input tempfile: /tmp/tmpde06q29d/16fr1euc.json\n",
            "DEBUG:cmdstanpy:input tempfile: /tmp/tmpde06q29d/x8wsg2xl.json\n",
            "DEBUG:cmdstanpy:idx 0\n",
            "DEBUG:cmdstanpy:running CmdStan, num_threads: None\n",
            "DEBUG:cmdstanpy:CmdStan args: ['/usr/local/lib/python3.11/dist-packages/prophet/stan_model/prophet_model.bin', 'random', 'seed=28480', 'data', 'file=/tmp/tmpde06q29d/16fr1euc.json', 'init=/tmp/tmpde06q29d/x8wsg2xl.json', 'output', 'file=/tmp/tmpde06q29d/prophet_modelk8gdylm2/prophet_model-20250530100719.csv', 'method=optimize', 'algorithm=newton', 'iter=10000']\n",
            "10:07:19 - cmdstanpy - INFO - Chain [1] start processing\n",
            "INFO:cmdstanpy:Chain [1] start processing\n"
          ]
        },
        {
          "output_type": "stream",
          "name": "stdout",
          "text": [
            "Product: Boite Thon 400GR HV-ZEMBRA | Non-null monthly points: 7\n"
          ]
        },
        {
          "output_type": "stream",
          "name": "stderr",
          "text": [
            "10:07:30 - cmdstanpy - INFO - Chain [1] done processing\n",
            "INFO:cmdstanpy:Chain [1] done processing\n",
            "INFO:prophet:Disabling weekly seasonality. Run prophet with weekly_seasonality=True to override this.\n",
            "INFO:prophet:Disabling daily seasonality. Run prophet with daily_seasonality=True to override this.\n",
            "INFO:prophet:n_changepoints greater than number of observations. Using 7.\n",
            "DEBUG:cmdstanpy:input tempfile: /tmp/tmpde06q29d/o5z7t7hg.json\n",
            "DEBUG:cmdstanpy:input tempfile: /tmp/tmpde06q29d/s666g63p.json\n",
            "DEBUG:cmdstanpy:idx 0\n",
            "DEBUG:cmdstanpy:running CmdStan, num_threads: None\n",
            "DEBUG:cmdstanpy:CmdStan args: ['/usr/local/lib/python3.11/dist-packages/prophet/stan_model/prophet_model.bin', 'random', 'seed=65861', 'data', 'file=/tmp/tmpde06q29d/o5z7t7hg.json', 'init=/tmp/tmpde06q29d/s666g63p.json', 'output', 'file=/tmp/tmpde06q29d/prophet_model76mhx2b4/prophet_model-20250530100730.csv', 'method=optimize', 'algorithm=newton', 'iter=10000']\n",
            "10:07:30 - cmdstanpy - INFO - Chain [1] start processing\n",
            "INFO:cmdstanpy:Chain [1] start processing\n"
          ]
        },
        {
          "output_type": "stream",
          "name": "stdout",
          "text": [
            "Product: OEUF DE THON 120 Gr HO-SD | Non-null monthly points: 11\n"
          ]
        },
        {
          "output_type": "stream",
          "name": "stderr",
          "text": [
            "10:07:42 - cmdstanpy - INFO - Chain [1] done processing\n",
            "INFO:cmdstanpy:Chain [1] done processing\n",
            "INFO:prophet:Disabling weekly seasonality. Run prophet with weekly_seasonality=True to override this.\n",
            "INFO:prophet:Disabling daily seasonality. Run prophet with daily_seasonality=True to override this.\n",
            "INFO:prophet:n_changepoints greater than number of observations. Using 7.\n",
            "DEBUG:cmdstanpy:input tempfile: /tmp/tmpde06q29d/w6hp86gg.json\n",
            "DEBUG:cmdstanpy:input tempfile: /tmp/tmpde06q29d/exr_ecii.json\n",
            "DEBUG:cmdstanpy:idx 0\n",
            "DEBUG:cmdstanpy:running CmdStan, num_threads: None\n",
            "DEBUG:cmdstanpy:CmdStan args: ['/usr/local/lib/python3.11/dist-packages/prophet/stan_model/prophet_model.bin', 'random', 'seed=16074', 'data', 'file=/tmp/tmpde06q29d/w6hp86gg.json', 'init=/tmp/tmpde06q29d/exr_ecii.json', 'output', 'file=/tmp/tmpde06q29d/prophet_model5f48u_fr/prophet_model-20250530100742.csv', 'method=optimize', 'algorithm=newton', 'iter=10000']\n",
            "10:07:42 - cmdstanpy - INFO - Chain [1] start processing\n",
            "INFO:cmdstanpy:Chain [1] start processing\n"
          ]
        },
        {
          "output_type": "stream",
          "name": "stdout",
          "text": [
            "Product: SARDINES 650 GR HV | Non-null monthly points: 11\n"
          ]
        },
        {
          "output_type": "stream",
          "name": "stderr",
          "text": [
            "10:07:53 - cmdstanpy - INFO - Chain [1] done processing\n",
            "INFO:cmdstanpy:Chain [1] done processing\n",
            "INFO:prophet:Disabling weekly seasonality. Run prophet with weekly_seasonality=True to override this.\n",
            "INFO:prophet:Disabling daily seasonality. Run prophet with daily_seasonality=True to override this.\n",
            "INFO:prophet:n_changepoints greater than number of observations. Using 4.\n",
            "DEBUG:cmdstanpy:input tempfile: /tmp/tmpde06q29d/6gbxxxhx.json\n",
            "DEBUG:cmdstanpy:input tempfile: /tmp/tmpde06q29d/gl1mdbuc.json\n",
            "DEBUG:cmdstanpy:idx 0\n",
            "DEBUG:cmdstanpy:running CmdStan, num_threads: None\n",
            "DEBUG:cmdstanpy:CmdStan args: ['/usr/local/lib/python3.11/dist-packages/prophet/stan_model/prophet_model.bin', 'random', 'seed=88455', 'data', 'file=/tmp/tmpde06q29d/6gbxxxhx.json', 'init=/tmp/tmpde06q29d/gl1mdbuc.json', 'output', 'file=/tmp/tmpde06q29d/prophet_model0_73s49r/prophet_model-20250530100753.csv', 'method=optimize', 'algorithm=newton', 'iter=10000']\n",
            "10:07:53 - cmdstanpy - INFO - Chain [1] start processing\n",
            "INFO:cmdstanpy:Chain [1] start processing\n"
          ]
        },
        {
          "output_type": "stream",
          "name": "stdout",
          "text": [
            "Product: Boite thon 160 GR HO HAND MADE | Non-null monthly points: 7\n"
          ]
        },
        {
          "output_type": "stream",
          "name": "stderr",
          "text": [
            "10:08:03 - cmdstanpy - INFO - Chain [1] done processing\n",
            "INFO:cmdstanpy:Chain [1] done processing\n",
            "INFO:prophet:Disabling weekly seasonality. Run prophet with weekly_seasonality=True to override this.\n",
            "INFO:prophet:Disabling daily seasonality. Run prophet with daily_seasonality=True to override this.\n",
            "INFO:prophet:n_changepoints greater than number of observations. Using 8.\n",
            "DEBUG:cmdstanpy:input tempfile: /tmp/tmpde06q29d/hok75amp.json\n",
            "DEBUG:cmdstanpy:input tempfile: /tmp/tmpde06q29d/en1275vo.json\n",
            "DEBUG:cmdstanpy:idx 0\n",
            "DEBUG:cmdstanpy:running CmdStan, num_threads: None\n",
            "DEBUG:cmdstanpy:CmdStan args: ['/usr/local/lib/python3.11/dist-packages/prophet/stan_model/prophet_model.bin', 'random', 'seed=66764', 'data', 'file=/tmp/tmpde06q29d/hok75amp.json', 'init=/tmp/tmpde06q29d/en1275vo.json', 'output', 'file=/tmp/tmpde06q29d/prophet_model_ub1iemq/prophet_model-20250530100803.csv', 'method=optimize', 'algorithm=newton', 'iter=10000']\n",
            "10:08:03 - cmdstanpy - INFO - Chain [1] start processing\n",
            "INFO:cmdstanpy:Chain [1] start processing\n"
          ]
        },
        {
          "output_type": "stream",
          "name": "stdout",
          "text": [
            "Product: THON ENTIER 950 Gr HO-ON   SD | Non-null monthly points: 12\n"
          ]
        },
        {
          "output_type": "stream",
          "name": "stderr",
          "text": [
            "10:08:14 - cmdstanpy - INFO - Chain [1] done processing\n",
            "INFO:cmdstanpy:Chain [1] done processing\n",
            "INFO:prophet:Disabling weekly seasonality. Run prophet with weekly_seasonality=True to override this.\n",
            "INFO:prophet:Disabling daily seasonality. Run prophet with daily_seasonality=True to override this.\n",
            "INFO:prophet:n_changepoints greater than number of observations. Using 1.\n",
            "DEBUG:cmdstanpy:input tempfile: /tmp/tmpde06q29d/0lk8p1iy.json\n",
            "DEBUG:cmdstanpy:input tempfile: /tmp/tmpde06q29d/ijr3tc5o.json\n",
            "DEBUG:cmdstanpy:idx 0\n",
            "DEBUG:cmdstanpy:running CmdStan, num_threads: None\n",
            "DEBUG:cmdstanpy:CmdStan args: ['/usr/local/lib/python3.11/dist-packages/prophet/stan_model/prophet_model.bin', 'random', 'seed=7257', 'data', 'file=/tmp/tmpde06q29d/0lk8p1iy.json', 'init=/tmp/tmpde06q29d/ijr3tc5o.json', 'output', 'file=/tmp/tmpde06q29d/prophet_model57n1vcsd/prophet_model-20250530100814.csv', 'method=optimize', 'algorithm=newton', 'iter=10000']\n",
            "10:08:14 - cmdstanpy - INFO - Chain [1] start processing\n",
            "INFO:cmdstanpy:Chain [1] start processing\n"
          ]
        },
        {
          "output_type": "stream",
          "name": "stdout",
          "text": [
            "Product: THON ENTIER.300 Gr  HO-OF SD | Non-null monthly points: 3\n"
          ]
        },
        {
          "output_type": "stream",
          "name": "stderr",
          "text": [
            "10:08:22 - cmdstanpy - INFO - Chain [1] done processing\n",
            "INFO:cmdstanpy:Chain [1] done processing\n",
            "INFO:prophet:Disabling weekly seasonality. Run prophet with weekly_seasonality=True to override this.\n",
            "INFO:prophet:Disabling daily seasonality. Run prophet with daily_seasonality=True to override this.\n",
            "INFO:prophet:n_changepoints greater than number of observations. Using 4.\n",
            "DEBUG:cmdstanpy:input tempfile: /tmp/tmpde06q29d/n2u38dt8.json\n",
            "DEBUG:cmdstanpy:input tempfile: /tmp/tmpde06q29d/gu294g34.json\n",
            "DEBUG:cmdstanpy:idx 0\n",
            "DEBUG:cmdstanpy:running CmdStan, num_threads: None\n",
            "DEBUG:cmdstanpy:CmdStan args: ['/usr/local/lib/python3.11/dist-packages/prophet/stan_model/prophet_model.bin', 'random', 'seed=15469', 'data', 'file=/tmp/tmpde06q29d/n2u38dt8.json', 'init=/tmp/tmpde06q29d/gu294g34.json', 'output', 'file=/tmp/tmpde06q29d/prophet_model5343lh8i/prophet_model-20250530100822.csv', 'method=optimize', 'algorithm=newton', 'iter=10000']\n",
            "10:08:22 - cmdstanpy - INFO - Chain [1] start processing\n",
            "INFO:cmdstanpy:Chain [1] start processing\n"
          ]
        },
        {
          "output_type": "stream",
          "name": "stdout",
          "text": [
            "Product: THON ENT.KASH. 160 Gr HO-OF SD | Non-null monthly points: 7\n"
          ]
        },
        {
          "output_type": "stream",
          "name": "stderr",
          "text": [
            "10:08:32 - cmdstanpy - INFO - Chain [1] done processing\n",
            "INFO:cmdstanpy:Chain [1] done processing\n",
            "INFO:prophet:Disabling weekly seasonality. Run prophet with weekly_seasonality=True to override this.\n",
            "INFO:prophet:Disabling daily seasonality. Run prophet with daily_seasonality=True to override this.\n",
            "INFO:prophet:n_changepoints greater than number of observations. Using 4.\n",
            "DEBUG:cmdstanpy:input tempfile: /tmp/tmpde06q29d/3l_xk1xf.json\n",
            "DEBUG:cmdstanpy:input tempfile: /tmp/tmpde06q29d/6wzw0pp5.json\n",
            "DEBUG:cmdstanpy:idx 0\n",
            "DEBUG:cmdstanpy:running CmdStan, num_threads: None\n",
            "DEBUG:cmdstanpy:CmdStan args: ['/usr/local/lib/python3.11/dist-packages/prophet/stan_model/prophet_model.bin', 'random', 'seed=3634', 'data', 'file=/tmp/tmpde06q29d/3l_xk1xf.json', 'init=/tmp/tmpde06q29d/6wzw0pp5.json', 'output', 'file=/tmp/tmpde06q29d/prophet_model03yn0338/prophet_model-20250530100832.csv', 'method=optimize', 'algorithm=newton', 'iter=10000']\n",
            "10:08:32 - cmdstanpy - INFO - Chain [1] start processing\n",
            "INFO:cmdstanpy:Chain [1] start processing\n"
          ]
        },
        {
          "output_type": "stream",
          "name": "stdout",
          "text": [
            "Product: BOITE THON 750 GR HO-KACHER | Non-null monthly points: 1\n",
            "Skipping 'BOITE THON 750 GR HO-KACHER' due to insufficient data\n",
            "Product: BOITE THON 750 GR HV-KACHER | Non-null monthly points: 7\n"
          ]
        },
        {
          "output_type": "stream",
          "name": "stderr",
          "text": [
            "10:08:42 - cmdstanpy - INFO - Chain [1] done processing\n",
            "INFO:cmdstanpy:Chain [1] done processing\n",
            "INFO:prophet:Disabling weekly seasonality. Run prophet with weekly_seasonality=True to override this.\n",
            "INFO:prophet:Disabling daily seasonality. Run prophet with daily_seasonality=True to override this.\n",
            "INFO:prophet:n_changepoints greater than number of observations. Using 4.\n",
            "DEBUG:cmdstanpy:input tempfile: /tmp/tmpde06q29d/mbnasc7u.json\n",
            "DEBUG:cmdstanpy:input tempfile: /tmp/tmpde06q29d/47qv0iq0.json\n",
            "DEBUG:cmdstanpy:idx 0\n",
            "DEBUG:cmdstanpy:running CmdStan, num_threads: None\n",
            "DEBUG:cmdstanpy:CmdStan args: ['/usr/local/lib/python3.11/dist-packages/prophet/stan_model/prophet_model.bin', 'random', 'seed=46342', 'data', 'file=/tmp/tmpde06q29d/mbnasc7u.json', 'init=/tmp/tmpde06q29d/47qv0iq0.json', 'output', 'file=/tmp/tmpde06q29d/prophet_model2svy6s0e/prophet_model-20250530100842.csv', 'method=optimize', 'algorithm=newton', 'iter=10000']\n",
            "10:08:42 - cmdstanpy - INFO - Chain [1] start processing\n",
            "INFO:cmdstanpy:Chain [1] start processing\n"
          ]
        },
        {
          "output_type": "stream",
          "name": "stdout",
          "text": [
            "Product: LOT 3 BTES 160 GR HO FP KASHER | Non-null monthly points: 7\n"
          ]
        },
        {
          "output_type": "stream",
          "name": "stderr",
          "text": [
            "10:08:51 - cmdstanpy - INFO - Chain [1] done processing\n",
            "INFO:cmdstanpy:Chain [1] done processing\n",
            "INFO:prophet:Disabling weekly seasonality. Run prophet with weekly_seasonality=True to override this.\n",
            "INFO:prophet:Disabling daily seasonality. Run prophet with daily_seasonality=True to override this.\n",
            "INFO:prophet:n_changepoints greater than number of observations. Using 8.\n",
            "DEBUG:cmdstanpy:input tempfile: /tmp/tmpde06q29d/q1t37_dj.json\n",
            "DEBUG:cmdstanpy:input tempfile: /tmp/tmpde06q29d/eqvho3lg.json\n",
            "DEBUG:cmdstanpy:idx 0\n",
            "DEBUG:cmdstanpy:running CmdStan, num_threads: None\n",
            "DEBUG:cmdstanpy:CmdStan args: ['/usr/local/lib/python3.11/dist-packages/prophet/stan_model/prophet_model.bin', 'random', 'seed=82658', 'data', 'file=/tmp/tmpde06q29d/q1t37_dj.json', 'init=/tmp/tmpde06q29d/eqvho3lg.json', 'output', 'file=/tmp/tmpde06q29d/prophet_modelfd4mmrl3/prophet_model-20250530100851.csv', 'method=optimize', 'algorithm=newton', 'iter=10000']\n",
            "10:08:51 - cmdstanpy - INFO - Chain [1] start processing\n",
            "INFO:cmdstanpy:Chain [1] start processing\n"
          ]
        },
        {
          "output_type": "stream",
          "name": "stdout",
          "text": [
            "Product: THON 160 Gr HO SD FP KASHER | Non-null monthly points: 12\n"
          ]
        },
        {
          "output_type": "stream",
          "name": "stderr",
          "text": [
            "10:09:02 - cmdstanpy - INFO - Chain [1] done processing\n",
            "INFO:cmdstanpy:Chain [1] done processing\n",
            "INFO:prophet:Disabling weekly seasonality. Run prophet with weekly_seasonality=True to override this.\n",
            "INFO:prophet:Disabling daily seasonality. Run prophet with daily_seasonality=True to override this.\n",
            "INFO:prophet:n_changepoints greater than number of observations. Using 7.\n",
            "DEBUG:cmdstanpy:input tempfile: /tmp/tmpde06q29d/i9xf3sdk.json\n",
            "DEBUG:cmdstanpy:input tempfile: /tmp/tmpde06q29d/e3ih9skr.json\n",
            "DEBUG:cmdstanpy:idx 0\n",
            "DEBUG:cmdstanpy:running CmdStan, num_threads: None\n",
            "DEBUG:cmdstanpy:CmdStan args: ['/usr/local/lib/python3.11/dist-packages/prophet/stan_model/prophet_model.bin', 'random', 'seed=71806', 'data', 'file=/tmp/tmpde06q29d/i9xf3sdk.json', 'init=/tmp/tmpde06q29d/e3ih9skr.json', 'output', 'file=/tmp/tmpde06q29d/prophet_model1at1amo2/prophet_model-20250530100902.csv', 'method=optimize', 'algorithm=newton', 'iter=10000']\n",
            "10:09:02 - cmdstanpy - INFO - Chain [1] start processing\n",
            "INFO:cmdstanpy:Chain [1] start processing\n"
          ]
        },
        {
          "output_type": "stream",
          "name": "stdout",
          "text": [
            "Product: BOCAUX SORRA 200Gr HO SD | Non-null monthly points: 11\n"
          ]
        },
        {
          "output_type": "stream",
          "name": "stderr",
          "text": [
            "10:09:14 - cmdstanpy - INFO - Chain [1] done processing\n",
            "INFO:cmdstanpy:Chain [1] done processing\n",
            "INFO:prophet:Disabling weekly seasonality. Run prophet with weekly_seasonality=True to override this.\n",
            "INFO:prophet:Disabling daily seasonality. Run prophet with daily_seasonality=True to override this.\n",
            "INFO:prophet:n_changepoints greater than number of observations. Using 7.\n",
            "DEBUG:cmdstanpy:input tempfile: /tmp/tmpde06q29d/0h651eak.json\n",
            "DEBUG:cmdstanpy:input tempfile: /tmp/tmpde06q29d/pzdqi9y7.json\n",
            "DEBUG:cmdstanpy:idx 0\n",
            "DEBUG:cmdstanpy:running CmdStan, num_threads: None\n",
            "DEBUG:cmdstanpy:CmdStan args: ['/usr/local/lib/python3.11/dist-packages/prophet/stan_model/prophet_model.bin', 'random', 'seed=8121', 'data', 'file=/tmp/tmpde06q29d/0h651eak.json', 'init=/tmp/tmpde06q29d/pzdqi9y7.json', 'output', 'file=/tmp/tmpde06q29d/prophet_modellkidbhp0/prophet_model-20250530100914.csv', 'method=optimize', 'algorithm=newton', 'iter=10000']\n",
            "10:09:14 - cmdstanpy - INFO - Chain [1] start processing\n",
            "INFO:cmdstanpy:Chain [1] start processing\n"
          ]
        },
        {
          "output_type": "stream",
          "name": "stdout",
          "text": [
            "Product: BOCAUX FIL THON 190Gr HO-MO SD | Non-null monthly points: 10\n"
          ]
        },
        {
          "output_type": "stream",
          "name": "stderr",
          "text": [
            "10:09:25 - cmdstanpy - INFO - Chain [1] done processing\n",
            "INFO:cmdstanpy:Chain [1] done processing\n",
            "INFO:prophet:Disabling weekly seasonality. Run prophet with weekly_seasonality=True to override this.\n",
            "INFO:prophet:Disabling daily seasonality. Run prophet with daily_seasonality=True to override this.\n",
            "INFO:prophet:n_changepoints greater than number of observations. Using 4.\n",
            "DEBUG:cmdstanpy:input tempfile: /tmp/tmpde06q29d/jdehhicu.json\n",
            "DEBUG:cmdstanpy:input tempfile: /tmp/tmpde06q29d/zceny7h_.json\n",
            "DEBUG:cmdstanpy:idx 0\n",
            "DEBUG:cmdstanpy:running CmdStan, num_threads: None\n",
            "DEBUG:cmdstanpy:CmdStan args: ['/usr/local/lib/python3.11/dist-packages/prophet/stan_model/prophet_model.bin', 'random', 'seed=76883', 'data', 'file=/tmp/tmpde06q29d/jdehhicu.json', 'init=/tmp/tmpde06q29d/zceny7h_.json', 'output', 'file=/tmp/tmpde06q29d/prophet_model7phuedxi/prophet_model-20250530100925.csv', 'method=optimize', 'algorithm=newton', 'iter=10000']\n",
            "10:09:25 - cmdstanpy - INFO - Chain [1] start processing\n",
            "INFO:cmdstanpy:Chain [1] start processing\n"
          ]
        },
        {
          "output_type": "stream",
          "name": "stdout",
          "text": [
            "Product: THON ENTIER.160Gr SD-SANSEL-FP | Non-null monthly points: 7\n"
          ]
        },
        {
          "output_type": "stream",
          "name": "stderr",
          "text": [
            "10:09:35 - cmdstanpy - INFO - Chain [1] done processing\n",
            "INFO:cmdstanpy:Chain [1] done processing\n",
            "INFO:prophet:Disabling weekly seasonality. Run prophet with weekly_seasonality=True to override this.\n",
            "INFO:prophet:Disabling daily seasonality. Run prophet with daily_seasonality=True to override this.\n",
            "INFO:prophet:n_changepoints greater than number of observations. Using 7.\n",
            "DEBUG:cmdstanpy:input tempfile: /tmp/tmpde06q29d/54rzp_id.json\n",
            "DEBUG:cmdstanpy:input tempfile: /tmp/tmpde06q29d/d16gczg_.json\n",
            "DEBUG:cmdstanpy:idx 0\n",
            "DEBUG:cmdstanpy:running CmdStan, num_threads: None\n",
            "DEBUG:cmdstanpy:CmdStan args: ['/usr/local/lib/python3.11/dist-packages/prophet/stan_model/prophet_model.bin', 'random', 'seed=44388', 'data', 'file=/tmp/tmpde06q29d/54rzp_id.json', 'init=/tmp/tmpde06q29d/d16gczg_.json', 'output', 'file=/tmp/tmpde06q29d/prophet_model4780mqih/prophet_model-20250530100935.csv', 'method=optimize', 'algorithm=newton', 'iter=10000']\n",
            "10:09:35 - cmdstanpy - INFO - Chain [1] start processing\n",
            "INFO:cmdstanpy:Chain [1] start processing\n"
          ]
        },
        {
          "output_type": "stream",
          "name": "stdout",
          "text": [
            "Product: LOT 3 BTE TS21-160Gr-SD-HO-FP | Non-null monthly points: 10\n"
          ]
        },
        {
          "output_type": "stream",
          "name": "stderr",
          "text": [
            "10:09:47 - cmdstanpy - INFO - Chain [1] done processing\n",
            "INFO:cmdstanpy:Chain [1] done processing\n",
            "INFO:prophet:Disabling weekly seasonality. Run prophet with weekly_seasonality=True to override this.\n",
            "INFO:prophet:Disabling daily seasonality. Run prophet with daily_seasonality=True to override this.\n",
            "INFO:prophet:n_changepoints greater than number of observations. Using 7.\n",
            "DEBUG:cmdstanpy:input tempfile: /tmp/tmpde06q29d/jmdyypxr.json\n",
            "DEBUG:cmdstanpy:input tempfile: /tmp/tmpde06q29d/fy71gupm.json\n",
            "DEBUG:cmdstanpy:idx 0\n",
            "DEBUG:cmdstanpy:running CmdStan, num_threads: None\n",
            "DEBUG:cmdstanpy:CmdStan args: ['/usr/local/lib/python3.11/dist-packages/prophet/stan_model/prophet_model.bin', 'random', 'seed=8917', 'data', 'file=/tmp/tmpde06q29d/jmdyypxr.json', 'init=/tmp/tmpde06q29d/fy71gupm.json', 'output', 'file=/tmp/tmpde06q29d/prophet_modelae11k_ug/prophet_model-20250530100947.csv', 'method=optimize', 'algorithm=newton', 'iter=10000']\n",
            "10:09:47 - cmdstanpy - INFO - Chain [1] start processing\n",
            "INFO:cmdstanpy:Chain [1] start processing\n"
          ]
        },
        {
          "output_type": "stream",
          "name": "stdout",
          "text": [
            "Product: THON FRAIS 160 Gr HO-FP-SD | Non-null monthly points: 10\n"
          ]
        },
        {
          "output_type": "stream",
          "name": "stderr",
          "text": [
            "10:09:57 - cmdstanpy - INFO - Chain [1] done processing\n",
            "INFO:cmdstanpy:Chain [1] done processing\n",
            "INFO:prophet:Disabling weekly seasonality. Run prophet with weekly_seasonality=True to override this.\n",
            "INFO:prophet:Disabling daily seasonality. Run prophet with daily_seasonality=True to override this.\n",
            "INFO:prophet:n_changepoints greater than number of observations. Using 7.\n",
            "DEBUG:cmdstanpy:input tempfile: /tmp/tmpde06q29d/ix6_4esj.json\n",
            "DEBUG:cmdstanpy:input tempfile: /tmp/tmpde06q29d/xz3k4lle.json\n",
            "DEBUG:cmdstanpy:idx 0\n",
            "DEBUG:cmdstanpy:running CmdStan, num_threads: None\n",
            "DEBUG:cmdstanpy:CmdStan args: ['/usr/local/lib/python3.11/dist-packages/prophet/stan_model/prophet_model.bin', 'random', 'seed=95651', 'data', 'file=/tmp/tmpde06q29d/ix6_4esj.json', 'init=/tmp/tmpde06q29d/xz3k4lle.json', 'output', 'file=/tmp/tmpde06q29d/prophet_model05l0azmg/prophet_model-20250530100957.csv', 'method=optimize', 'algorithm=newton', 'iter=10000']\n",
            "10:09:57 - cmdstanpy - INFO - Chain [1] start processing\n",
            "INFO:cmdstanpy:Chain [1] start processing\n"
          ]
        },
        {
          "output_type": "stream",
          "name": "stdout",
          "text": [
            "Product: LOT3 BOITES THON 160GR HO EMB | Non-null monthly points: 11\n"
          ]
        },
        {
          "output_type": "stream",
          "name": "stderr",
          "text": [
            "10:10:08 - cmdstanpy - INFO - Chain [1] done processing\n",
            "INFO:cmdstanpy:Chain [1] done processing\n",
            "INFO:prophet:Disabling weekly seasonality. Run prophet with weekly_seasonality=True to override this.\n",
            "INFO:prophet:Disabling daily seasonality. Run prophet with daily_seasonality=True to override this.\n",
            "INFO:prophet:n_changepoints greater than number of observations. Using 0.\n",
            "DEBUG:cmdstanpy:input tempfile: /tmp/tmpde06q29d/536q0rn7.json\n",
            "DEBUG:cmdstanpy:input tempfile: /tmp/tmpde06q29d/uaufiqkt.json\n",
            "DEBUG:cmdstanpy:idx 0\n",
            "DEBUG:cmdstanpy:running CmdStan, num_threads: None\n",
            "DEBUG:cmdstanpy:CmdStan args: ['/usr/local/lib/python3.11/dist-packages/prophet/stan_model/prophet_model.bin', 'random', 'seed=32301', 'data', 'file=/tmp/tmpde06q29d/536q0rn7.json', 'init=/tmp/tmpde06q29d/uaufiqkt.json', 'output', 'file=/tmp/tmpde06q29d/prophet_modeljfwxzdfi/prophet_model-20250530101008.csv', 'method=optimize', 'algorithm=newton', 'iter=10000']\n",
            "10:10:08 - cmdstanpy - INFO - Chain [1] start processing\n",
            "INFO:cmdstanpy:Chain [1] start processing\n"
          ]
        },
        {
          "output_type": "stream",
          "name": "stdout",
          "text": [
            "Product: LOT 3* BOITES THON 130 GR HV | Non-null monthly points: 2\n"
          ]
        },
        {
          "output_type": "stream",
          "name": "stderr",
          "text": [
            "10:10:12 - cmdstanpy - INFO - Chain [1] done processing\n",
            "INFO:cmdstanpy:Chain [1] done processing\n",
            "INFO:prophet:Disabling weekly seasonality. Run prophet with weekly_seasonality=True to override this.\n",
            "INFO:prophet:Disabling daily seasonality. Run prophet with daily_seasonality=True to override this.\n",
            "INFO:prophet:n_changepoints greater than number of observations. Using 6.\n",
            "DEBUG:cmdstanpy:input tempfile: /tmp/tmpde06q29d/7pjrp295.json\n",
            "DEBUG:cmdstanpy:input tempfile: /tmp/tmpde06q29d/5pcfrfb6.json\n",
            "DEBUG:cmdstanpy:idx 0\n",
            "DEBUG:cmdstanpy:running CmdStan, num_threads: None\n",
            "DEBUG:cmdstanpy:CmdStan args: ['/usr/local/lib/python3.11/dist-packages/prophet/stan_model/prophet_model.bin', 'random', 'seed=18984', 'data', 'file=/tmp/tmpde06q29d/7pjrp295.json', 'init=/tmp/tmpde06q29d/5pcfrfb6.json', 'output', 'file=/tmp/tmpde06q29d/prophet_modelm9kx6xdt/prophet_model-20250530101012.csv', 'method=optimize', 'algorithm=newton', 'iter=10000']\n",
            "10:10:12 - cmdstanpy - INFO - Chain [1] start processing\n",
            "INFO:cmdstanpy:Chain [1] start processing\n"
          ]
        },
        {
          "output_type": "stream",
          "name": "stdout",
          "text": [
            "Product: SORRA 160 g HO SD FP | Non-null monthly points: 9\n"
          ]
        },
        {
          "output_type": "stream",
          "name": "stderr",
          "text": [
            "10:10:22 - cmdstanpy - INFO - Chain [1] done processing\n",
            "INFO:cmdstanpy:Chain [1] done processing\n",
            "INFO:prophet:Disabling weekly seasonality. Run prophet with weekly_seasonality=True to override this.\n",
            "INFO:prophet:Disabling daily seasonality. Run prophet with daily_seasonality=True to override this.\n",
            "INFO:prophet:n_changepoints greater than number of observations. Using 6.\n",
            "DEBUG:cmdstanpy:input tempfile: /tmp/tmpde06q29d/yrckkpu5.json\n",
            "DEBUG:cmdstanpy:input tempfile: /tmp/tmpde06q29d/scwyc6vb.json\n",
            "DEBUG:cmdstanpy:idx 0\n",
            "DEBUG:cmdstanpy:running CmdStan, num_threads: None\n",
            "DEBUG:cmdstanpy:CmdStan args: ['/usr/local/lib/python3.11/dist-packages/prophet/stan_model/prophet_model.bin', 'random', 'seed=91872', 'data', 'file=/tmp/tmpde06q29d/yrckkpu5.json', 'init=/tmp/tmpde06q29d/scwyc6vb.json', 'output', 'file=/tmp/tmpde06q29d/prophet_modelx6d6n92y/prophet_model-20250530101022.csv', 'method=optimize', 'algorithm=newton', 'iter=10000']\n",
            "10:10:22 - cmdstanpy - INFO - Chain [1] start processing\n",
            "INFO:cmdstanpy:Chain [1] start processing\n"
          ]
        },
        {
          "output_type": "stream",
          "name": "stdout",
          "text": [
            "Product: Boite Thon 2,050kg  Au naturel | Non-null monthly points: 9\n"
          ]
        },
        {
          "output_type": "stream",
          "name": "stderr",
          "text": [
            "10:10:28 - cmdstanpy - INFO - Chain [1] done processing\n",
            "INFO:cmdstanpy:Chain [1] done processing\n",
            "INFO:prophet:Disabling weekly seasonality. Run prophet with weekly_seasonality=True to override this.\n",
            "INFO:prophet:Disabling daily seasonality. Run prophet with daily_seasonality=True to override this.\n",
            "INFO:prophet:n_changepoints greater than number of observations. Using 7.\n",
            "DEBUG:cmdstanpy:input tempfile: /tmp/tmpde06q29d/s4f058zb.json\n",
            "DEBUG:cmdstanpy:input tempfile: /tmp/tmpde06q29d/pyj0w1gc.json\n",
            "DEBUG:cmdstanpy:idx 0\n",
            "DEBUG:cmdstanpy:running CmdStan, num_threads: None\n",
            "DEBUG:cmdstanpy:CmdStan args: ['/usr/local/lib/python3.11/dist-packages/prophet/stan_model/prophet_model.bin', 'random', 'seed=10072', 'data', 'file=/tmp/tmpde06q29d/s4f058zb.json', 'init=/tmp/tmpde06q29d/pyj0w1gc.json', 'output', 'file=/tmp/tmpde06q29d/prophet_model1lepid9o/prophet_model-20250530101028.csv', 'method=optimize', 'algorithm=newton', 'iter=10000']\n",
            "10:10:28 - cmdstanpy - INFO - Chain [1] start processing\n",
            "INFO:cmdstanpy:Chain [1] start processing\n"
          ]
        },
        {
          "output_type": "stream",
          "name": "stdout",
          "text": [
            "Product: BOITE THON 130 GR HV-AL EZZ | Non-null monthly points: 10\n"
          ]
        },
        {
          "output_type": "stream",
          "name": "stderr",
          "text": [
            "10:10:39 - cmdstanpy - INFO - Chain [1] done processing\n",
            "INFO:cmdstanpy:Chain [1] done processing\n",
            "INFO:prophet:Disabling weekly seasonality. Run prophet with weekly_seasonality=True to override this.\n",
            "INFO:prophet:Disabling daily seasonality. Run prophet with daily_seasonality=True to override this.\n",
            "INFO:prophet:n_changepoints greater than number of observations. Using 6.\n",
            "DEBUG:cmdstanpy:input tempfile: /tmp/tmpde06q29d/6cwinynq.json\n",
            "DEBUG:cmdstanpy:input tempfile: /tmp/tmpde06q29d/isxiudsc.json\n",
            "DEBUG:cmdstanpy:idx 0\n",
            "DEBUG:cmdstanpy:running CmdStan, num_threads: None\n",
            "DEBUG:cmdstanpy:CmdStan args: ['/usr/local/lib/python3.11/dist-packages/prophet/stan_model/prophet_model.bin', 'random', 'seed=19927', 'data', 'file=/tmp/tmpde06q29d/6cwinynq.json', 'init=/tmp/tmpde06q29d/isxiudsc.json', 'output', 'file=/tmp/tmpde06q29d/prophet_modelmfn8etut/prophet_model-20250530101039.csv', 'method=optimize', 'algorithm=newton', 'iter=10000']\n",
            "10:10:40 - cmdstanpy - INFO - Chain [1] start processing\n",
            "INFO:cmdstanpy:Chain [1] start processing\n"
          ]
        },
        {
          "output_type": "stream",
          "name": "stdout",
          "text": [
            "Product: FILETS MAQUERAUX 170 Gr HO-OF | Non-null monthly points: 9\n"
          ]
        },
        {
          "output_type": "stream",
          "name": "stderr",
          "text": [
            "10:10:50 - cmdstanpy - INFO - Chain [1] done processing\n",
            "INFO:cmdstanpy:Chain [1] done processing\n",
            "INFO:prophet:Disabling weekly seasonality. Run prophet with weekly_seasonality=True to override this.\n",
            "INFO:prophet:Disabling daily seasonality. Run prophet with daily_seasonality=True to override this.\n",
            "INFO:prophet:n_changepoints greater than number of observations. Using 6.\n",
            "DEBUG:cmdstanpy:input tempfile: /tmp/tmpde06q29d/_7o2ontg.json\n",
            "DEBUG:cmdstanpy:input tempfile: /tmp/tmpde06q29d/fvlphsyn.json\n",
            "DEBUG:cmdstanpy:idx 0\n",
            "DEBUG:cmdstanpy:running CmdStan, num_threads: None\n",
            "DEBUG:cmdstanpy:CmdStan args: ['/usr/local/lib/python3.11/dist-packages/prophet/stan_model/prophet_model.bin', 'random', 'seed=10083', 'data', 'file=/tmp/tmpde06q29d/_7o2ontg.json', 'init=/tmp/tmpde06q29d/fvlphsyn.json', 'output', 'file=/tmp/tmpde06q29d/prophet_modelisl5gvpt/prophet_model-20250530101050.csv', 'method=optimize', 'algorithm=newton', 'iter=10000']\n",
            "10:10:50 - cmdstanpy - INFO - Chain [1] start processing\n",
            "INFO:cmdstanpy:Chain [1] start processing\n"
          ]
        },
        {
          "output_type": "stream",
          "name": "stdout",
          "text": [
            "Product: LOT 3 BTE TS20-160Gr-SD-HV-FP | Non-null monthly points: 9\n"
          ]
        },
        {
          "output_type": "stream",
          "name": "stderr",
          "text": [
            "10:11:00 - cmdstanpy - INFO - Chain [1] done processing\n",
            "INFO:cmdstanpy:Chain [1] done processing\n",
            "INFO:prophet:Disabling weekly seasonality. Run prophet with weekly_seasonality=True to override this.\n",
            "INFO:prophet:Disabling daily seasonality. Run prophet with daily_seasonality=True to override this.\n",
            "INFO:prophet:n_changepoints greater than number of observations. Using 5.\n",
            "DEBUG:cmdstanpy:input tempfile: /tmp/tmpde06q29d/zzc8n4a2.json\n",
            "DEBUG:cmdstanpy:input tempfile: /tmp/tmpde06q29d/s1i0fic7.json\n",
            "DEBUG:cmdstanpy:idx 0\n",
            "DEBUG:cmdstanpy:running CmdStan, num_threads: None\n",
            "DEBUG:cmdstanpy:CmdStan args: ['/usr/local/lib/python3.11/dist-packages/prophet/stan_model/prophet_model.bin', 'random', 'seed=65325', 'data', 'file=/tmp/tmpde06q29d/zzc8n4a2.json', 'init=/tmp/tmpde06q29d/s1i0fic7.json', 'output', 'file=/tmp/tmpde06q29d/prophet_modelgp2l88wn/prophet_model-20250530101100.csv', 'method=optimize', 'algorithm=newton', 'iter=10000']\n",
            "10:11:00 - cmdstanpy - INFO - Chain [1] start processing\n",
            "INFO:cmdstanpy:Chain [1] start processing\n"
          ]
        },
        {
          "output_type": "stream",
          "name": "stdout",
          "text": [
            "Product: nan | Non-null monthly points: 0\n",
            "Skipping 'nan' due to insufficient data\n",
            "Product: BOITE DE THON 770 GR HV-SD | Non-null monthly points: 1\n",
            "Skipping 'BOITE DE THON 770 GR HV-SD' due to insufficient data\n",
            "Product: BOITE THON 750 GR HV-SD | Non-null monthly points: 1\n",
            "Skipping 'BOITE THON 750 GR HV-SD' due to insufficient data\n",
            "Product: Boite Filets Anchois 700 GR HT | Non-null monthly points: 8\n"
          ]
        },
        {
          "output_type": "stream",
          "name": "stderr",
          "text": [
            "10:11:10 - cmdstanpy - INFO - Chain [1] done processing\n",
            "INFO:cmdstanpy:Chain [1] done processing\n",
            "INFO:prophet:Disabling weekly seasonality. Run prophet with weekly_seasonality=True to override this.\n",
            "INFO:prophet:Disabling daily seasonality. Run prophet with daily_seasonality=True to override this.\n",
            "INFO:prophet:n_changepoints greater than number of observations. Using 5.\n",
            "DEBUG:cmdstanpy:input tempfile: /tmp/tmpde06q29d/n6_bxt74.json\n",
            "DEBUG:cmdstanpy:input tempfile: /tmp/tmpde06q29d/w7t24isr.json\n",
            "DEBUG:cmdstanpy:idx 0\n",
            "DEBUG:cmdstanpy:running CmdStan, num_threads: None\n",
            "DEBUG:cmdstanpy:CmdStan args: ['/usr/local/lib/python3.11/dist-packages/prophet/stan_model/prophet_model.bin', 'random', 'seed=65777', 'data', 'file=/tmp/tmpde06q29d/n6_bxt74.json', 'init=/tmp/tmpde06q29d/w7t24isr.json', 'output', 'file=/tmp/tmpde06q29d/prophet_modelju0rmkiv/prophet_model-20250530101110.csv', 'method=optimize', 'algorithm=newton', 'iter=10000']\n",
            "10:11:10 - cmdstanpy - INFO - Chain [1] start processing\n",
            "INFO:cmdstanpy:Chain [1] start processing\n"
          ]
        },
        {
          "output_type": "stream",
          "name": "stdout",
          "text": [
            "Product: BOCAUX ANCHOIS 190Gr HT | Non-null monthly points: 8\n"
          ]
        },
        {
          "output_type": "stream",
          "name": "stderr",
          "text": [
            "10:11:20 - cmdstanpy - INFO - Chain [1] done processing\n",
            "INFO:cmdstanpy:Chain [1] done processing\n",
            "INFO:prophet:Disabling weekly seasonality. Run prophet with weekly_seasonality=True to override this.\n",
            "INFO:prophet:Disabling daily seasonality. Run prophet with daily_seasonality=True to override this.\n",
            "INFO:prophet:n_changepoints greater than number of observations. Using 5.\n",
            "DEBUG:cmdstanpy:input tempfile: /tmp/tmpde06q29d/qaxy54br.json\n",
            "DEBUG:cmdstanpy:input tempfile: /tmp/tmpde06q29d/4qlvd6h9.json\n",
            "DEBUG:cmdstanpy:idx 0\n",
            "DEBUG:cmdstanpy:running CmdStan, num_threads: None\n",
            "DEBUG:cmdstanpy:CmdStan args: ['/usr/local/lib/python3.11/dist-packages/prophet/stan_model/prophet_model.bin', 'random', 'seed=3712', 'data', 'file=/tmp/tmpde06q29d/qaxy54br.json', 'init=/tmp/tmpde06q29d/4qlvd6h9.json', 'output', 'file=/tmp/tmpde06q29d/prophet_modelnr64iq_0/prophet_model-20250530101120.csv', 'method=optimize', 'algorithm=newton', 'iter=10000']\n",
            "10:11:20 - cmdstanpy - INFO - Chain [1] start processing\n",
            "INFO:cmdstanpy:Chain [1] start processing\n"
          ]
        },
        {
          "output_type": "stream",
          "name": "stdout",
          "text": [
            "Product: LOT 2 BTE 160 HO-SD-FP | Non-null monthly points: 8\n"
          ]
        },
        {
          "output_type": "stream",
          "name": "stderr",
          "text": [
            "10:11:32 - cmdstanpy - INFO - Chain [1] done processing\n",
            "INFO:cmdstanpy:Chain [1] done processing\n",
            "INFO:prophet:Disabling weekly seasonality. Run prophet with weekly_seasonality=True to override this.\n",
            "INFO:prophet:Disabling daily seasonality. Run prophet with daily_seasonality=True to override this.\n",
            "INFO:prophet:n_changepoints greater than number of observations. Using 5.\n",
            "DEBUG:cmdstanpy:input tempfile: /tmp/tmpde06q29d/gktk1bf9.json\n",
            "DEBUG:cmdstanpy:input tempfile: /tmp/tmpde06q29d/3auertrn.json\n",
            "DEBUG:cmdstanpy:idx 0\n",
            "DEBUG:cmdstanpy:running CmdStan, num_threads: None\n",
            "DEBUG:cmdstanpy:CmdStan args: ['/usr/local/lib/python3.11/dist-packages/prophet/stan_model/prophet_model.bin', 'random', 'seed=60674', 'data', 'file=/tmp/tmpde06q29d/gktk1bf9.json', 'init=/tmp/tmpde06q29d/3auertrn.json', 'output', 'file=/tmp/tmpde06q29d/prophet_model_asaw4ey/prophet_model-20250530101132.csv', 'method=optimize', 'algorithm=newton', 'iter=10000']\n",
            "10:11:32 - cmdstanpy - INFO - Chain [1] start processing\n",
            "INFO:cmdstanpy:Chain [1] start processing\n"
          ]
        },
        {
          "output_type": "stream",
          "name": "stdout",
          "text": [
            "Product: FILETS MAQUERAUX170Gr HT-CI-OF | Non-null monthly points: 8\n"
          ]
        },
        {
          "output_type": "stream",
          "name": "stderr",
          "text": [
            "10:11:42 - cmdstanpy - INFO - Chain [1] done processing\n",
            "INFO:cmdstanpy:Chain [1] done processing\n",
            "INFO:prophet:Disabling weekly seasonality. Run prophet with weekly_seasonality=True to override this.\n",
            "INFO:prophet:Disabling daily seasonality. Run prophet with daily_seasonality=True to override this.\n",
            "INFO:prophet:n_changepoints greater than number of observations. Using 0.\n",
            "INFO:prophet:Disabling weekly seasonality. Run prophet with weekly_seasonality=True to override this.\n",
            "INFO:prophet:Disabling daily seasonality. Run prophet with daily_seasonality=True to override this.\n",
            "INFO:prophet:n_changepoints greater than number of observations. Using 0.\n",
            "INFO:prophet:Disabling weekly seasonality. Run prophet with weekly_seasonality=True to override this.\n",
            "INFO:prophet:Disabling daily seasonality. Run prophet with daily_seasonality=True to override this.\n",
            "INFO:prophet:n_changepoints greater than number of observations. Using 0.\n",
            "DEBUG:cmdstanpy:input tempfile: /tmp/tmpde06q29d/ue1vb4ut.json\n",
            "DEBUG:cmdstanpy:input tempfile: /tmp/tmpde06q29d/dnxnvaq1.json\n",
            "DEBUG:cmdstanpy:idx 0\n",
            "DEBUG:cmdstanpy:running CmdStan, num_threads: None\n",
            "DEBUG:cmdstanpy:CmdStan args: ['/usr/local/lib/python3.11/dist-packages/prophet/stan_model/prophet_model.bin', 'random', 'seed=2093', 'data', 'file=/tmp/tmpde06q29d/ue1vb4ut.json', 'init=/tmp/tmpde06q29d/dnxnvaq1.json', 'output', 'file=/tmp/tmpde06q29d/prophet_model99doihzc/prophet_model-20250530101142.csv', 'method=optimize', 'algorithm=newton', 'iter=10000']\n",
            "10:11:42 - cmdstanpy - INFO - Chain [1] start processing\n",
            "INFO:cmdstanpy:Chain [1] start processing\n"
          ]
        },
        {
          "output_type": "stream",
          "name": "stdout",
          "text": [
            "Product: N° avoir AVO+2400055: | Non-null monthly points: 1\n",
            "Skipping 'N° avoir AVO+2400055:' due to insufficient data\n",
            "Product: Avoir Financier 07% TVA | Non-null monthly points: 2\n",
            "Product: Avoir Financier 19% TVA | Non-null monthly points: 2\n",
            "Product: LOGISTIQUE 2% / 2023 | Non-null monthly points: 1\n",
            "Skipping 'LOGISTIQUE 2% / 2023' due to insufficient data\n",
            "Product: BOITE SARDINES 125 GR-HT ALKHOMS | Non-null monthly points: 2\n"
          ]
        },
        {
          "output_type": "stream",
          "name": "stderr",
          "text": [
            "10:11:49 - cmdstanpy - INFO - Chain [1] done processing\n",
            "INFO:cmdstanpy:Chain [1] done processing\n",
            "INFO:prophet:Disabling weekly seasonality. Run prophet with weekly_seasonality=True to override this.\n",
            "INFO:prophet:Disabling daily seasonality. Run prophet with daily_seasonality=True to override this.\n",
            "INFO:prophet:n_changepoints greater than number of observations. Using 1.\n",
            "DEBUG:cmdstanpy:input tempfile: /tmp/tmpde06q29d/h5f76h6a.json\n",
            "DEBUG:cmdstanpy:input tempfile: /tmp/tmpde06q29d/xxisljz5.json\n",
            "DEBUG:cmdstanpy:idx 0\n",
            "DEBUG:cmdstanpy:running CmdStan, num_threads: None\n",
            "DEBUG:cmdstanpy:CmdStan args: ['/usr/local/lib/python3.11/dist-packages/prophet/stan_model/prophet_model.bin', 'random', 'seed=91109', 'data', 'file=/tmp/tmpde06q29d/h5f76h6a.json', 'init=/tmp/tmpde06q29d/xxisljz5.json', 'output', 'file=/tmp/tmpde06q29d/prophet_model9yh_blbx/prophet_model-20250530101149.csv', 'method=optimize', 'algorithm=newton', 'iter=10000']\n",
            "10:11:49 - cmdstanpy - INFO - Chain [1] start processing\n",
            "INFO:cmdstanpy:Chain [1] start processing\n"
          ]
        },
        {
          "output_type": "stream",
          "name": "stdout",
          "text": [
            "Product: SEAU FILETS ANCHOIS SALES 5 KG | Non-null monthly points: 1\n",
            "Skipping 'SEAU FILETS ANCHOIS SALES 5 KG' due to insufficient data\n",
            "Product: THON ENTIER 130 GR HV FP-SD | Non-null monthly points: 3\n"
          ]
        },
        {
          "output_type": "stream",
          "name": "stderr",
          "text": [
            "10:11:50 - cmdstanpy - INFO - Chain [1] done processing\n",
            "INFO:cmdstanpy:Chain [1] done processing\n",
            "INFO:prophet:Disabling weekly seasonality. Run prophet with weekly_seasonality=True to override this.\n",
            "INFO:prophet:Disabling daily seasonality. Run prophet with daily_seasonality=True to override this.\n",
            "INFO:prophet:n_changepoints greater than number of observations. Using 3.\n",
            "DEBUG:cmdstanpy:input tempfile: /tmp/tmpde06q29d/pg3898yl.json\n",
            "DEBUG:cmdstanpy:input tempfile: /tmp/tmpde06q29d/mo_r0hk1.json\n",
            "DEBUG:cmdstanpy:idx 0\n",
            "DEBUG:cmdstanpy:running CmdStan, num_threads: None\n",
            "DEBUG:cmdstanpy:CmdStan args: ['/usr/local/lib/python3.11/dist-packages/prophet/stan_model/prophet_model.bin', 'random', 'seed=97242', 'data', 'file=/tmp/tmpde06q29d/pg3898yl.json', 'init=/tmp/tmpde06q29d/mo_r0hk1.json', 'output', 'file=/tmp/tmpde06q29d/prophet_modelwe7f15qd/prophet_model-20250530101151.csv', 'method=optimize', 'algorithm=newton', 'iter=10000']\n",
            "10:11:51 - cmdstanpy - INFO - Chain [1] start processing\n",
            "INFO:cmdstanpy:Chain [1] start processing\n"
          ]
        },
        {
          "output_type": "stream",
          "name": "stdout",
          "text": [
            "Product: N° avoir AVO+2400070: | Non-null monthly points: 1\n",
            "Skipping 'N° avoir AVO+2400070:' due to insufficient data\n",
            "Product: RISTOURNE INCOND 4.5% 1ER TRI 2024 | Non-null monthly points: 1\n",
            "Skipping 'RISTOURNE INCOND 4.5% 1ER TRI 2024' due to insufficient data\n",
            "Product: CORRECT POURCENTAGE DE REMISE | Non-null monthly points: 1\n",
            "Skipping 'CORRECT POURCENTAGE DE REMISE' due to insufficient data\n",
            "Product: BOITE THON 130 GR HV MIETTES EL EZZ  | Non-null monthly points: 6\n"
          ]
        },
        {
          "output_type": "stream",
          "name": "stderr",
          "text": [
            "10:12:00 - cmdstanpy - INFO - Chain [1] done processing\n",
            "INFO:cmdstanpy:Chain [1] done processing\n",
            "INFO:prophet:Disabling weekly seasonality. Run prophet with weekly_seasonality=True to override this.\n",
            "INFO:prophet:Disabling daily seasonality. Run prophet with daily_seasonality=True to override this.\n",
            "INFO:prophet:n_changepoints greater than number of observations. Using 4.\n",
            "DEBUG:cmdstanpy:input tempfile: /tmp/tmpde06q29d/o8nja_8t.json\n",
            "DEBUG:cmdstanpy:input tempfile: /tmp/tmpde06q29d/izvbiqrl.json\n",
            "DEBUG:cmdstanpy:idx 0\n",
            "DEBUG:cmdstanpy:running CmdStan, num_threads: None\n",
            "DEBUG:cmdstanpy:CmdStan args: ['/usr/local/lib/python3.11/dist-packages/prophet/stan_model/prophet_model.bin', 'random', 'seed=55518', 'data', 'file=/tmp/tmpde06q29d/o8nja_8t.json', 'init=/tmp/tmpde06q29d/izvbiqrl.json', 'output', 'file=/tmp/tmpde06q29d/prophet_modelj9r4lflh/prophet_model-20250530101200.csv', 'method=optimize', 'algorithm=newton', 'iter=10000']\n",
            "10:12:00 - cmdstanpy - INFO - Chain [1] start processing\n",
            "INFO:cmdstanpy:Chain [1] start processing\n"
          ]
        },
        {
          "output_type": "stream",
          "name": "stdout",
          "text": [
            "Product: POCHE FILETS ANCHOIS 3 KG NAT | Non-null monthly points: 7\n"
          ]
        },
        {
          "output_type": "stream",
          "name": "stderr",
          "text": [
            "10:12:10 - cmdstanpy - INFO - Chain [1] done processing\n",
            "INFO:cmdstanpy:Chain [1] done processing\n",
            "INFO:prophet:Disabling weekly seasonality. Run prophet with weekly_seasonality=True to override this.\n",
            "INFO:prophet:Disabling daily seasonality. Run prophet with daily_seasonality=True to override this.\n",
            "INFO:prophet:n_changepoints greater than number of observations. Using 3.\n",
            "DEBUG:cmdstanpy:input tempfile: /tmp/tmpde06q29d/dlq5m1yl.json\n",
            "DEBUG:cmdstanpy:input tempfile: /tmp/tmpde06q29d/oak9lr1z.json\n",
            "DEBUG:cmdstanpy:idx 0\n",
            "DEBUG:cmdstanpy:running CmdStan, num_threads: None\n",
            "DEBUG:cmdstanpy:CmdStan args: ['/usr/local/lib/python3.11/dist-packages/prophet/stan_model/prophet_model.bin', 'random', 'seed=97851', 'data', 'file=/tmp/tmpde06q29d/dlq5m1yl.json', 'init=/tmp/tmpde06q29d/oak9lr1z.json', 'output', 'file=/tmp/tmpde06q29d/prophet_modelr0dbqyo3/prophet_model-20250530101210.csv', 'method=optimize', 'algorithm=newton', 'iter=10000']\n",
            "10:12:10 - cmdstanpy - INFO - Chain [1] start processing\n",
            "INFO:cmdstanpy:Chain [1] start processing\n"
          ]
        },
        {
          "output_type": "stream",
          "name": "stdout",
          "text": [
            "Product: BARQUETTES FILETS D'ANCHOIS 3.2KG HT-CAPRES | Non-null monthly points: 5\n"
          ]
        },
        {
          "output_type": "stream",
          "name": "stderr",
          "text": [
            "10:12:15 - cmdstanpy - INFO - Chain [1] done processing\n",
            "INFO:cmdstanpy:Chain [1] done processing\n",
            "INFO:prophet:Disabling weekly seasonality. Run prophet with weekly_seasonality=True to override this.\n",
            "INFO:prophet:Disabling daily seasonality. Run prophet with daily_seasonality=True to override this.\n",
            "INFO:prophet:n_changepoints greater than number of observations. Using 4.\n",
            "DEBUG:cmdstanpy:input tempfile: /tmp/tmpde06q29d/_i9egb5h.json\n",
            "DEBUG:cmdstanpy:input tempfile: /tmp/tmpde06q29d/1e7tlsl2.json\n",
            "DEBUG:cmdstanpy:idx 0\n",
            "DEBUG:cmdstanpy:running CmdStan, num_threads: None\n",
            "DEBUG:cmdstanpy:CmdStan args: ['/usr/local/lib/python3.11/dist-packages/prophet/stan_model/prophet_model.bin', 'random', 'seed=52756', 'data', 'file=/tmp/tmpde06q29d/_i9egb5h.json', 'init=/tmp/tmpde06q29d/1e7tlsl2.json', 'output', 'file=/tmp/tmpde06q29d/prophet_modelqtuz76da/prophet_model-20250530101216.csv', 'method=optimize', 'algorithm=newton', 'iter=10000']\n",
            "10:12:16 - cmdstanpy - INFO - Chain [1] start processing\n",
            "INFO:cmdstanpy:Chain [1] start processing\n"
          ]
        },
        {
          "output_type": "stream",
          "name": "stdout",
          "text": [
            "Product: SEAU FILETS ANCHOIS 20 KG-HT | Non-null monthly points: 7\n"
          ]
        },
        {
          "output_type": "stream",
          "name": "stderr",
          "text": [
            "10:12:25 - cmdstanpy - INFO - Chain [1] done processing\n",
            "INFO:cmdstanpy:Chain [1] done processing\n",
            "INFO:prophet:Disabling weekly seasonality. Run prophet with weekly_seasonality=True to override this.\n",
            "INFO:prophet:Disabling daily seasonality. Run prophet with daily_seasonality=True to override this.\n",
            "INFO:prophet:n_changepoints greater than number of observations. Using 3.\n",
            "DEBUG:cmdstanpy:input tempfile: /tmp/tmpde06q29d/wv8bmrhp.json\n",
            "DEBUG:cmdstanpy:input tempfile: /tmp/tmpde06q29d/gvp6e8mm.json\n",
            "DEBUG:cmdstanpy:idx 0\n",
            "DEBUG:cmdstanpy:running CmdStan, num_threads: None\n",
            "DEBUG:cmdstanpy:CmdStan args: ['/usr/local/lib/python3.11/dist-packages/prophet/stan_model/prophet_model.bin', 'random', 'seed=89726', 'data', 'file=/tmp/tmpde06q29d/wv8bmrhp.json', 'init=/tmp/tmpde06q29d/gvp6e8mm.json', 'output', 'file=/tmp/tmpde06q29d/prophet_modelxytv2sx_/prophet_model-20250530101225.csv', 'method=optimize', 'algorithm=newton', 'iter=10000']\n",
            "10:12:25 - cmdstanpy - INFO - Chain [1] start processing\n",
            "INFO:cmdstanpy:Chain [1] start processing\n"
          ]
        },
        {
          "output_type": "stream",
          "name": "stdout",
          "text": [
            "Product: SEAU FILETS ANCHOIS 5 KG-HT | Non-null monthly points: 5\n"
          ]
        },
        {
          "output_type": "stream",
          "name": "stderr",
          "text": [
            "10:12:30 - cmdstanpy - INFO - Chain [1] done processing\n",
            "INFO:cmdstanpy:Chain [1] done processing\n",
            "INFO:prophet:Disabling weekly seasonality. Run prophet with weekly_seasonality=True to override this.\n",
            "INFO:prophet:Disabling daily seasonality. Run prophet with daily_seasonality=True to override this.\n",
            "INFO:prophet:n_changepoints greater than number of observations. Using 3.\n",
            "DEBUG:cmdstanpy:input tempfile: /tmp/tmpde06q29d/yt0_x5w1.json\n",
            "DEBUG:cmdstanpy:input tempfile: /tmp/tmpde06q29d/macou789.json\n",
            "DEBUG:cmdstanpy:idx 0\n",
            "DEBUG:cmdstanpy:running CmdStan, num_threads: None\n",
            "DEBUG:cmdstanpy:CmdStan args: ['/usr/local/lib/python3.11/dist-packages/prophet/stan_model/prophet_model.bin', 'random', 'seed=51485', 'data', 'file=/tmp/tmpde06q29d/yt0_x5w1.json', 'init=/tmp/tmpde06q29d/macou789.json', 'output', 'file=/tmp/tmpde06q29d/prophet_modeloxofypt2/prophet_model-20250530101230.csv', 'method=optimize', 'algorithm=newton', 'iter=10000']\n",
            "10:12:30 - cmdstanpy - INFO - Chain [1] start processing\n",
            "INFO:cmdstanpy:Chain [1] start processing\n"
          ]
        },
        {
          "output_type": "stream",
          "name": "stdout",
          "text": [
            "Product: POCHE FILETS ANCHOIS SALéE 4KG  | Non-null monthly points: 1\n",
            "Skipping 'POCHE FILETS ANCHOIS SALéE 4KG ' due to insufficient data\n",
            "Product: POCHE MIETTES ANCHOIS 600GR HT | Non-null monthly points: 1\n",
            "Skipping 'POCHE MIETTES ANCHOIS 600GR HT' due to insufficient data\n",
            "Product: SARDINE EXPORT 110G HV IRAQ | Non-null monthly points: 1\n",
            "Skipping 'SARDINE EXPORT 110G HV IRAQ' due to insufficient data\n",
            "Product: SARDINES 110 GR  PIMENT IRAQ | Non-null monthly points: 1\n",
            "Skipping 'SARDINES 110 GR  PIMENT IRAQ' due to insufficient data\n",
            "Product: POCHE  THON 1 KG HV | Non-null monthly points: 1\n",
            "Skipping 'POCHE  THON 1 KG HV' due to insufficient data\n",
            "Product: LOT 3 BOITES THON ENTIER.160 Gr SD-HV-EMBOUT | Non-null monthly points: 6\n"
          ]
        },
        {
          "output_type": "stream",
          "name": "stderr",
          "text": [
            "10:12:39 - cmdstanpy - INFO - Chain [1] done processing\n",
            "INFO:cmdstanpy:Chain [1] done processing\n",
            "INFO:prophet:Disabling weekly seasonality. Run prophet with weekly_seasonality=True to override this.\n",
            "INFO:prophet:Disabling daily seasonality. Run prophet with daily_seasonality=True to override this.\n",
            "INFO:prophet:n_changepoints greater than number of observations. Using 3.\n",
            "DEBUG:cmdstanpy:input tempfile: /tmp/tmpde06q29d/jojm_8bz.json\n",
            "DEBUG:cmdstanpy:input tempfile: /tmp/tmpde06q29d/s94oucq4.json\n",
            "DEBUG:cmdstanpy:idx 0\n",
            "DEBUG:cmdstanpy:running CmdStan, num_threads: None\n",
            "DEBUG:cmdstanpy:CmdStan args: ['/usr/local/lib/python3.11/dist-packages/prophet/stan_model/prophet_model.bin', 'random', 'seed=61567', 'data', 'file=/tmp/tmpde06q29d/jojm_8bz.json', 'init=/tmp/tmpde06q29d/s94oucq4.json', 'output', 'file=/tmp/tmpde06q29d/prophet_modelrinobmbn/prophet_model-20250530101239.csv', 'method=optimize', 'algorithm=newton', 'iter=10000']\n",
            "10:12:39 - cmdstanpy - INFO - Chain [1] start processing\n",
            "INFO:cmdstanpy:Chain [1] start processing\n"
          ]
        },
        {
          "output_type": "stream",
          "name": "stdout",
          "text": [
            "Product: THON ENT.KASH.160 Gr HV-FP-SD | Non-null monthly points: 1\n",
            "Skipping 'THON ENT.KASH.160 Gr HV-FP-SD' due to insufficient data\n",
            "Product: THON ENT.KASH.2,050 KG HV SD | Non-null monthly points: 1\n",
            "Skipping 'THON ENT.KASH.2,050 KG HV SD' due to insufficient data\n",
            "Product: BOCAUX FIL THON 190 HO -Kasher | Non-null monthly points: 1\n",
            "Skipping 'BOCAUX FIL THON 190 HO -Kasher' due to insufficient data\n",
            "Product: BOCAUX FILET THON  HP-KACHER | Non-null monthly points: 1\n",
            "Skipping 'BOCAUX FILET THON  HP-KACHER' due to insufficient data\n",
            "Product: BOCAUX FILET THON  CI-KACHER | Non-null monthly points: 1\n",
            "Skipping 'BOCAUX FILET THON  CI-KACHER' due to insufficient data\n",
            "Product: BOCAUX FIL THON  HO-MO KACHER | Non-null monthly points: 1\n",
            "Skipping 'BOCAUX FIL THON  HO-MO KACHER' due to insufficient data\n",
            "Product: FILETS MAQU-GRILLES 170 GR HT | Non-null monthly points: 5\n"
          ]
        },
        {
          "output_type": "stream",
          "name": "stderr",
          "text": [
            "10:12:48 - cmdstanpy - INFO - Chain [1] done processing\n",
            "INFO:cmdstanpy:Chain [1] done processing\n",
            "INFO:prophet:Disabling weekly seasonality. Run prophet with weekly_seasonality=True to override this.\n",
            "INFO:prophet:Disabling daily seasonality. Run prophet with daily_seasonality=True to override this.\n",
            "INFO:prophet:n_changepoints greater than number of observations. Using 3.\n",
            "DEBUG:cmdstanpy:input tempfile: /tmp/tmpde06q29d/rsnkw9j_.json\n",
            "DEBUG:cmdstanpy:input tempfile: /tmp/tmpde06q29d/bt19iei6.json\n",
            "DEBUG:cmdstanpy:idx 0\n",
            "DEBUG:cmdstanpy:running CmdStan, num_threads: None\n",
            "DEBUG:cmdstanpy:CmdStan args: ['/usr/local/lib/python3.11/dist-packages/prophet/stan_model/prophet_model.bin', 'random', 'seed=47500', 'data', 'file=/tmp/tmpde06q29d/rsnkw9j_.json', 'init=/tmp/tmpde06q29d/bt19iei6.json', 'output', 'file=/tmp/tmpde06q29d/prophet_modelawysg2ga/prophet_model-20250530101248.csv', 'method=optimize', 'algorithm=newton', 'iter=10000']\n",
            "10:12:48 - cmdstanpy - INFO - Chain [1] start processing\n",
            "INFO:cmdstanpy:Chain [1] start processing\n"
          ]
        },
        {
          "output_type": "stream",
          "name": "stdout",
          "text": [
            "Product: SARDINES 125Gr HT ALMARJ | Non-null monthly points: 6\n"
          ]
        },
        {
          "output_type": "stream",
          "name": "stderr",
          "text": [
            "10:12:57 - cmdstanpy - INFO - Chain [1] done processing\n",
            "INFO:cmdstanpy:Chain [1] done processing\n",
            "INFO:prophet:Disabling weekly seasonality. Run prophet with weekly_seasonality=True to override this.\n",
            "INFO:prophet:Disabling daily seasonality. Run prophet with daily_seasonality=True to override this.\n",
            "INFO:prophet:n_changepoints greater than number of observations. Using 3.\n",
            "DEBUG:cmdstanpy:input tempfile: /tmp/tmpde06q29d/o55s5zp8.json\n",
            "DEBUG:cmdstanpy:input tempfile: /tmp/tmpde06q29d/bmlde_ia.json\n",
            "DEBUG:cmdstanpy:idx 0\n",
            "DEBUG:cmdstanpy:running CmdStan, num_threads: None\n",
            "DEBUG:cmdstanpy:CmdStan args: ['/usr/local/lib/python3.11/dist-packages/prophet/stan_model/prophet_model.bin', 'random', 'seed=73031', 'data', 'file=/tmp/tmpde06q29d/o55s5zp8.json', 'init=/tmp/tmpde06q29d/bmlde_ia.json', 'output', 'file=/tmp/tmpde06q29d/prophet_modelog46eyke/prophet_model-20250530101257.csv', 'method=optimize', 'algorithm=newton', 'iter=10000']\n",
            "10:12:57 - cmdstanpy - INFO - Chain [1] start processing\n",
            "INFO:cmdstanpy:Chain [1] start processing\n"
          ]
        },
        {
          "output_type": "stream",
          "name": "stdout",
          "text": [
            "Product: THON 300 GR HV OF SD | Non-null monthly points: 5\n"
          ]
        },
        {
          "output_type": "stream",
          "name": "stderr",
          "text": [
            "10:13:06 - cmdstanpy - INFO - Chain [1] done processing\n",
            "INFO:cmdstanpy:Chain [1] done processing\n",
            "INFO:prophet:Disabling weekly seasonality. Run prophet with weekly_seasonality=True to override this.\n",
            "INFO:prophet:Disabling daily seasonality. Run prophet with daily_seasonality=True to override this.\n",
            "INFO:prophet:n_changepoints greater than number of observations. Using 3.\n",
            "DEBUG:cmdstanpy:input tempfile: /tmp/tmpde06q29d/4222iwyh.json\n",
            "DEBUG:cmdstanpy:input tempfile: /tmp/tmpde06q29d/84bkpdpa.json\n",
            "DEBUG:cmdstanpy:idx 0\n",
            "DEBUG:cmdstanpy:running CmdStan, num_threads: None\n",
            "DEBUG:cmdstanpy:CmdStan args: ['/usr/local/lib/python3.11/dist-packages/prophet/stan_model/prophet_model.bin', 'random', 'seed=68381', 'data', 'file=/tmp/tmpde06q29d/4222iwyh.json', 'init=/tmp/tmpde06q29d/84bkpdpa.json', 'output', 'file=/tmp/tmpde06q29d/prophet_modelwk7h2uas/prophet_model-20250530101306.csv', 'method=optimize', 'algorithm=newton', 'iter=10000']\n",
            "10:13:06 - cmdstanpy - INFO - Chain [1] start processing\n",
            "INFO:cmdstanpy:Chain [1] start processing\n"
          ]
        },
        {
          "output_type": "stream",
          "name": "stdout",
          "text": [
            "Product: ECH-FILET DE THON  BOCAUX 250G | Non-null monthly points: 5\n"
          ]
        },
        {
          "output_type": "stream",
          "name": "stderr",
          "text": [
            "10:13:13 - cmdstanpy - INFO - Chain [1] done processing\n",
            "INFO:cmdstanpy:Chain [1] done processing\n",
            "INFO:prophet:Disabling weekly seasonality. Run prophet with weekly_seasonality=True to override this.\n",
            "INFO:prophet:Disabling daily seasonality. Run prophet with daily_seasonality=True to override this.\n",
            "INFO:prophet:n_changepoints greater than number of observations. Using 0.\n",
            "DEBUG:cmdstanpy:input tempfile: /tmp/tmpde06q29d/idtsa4x1.json\n",
            "DEBUG:cmdstanpy:input tempfile: /tmp/tmpde06q29d/9ro5d48k.json\n",
            "DEBUG:cmdstanpy:idx 0\n",
            "DEBUG:cmdstanpy:running CmdStan, num_threads: None\n",
            "DEBUG:cmdstanpy:CmdStan args: ['/usr/local/lib/python3.11/dist-packages/prophet/stan_model/prophet_model.bin', 'random', 'seed=74475', 'data', 'file=/tmp/tmpde06q29d/idtsa4x1.json', 'init=/tmp/tmpde06q29d/9ro5d48k.json', 'output', 'file=/tmp/tmpde06q29d/prophet_modelpnaipql0/prophet_model-20250530101313.csv', 'method=optimize', 'algorithm=newton', 'iter=10000']\n",
            "10:13:13 - cmdstanpy - INFO - Chain [1] start processing\n",
            "INFO:cmdstanpy:Chain [1] start processing\n"
          ]
        },
        {
          "output_type": "stream",
          "name": "stdout",
          "text": [
            "Product: ECH THON ANONYME 2,050 KG NAT | Non-null monthly points: 1\n",
            "Skipping 'ECH THON ANONYME 2,050 KG NAT' due to insufficient data\n",
            "Product: BOITE THON ENTIER 160 GR HT-TIDAL | Non-null monthly points: 1\n",
            "Skipping 'BOITE THON ENTIER 160 GR HT-TIDAL' due to insufficient data\n",
            "Product: BOITE THON 160G HARISSA LE PHARE DU CAP BON | Non-null monthly points: 2\n"
          ]
        },
        {
          "output_type": "stream",
          "name": "stderr",
          "text": [
            "10:13:19 - cmdstanpy - INFO - Chain [1] done processing\n",
            "INFO:cmdstanpy:Chain [1] done processing\n",
            "INFO:prophet:Disabling weekly seasonality. Run prophet with weekly_seasonality=True to override this.\n",
            "INFO:prophet:Disabling daily seasonality. Run prophet with daily_seasonality=True to override this.\n",
            "INFO:prophet:n_changepoints greater than number of observations. Using 0.\n",
            "DEBUG:cmdstanpy:input tempfile: /tmp/tmpde06q29d/6nobeg2q.json\n",
            "DEBUG:cmdstanpy:input tempfile: /tmp/tmpde06q29d/r60pwbiy.json\n",
            "DEBUG:cmdstanpy:idx 0\n",
            "DEBUG:cmdstanpy:running CmdStan, num_threads: None\n",
            "DEBUG:cmdstanpy:CmdStan args: ['/usr/local/lib/python3.11/dist-packages/prophet/stan_model/prophet_model.bin', 'random', 'seed=73436', 'data', 'file=/tmp/tmpde06q29d/6nobeg2q.json', 'init=/tmp/tmpde06q29d/r60pwbiy.json', 'output', 'file=/tmp/tmpde06q29d/prophet_model0bsjh37x/prophet_model-20250530101319.csv', 'method=optimize', 'algorithm=newton', 'iter=10000']\n",
            "10:13:19 - cmdstanpy - INFO - Chain [1] start processing\n",
            "INFO:cmdstanpy:Chain [1] start processing\n"
          ]
        },
        {
          "output_type": "stream",
          "name": "stdout",
          "text": [
            "Product:  THON ANONYME 2,050 KG NAT | Non-null monthly points: 2\n"
          ]
        },
        {
          "output_type": "stream",
          "name": "stderr",
          "text": [
            "10:13:27 - cmdstanpy - INFO - Chain [1] done processing\n",
            "INFO:cmdstanpy:Chain [1] done processing\n",
            "INFO:prophet:Disabling weekly seasonality. Run prophet with weekly_seasonality=True to override this.\n",
            "INFO:prophet:Disabling daily seasonality. Run prophet with daily_seasonality=True to override this.\n",
            "INFO:prophet:n_changepoints greater than number of observations. Using 0.\n",
            "DEBUG:cmdstanpy:input tempfile: /tmp/tmpde06q29d/_u3aie_r.json\n",
            "DEBUG:cmdstanpy:input tempfile: /tmp/tmpde06q29d/ce5bdxl0.json\n",
            "DEBUG:cmdstanpy:idx 0\n",
            "DEBUG:cmdstanpy:running CmdStan, num_threads: None\n",
            "DEBUG:cmdstanpy:CmdStan args: ['/usr/local/lib/python3.11/dist-packages/prophet/stan_model/prophet_model.bin', 'random', 'seed=57747', 'data', 'file=/tmp/tmpde06q29d/_u3aie_r.json', 'init=/tmp/tmpde06q29d/ce5bdxl0.json', 'output', 'file=/tmp/tmpde06q29d/prophet_modelfsun95vn/prophet_model-20250530101327.csv', 'method=optimize', 'algorithm=newton', 'iter=10000']\n",
            "10:13:27 - cmdstanpy - INFO - Chain [1] start processing\n",
            "INFO:cmdstanpy:Chain [1] start processing\n"
          ]
        },
        {
          "output_type": "stream",
          "name": "stdout",
          "text": [
            "Product: SARDINES 125 Gr HV-OF SCIT | Non-null monthly points: 1\n",
            "Skipping 'SARDINES 125 Gr HV-OF SCIT' due to insufficient data\n",
            "Product: SARDINES 110Gr HV LA PRINCESSE | Non-null monthly points: 1\n",
            "Skipping 'SARDINES 110Gr HV LA PRINCESSE' due to insufficient data\n",
            "Product: SARDINES ZEMBRA 125 G HV-LYBIE | Non-null monthly points: 1\n",
            "Skipping 'SARDINES ZEMBRA 125 G HV-LYBIE' due to insufficient data\n",
            "Product: SARDINES 120 Gr HO-OF ZEMBRA | Non-null monthly points: 1\n",
            "Skipping 'SARDINES 120 Gr HO-OF ZEMBRA' due to insufficient data\n",
            "Product: SARDINES 110 GR ZEMBRA HT | Non-null monthly points: 1\n",
            "Skipping 'SARDINES 110 GR ZEMBRA HT' due to insufficient data\n",
            "Product: AV/IRPP | Non-null monthly points: 1\n",
            "Skipping 'AV/IRPP' due to insufficient data\n",
            "Product: PF POCHE 500G FILETS D’ANCHOIS SALÉE NATUREL | Non-null monthly points: 2\n"
          ]
        },
        {
          "output_type": "stream",
          "name": "stderr",
          "text": [
            "10:13:31 - cmdstanpy - INFO - Chain [1] done processing\n",
            "INFO:cmdstanpy:Chain [1] done processing\n"
          ]
        },
        {
          "output_type": "stream",
          "name": "stdout",
          "text": [
            "Product: THON ANONYME 2,050 KG NAT | Non-null monthly points: 1\n",
            "Skipping 'THON ANONYME 2,050 KG NAT' due to insufficient data\n",
            "Product: BOITE DE THON 770 GR HO-SD | Non-null monthly points: 1\n",
            "Skipping 'BOITE DE THON 770 GR HO-SD' due to insufficient data\n",
            "Product: BOITE THON ENTIER 80 GR H0 | Non-null monthly points: 1\n",
            "Skipping 'BOITE THON ENTIER 80 GR H0' due to insufficient data\n",
            "Product: PF BTE THON 160 GR HO NEW ADAMER | Non-null monthly points: 1\n",
            "Skipping 'PF BTE THON 160 GR HO NEW ADAMER' due to insufficient data\n",
            "Product: PF BTE THON 2050 GR HV NEW ADAMER\t | Non-null monthly points: 1\n",
            "Skipping 'PF BTE THON 2050 GR HV NEW ADAMER\t' due to insufficient data\n",
            "Product: BOITE THON ENTIER 80 GR HO | Non-null monthly points: 1\n",
            "Skipping 'BOITE THON ENTIER 80 GR HO' due to insufficient data\n",
            "Product: SARDINES 120 GR -PI KOLL YOUM | Non-null monthly points: 1\n",
            "Skipping 'SARDINES 120 GR -PI KOLL YOUM' due to insufficient data\n",
            "Product: SARDINES 120 GR -TO KOLL YOUM | Non-null monthly points: 1\n",
            "Skipping 'SARDINES 120 GR -TO KOLL YOUM' due to insufficient data\n",
            "✅ Saved forecasted quantities per product for next 3 months to 'forecasted_quantities_per_product.csv'\n"
          ]
        }
      ]
    },
    {
      "cell_type": "code",
      "source": [
        "import pandas as pd\n",
        "from prophet import Prophet\n",
        "\n",
        "# Load data\n",
        "df = pd.read_excel(\"export_table (1).xlsx\", sheet_name=\"Sheet1\")\n",
        "df['date'] = pd.to_datetime(df['date'], errors='coerce')\n",
        "\n",
        "# Check date range\n",
        "print(f\"Data date range: {df['date'].min()} to {df['date'].max()}\")\n",
        "\n",
        "# Filter training data (change this if needed)\n",
        "df_train = df[(df['date'] >= '2024-01-01') & (df['date'] < '2025-01-01')]\n",
        "print(f\"Training data rows: {df_train.shape[0]}\")\n",
        "\n",
        "# Get unique product descriptions\n",
        "products = df_train['Description'].unique()\n",
        "print(f\"Total unique products: {len(products)}\")\n",
        "\n",
        "all_comparisons = []\n",
        "\n",
        "for product in products:\n",
        "    product_data = df_train[df_train['Description'] == product]\n",
        "\n",
        "    # Monthly aggregation of quantity\n",
        "    monthly = product_data.groupby(pd.Grouper(key='date', freq='ME'))['Quantity'].sum().reset_index()\n",
        "    monthly.rename(columns={'date': 'ds', 'Quantity': 'y'}, inplace=True)\n",
        "\n",
        "    if monthly['y'].notna().sum() < 2:\n",
        "        print(f\"Skipping '{product}' due to insufficient data\")\n",
        "        continue\n",
        "\n",
        "    # Train Prophet\n",
        "    model = Prophet()\n",
        "    model.fit(monthly)\n",
        "\n",
        "    # Forecast next 3 months\n",
        "    future = model.make_future_dataframe(periods=3, freq='ME')\n",
        "    forecast = model.predict(future)\n",
        "\n",
        "    # Merge actuals with predictions\n",
        "    comparison = pd.merge(monthly, forecast[['ds', 'yhat']], on='ds', how='outer')\n",
        "    comparison['Description'] = product\n",
        "    comparison.rename(columns={'y': 'actual_quantity', 'yhat': 'predicted_quantity'}, inplace=True)\n",
        "    comparison['error'] = comparison['actual_quantity'] - comparison['predicted_quantity']\n",
        "\n",
        "    all_comparisons.append(comparison)\n",
        "\n",
        "# Combine all products' forecasts\n",
        "if all_comparisons:\n",
        "    final_df = pd.concat(all_comparisons)\n",
        "    final_df = final_df[['ds', 'Description', 'actual_quantity', 'predicted_quantity', 'error']]\n",
        "    final_df.rename(columns={'ds': 'date'}, inplace=True)\n",
        "    final_df.to_csv(\"actual_vs_predicted_quantities.csv\", index=False)\n",
        "    print(\"✅ Saved actual vs. predicted quantities to 'actual_vs_predicted_quantities.csv'\")\n",
        "else:\n",
        "    print(\"❌ No products with sufficient data to forecast.\")\n"
      ],
      "metadata": {
        "id": "hGO8McL8scNC"
      },
      "execution_count": null,
      "outputs": []
    },
    {
      "cell_type": "code",
      "source": [
        "import pandas as pd\n",
        "import numpy as np\n",
        "import xgboost as xgb\n",
        "from sklearn.metrics import mean_absolute_error\n",
        "from sklearn.model_selection import train_test_split\n",
        "import calendar\n",
        "\n",
        "# Load data\n",
        "df = pd.read_excel(\"export_table (1).xlsx\", sheet_name=\"Sheet1\")\n",
        "df['date'] = pd.to_datetime(df['date'])\n",
        "df['month'] = df['date'].dt.month\n",
        "df['year'] = df['date'].dt.year\n",
        "\n",
        "# Aggregate monthly quantity per product\n",
        "monthly = df.groupby([pd.Grouper(key='date', freq='M'), 'Description'])['Quantity'].sum().reset_index()\n",
        "monthly['month'] = monthly['date'].dt.month\n",
        "monthly['year'] = monthly['date'].dt.year\n",
        "\n",
        "# Create a pivot to ensure consistent data format\n",
        "products = monthly['Description'].unique()\n",
        "results = []\n",
        "\n",
        "# Predict for Jan–Mar 2024\n",
        "future_months = [(2024, 1), (2024, 2), (2024, 3)]\n",
        "\n",
        "for desc in products:\n",
        "    product_data = monthly[monthly['Description'] == desc].copy()\n",
        "\n",
        "    # Features\n",
        "    product_data['month'] = product_data['date'].dt.month\n",
        "    product_data['year'] = product_data['date'].dt.year\n",
        "    product_data['y'] = product_data['Quantity']\n",
        "\n",
        "    if len(product_data) < 6:\n",
        "        continue  # not enough data to train\n",
        "\n",
        "    X = product_data[['year', 'month']]\n",
        "    y = product_data['y']\n",
        "\n",
        "    model = xgb.XGBRegressor(objective='reg:squarederror', n_estimators=100)\n",
        "    model.fit(X, y)\n",
        "\n",
        "    # Prepare future months\n",
        "    future_df = pd.DataFrame(future_months, columns=['year', 'month'])\n",
        "    future_df['Description'] = desc\n",
        "    future_df['date'] = pd.to_datetime(dict(year=future_df['year'], month=future_df['month'], day=1)) + pd.offsets.MonthEnd(0)\n",
        "    future_df['predicted_quantity'] = model.predict(future_df[['year', 'month']])\n",
        "\n",
        "    # Get actuals if available\n",
        "    actuals = monthly[(monthly['Description'] == desc) & (monthly['year'] == 2024) & (monthly['month'].isin([1, 2, 3]))]\n",
        "    merged = pd.merge(future_df, actuals[['date', 'Quantity']], on='date', how='left')\n",
        "    merged.rename(columns={'Quantity': 'actual_quantity'}, inplace=True)\n",
        "    merged['error'] = merged['actual_quantity'] - merged['predicted_quantity']\n",
        "    results.append(merged)\n",
        "\n",
        "# Combine all predictions\n",
        "final = pd.concat(results)\n",
        "final = final[['date', 'Description', 'actual_quantity', 'predicted_quantity', 'error']]\n",
        "\n",
        "# Save to CSV\n",
        "final.to_csv(\"xgboost_forecast_results.csv\", index=False)\n",
        "print(\"✅ XGBoost forecast saved to 'xgboost_forecast_results.csv'\")\n"
      ],
      "metadata": {
        "colab": {
          "base_uri": "https://localhost:8080/"
        },
        "id": "VVsy8jEgs8Ua",
        "outputId": "24889543-382f-4f13-e9a9-0059feb8bcf7"
      },
      "execution_count": null,
      "outputs": [
        {
          "output_type": "stream",
          "name": "stderr",
          "text": [
            "<ipython-input-30-91d84631154d>:15: FutureWarning: 'M' is deprecated and will be removed in a future version, please use 'ME' instead.\n",
            "  monthly = df.groupby([pd.Grouper(key='date', freq='M'), 'Description'])['Quantity'].sum().reset_index()\n"
          ]
        },
        {
          "output_type": "stream",
          "name": "stdout",
          "text": [
            "✅ XGBoost forecast saved to 'xgboost_forecast_results.csv'\n"
          ]
        }
      ]
    },
    {
      "cell_type": "code",
      "source": [
        "import pandas as pd\n",
        "import numpy as np\n",
        "import xgboost as xgb\n",
        "from sklearn.metrics import mean_absolute_error\n",
        "from sklearn.model_selection import train_test_split\n",
        "import calendar\n",
        "\n",
        "# Load main data\n",
        "df = pd.read_excel(\"export_table (1).xlsx\", sheet_name=\"Sheet1\")\n",
        "df['date'] = pd.to_datetime(df['date'])\n",
        "df['month'] = df['date'].dt.month\n",
        "df['year'] = df['date'].dt.year\n",
        "\n",
        "# Optional: Create a unit price mapping (you can load this from another file too)\n",
        "# Example:\n",
        "unit_prices = df.groupby(\"Description\")['Unit Price'].first().to_dict()\n",
        "\n",
        "# Aggregate monthly quantity per product\n",
        "monthly = df.groupby([pd.Grouper(key='date', freq='M'), 'Description'])['Quantity'].sum().reset_index()\n",
        "monthly['month'] = monthly['date'].dt.month\n",
        "monthly['year'] = monthly['date'].dt.year\n",
        "\n",
        "products = monthly['Description'].unique()\n",
        "results = []\n",
        "\n",
        "# Predict for Jan–Mar 2024\n",
        "future_months = [(2024, 1), (2024, 2), (2024, 3)]\n",
        "\n",
        "for desc in products:\n",
        "    product_data = monthly[monthly['Description'] == desc].copy()\n",
        "    product_data['month'] = product_data['date'].dt.month\n",
        "    product_data['year'] = product_data['date'].dt.year\n",
        "    product_data['y'] = product_data['Quantity']\n",
        "\n",
        "    if len(product_data) < 6:\n",
        "        continue  # not enough data\n",
        "\n",
        "    X = product_data[['year', 'month']]\n",
        "    y = product_data['y']\n",
        "\n",
        "    model = xgb.XGBRegressor(objective='reg:squarederror', n_estimators=100)\n",
        "    model.fit(X, y)\n",
        "\n",
        "    # Prepare future months\n",
        "    future_df = pd.DataFrame(future_months, columns=['year', 'month'])\n",
        "    future_df['Description'] = desc\n",
        "    future_df['date'] = pd.to_datetime(dict(year=future_df['year'], month=future_df['month'], day=1)) + pd.offsets.MonthEnd(0)\n",
        "    future_df['predicted_quantity'] = model.predict(future_df[['year', 'month']])\n",
        "\n",
        "    # Add unit price and compute predicted amount\n",
        "    future_df['unit_price'] = unit_prices.get(desc, 0)\n",
        "    future_df['predicted_amount'] = future_df['predicted_quantity'] * future_df['unit_price']\n",
        "\n",
        "    # Get actuals if available\n",
        "    actuals = monthly[(monthly['Description'] == desc) & (monthly['year'] == 2024) & (monthly['month'].isin([1, 2, 3]))]\n",
        "    merged = pd.merge(future_df, actuals[['date', 'Quantity']], on='date', how='left')\n",
        "    merged.rename(columns={'Quantity': 'actual_quantity'}, inplace=True)\n",
        "    merged['error'] = merged['actual_quantity'] - merged['predicted_quantity']\n",
        "    results.append(merged)\n",
        "\n",
        "# Combine and export\n",
        "final = pd.concat(results)\n",
        "final = final[['date', 'Description', 'unit_price', 'actual_quantity', 'predicted_quantity', 'predicted_amount', 'error']]\n",
        "final.to_csv(\"xgboost_forecast_with_amount.csv\", index=False)\n",
        "print(\"✅ Forecast with predicted amount saved to 'xgboost_forecast_with_amount.csv'\")\n"
      ],
      "metadata": {
        "colab": {
          "base_uri": "https://localhost:8080/"
        },
        "id": "GicKyhVuzKcq",
        "outputId": "a17d043a-484e-4004-e0b8-bd30655c0499"
      },
      "execution_count": null,
      "outputs": [
        {
          "output_type": "stream",
          "name": "stderr",
          "text": [
            "<ipython-input-31-93c6c378e72e>:19: FutureWarning: 'M' is deprecated and will be removed in a future version, please use 'ME' instead.\n",
            "  monthly = df.groupby([pd.Grouper(key='date', freq='M'), 'Description'])['Quantity'].sum().reset_index()\n"
          ]
        },
        {
          "output_type": "stream",
          "name": "stdout",
          "text": [
            "✅ Forecast with predicted amount saved to 'xgboost_forecast_with_amount.csv'\n"
          ]
        }
      ]
    },
    {
      "cell_type": "markdown",
      "source": [
        "#whole code\n"
      ],
      "metadata": {
        "id": "V9yXuHc4zv4j"
      }
    },
    {
      "cell_type": "code",
      "source": [
        "import pandas as pd\n",
        "import numpy as np\n",
        "import xgboost as xgb\n",
        "from sklearn.metrics import mean_absolute_error\n",
        "from sklearn.model_selection import train_test_split\n",
        "import calendar\n",
        "\n",
        "# 1. Load Excel data\n",
        "df = pd.read_excel(\"export_table (1).xlsx\", sheet_name=\"Sheet1\")\n",
        "\n",
        "# 2. Preprocessing\n",
        "df['date'] = pd.to_datetime(df['date'])\n",
        "df['month'] = df['date'].dt.month\n",
        "df['year'] = df['date'].dt.year\n",
        "\n",
        "# 3. Get unit price per product\n",
        "unit_prices = df.groupby(\"Description\")['Unit Price'].first().to_dict()\n",
        "\n",
        "# 4. Aggregate monthly quantity\n",
        "monthly = df.groupby([pd.Grouper(key='date', freq='M'), 'Description'])['Quantity'].sum().reset_index()\n",
        "monthly['month'] = monthly['date'].dt.month\n",
        "monthly['year'] = monthly['date'].dt.year\n",
        "\n",
        "# 5. Products and future months\n",
        "products = monthly['Description'].unique()\n",
        "future_months = [(2025, 1), (2025, 2), (2025, 3)]\n",
        "results = []\n",
        "\n",
        "# 6. Loop through each product\n",
        "for desc in products:\n",
        "    product_data = monthly[monthly['Description'] == desc].copy()\n",
        "    product_data['y'] = product_data['Quantity']\n",
        "\n",
        "    if len(product_data) < 6:\n",
        "        continue\n",
        "\n",
        "    training_data = product_data[product_data['year'] < 2025]\n",
        "    X = training_data[['year', 'month']]\n",
        "    y = training_data['y']\n",
        "\n",
        "    model = xgb.XGBRegressor(objective='reg:squarederror', n_estimators=100)\n",
        "    model.fit(X, y)\n",
        "\n",
        "    # Future dataframe\n",
        "    future_df = pd.DataFrame(future_months, columns=['year', 'month'])\n",
        "    future_df['Description'] = desc\n",
        "    future_df['date'] = pd.to_datetime(dict(year=future_df['year'], month=future_df['month'], day=1)) + pd.offsets.MonthEnd(0)\n",
        "    future_df['predicted_quantity'] = model.predict(future_df[['year', 'month']])\n",
        "    future_df['unit_price'] = unit_prices.get(desc, 0)\n",
        "    future_df['predicted_amount'] = future_df['predicted_quantity'] * future_df['unit_price']\n",
        "\n",
        "    # Align actuals for merge\n",
        "    actuals = monthly[\n",
        "        (monthly['Description'] == desc) &\n",
        "        (monthly['year'] == 2025) &\n",
        "        (monthly['month'].isin([1, 2, 3]))\n",
        "    ][['date', 'Quantity']].copy()\n",
        "\n",
        "    actuals['date'] = pd.to_datetime(actuals['date']) + pd.offsets.MonthEnd(0)  # ensure month end\n",
        "    actuals.rename(columns={'Quantity': 'actual_quantity'}, inplace=True)\n",
        "\n",
        "    # Merge safely\n",
        "    merged = pd.merge(future_df, actuals, on='date', how='left')\n",
        "    merged['error'] = merged['actual_quantity'] - merged['predicted_quantity']\n",
        "    results.append(merged)\n",
        "\n",
        "# 7. Export final results\n",
        "if results:\n",
        "    final = pd.concat(results)\n",
        "    final = final[['date', 'Description', 'unit_price', 'actual_quantity', 'predicted_quantity', 'predicted_amount', 'error']]\n",
        "\n",
        "    # Add NO_ column as the first column\n",
        "    final.insert(0, 'NO_', range(1, len(final) + 1))\n",
        "\n",
        "    final.to_csv(\"xgboost_forecast_jan_mar_2025.csv\", index=False)\n",
        "    print(\"✅ Forecast for Jan–Mar 2025 saved to 'xgboost_forecast_jan_mar_2025.csv'\")\n",
        "else:\n",
        "    print(\"❌ No products had enough data to forecast.\")\n"
      ],
      "metadata": {
        "colab": {
          "base_uri": "https://localhost:8080/"
        },
        "id": "lrTqG6Ndzxs9",
        "outputId": "7761484f-623b-4f61-ecc2-8f723f2840aa"
      },
      "execution_count": null,
      "outputs": [
        {
          "output_type": "stream",
          "name": "stderr",
          "text": [
            "<ipython-input-5-53234d74c9c9>:20: FutureWarning: 'M' is deprecated and will be removed in a future version, please use 'ME' instead.\n",
            "  monthly = df.groupby([pd.Grouper(key='date', freq='M'), 'Description'])['Quantity'].sum().reset_index()\n"
          ]
        },
        {
          "output_type": "stream",
          "name": "stdout",
          "text": [
            "✅ Forecast for Jan–Mar 2025 saved to 'xgboost_forecast_jan_mar_2025.csv'\n"
          ]
        }
      ]
    },
    {
      "cell_type": "markdown",
      "source": [
        "##prediction of april may juin 2025\n"
      ],
      "metadata": {
        "id": "66NwyGHy1w3a"
      }
    },
    {
      "cell_type": "code",
      "source": [
        "import pandas as pd\n",
        "import numpy as np\n",
        "import xgboost as xgb\n",
        "from sklearn.metrics import mean_absolute_error\n",
        "from sklearn.model_selection import train_test_split\n",
        "import calendar\n",
        "\n",
        "# 1. Load Excel data\n",
        "df = pd.read_excel(\"export_table (1).xlsx\", sheet_name=\"Sheet1\")\n",
        "\n",
        "# 2. Preprocessing\n",
        "df['date'] = pd.to_datetime(df['date'])\n",
        "df['month'] = df['date'].dt.month\n",
        "df['year'] = df['date'].dt.year\n",
        "\n",
        "# 3. Get unit price per product\n",
        "unit_prices = df.groupby(\"Description\")['Unit Price'].first().to_dict()\n",
        "\n",
        "# 4. Aggregate monthly total per product\n",
        "monthly = df.groupby([pd.Grouper(key='date', freq='M'), 'Description'])['Quantity'].sum().reset_index()\n",
        "monthly['month'] = monthly['date'].dt.month\n",
        "monthly['year'] = monthly['date'].dt.year\n",
        "\n",
        "# 5. Products and target months to predict\n",
        "products = monthly['Description'].unique()\n",
        "results = []\n",
        "\n",
        "# Target future months: Apr, May, Jun for 2025, 2026, 2027\n",
        "future_months = [(year, month) for year in [2025, 2026, 2027] for month in [4, 5, 6]]\n",
        "\n",
        "# 6. Loop through products and forecast\n",
        "for desc in products:\n",
        "    product_data = monthly[monthly['Description'] == desc].copy()\n",
        "    product_data['y'] = product_data['Quantity']\n",
        "\n",
        "    if len(product_data) < 6:\n",
        "        continue  # Skip products with insufficient history\n",
        "\n",
        "    X = product_data[['year', 'month']]\n",
        "    y = product_data['y']\n",
        "\n",
        "    model = xgb.XGBRegressor(objective='reg:squarederror', n_estimators=100)\n",
        "    model.fit(X, y)\n",
        "\n",
        "    # Prepare future DataFrame for predictions\n",
        "    future_df = pd.DataFrame(future_months, columns=['year', 'month'])\n",
        "    future_df['Description'] = desc\n",
        "    future_df['date'] = pd.to_datetime(dict(year=future_df['year'], month=future_df['month'], day=1)) + pd.offsets.MonthEnd(0)\n",
        "    future_df['predicted_quantity'] = model.predict(future_df[['year', 'month']])\n",
        "\n",
        "    # Add unit price and predicted amount\n",
        "    future_df['unit_price'] = unit_prices.get(desc, 0)\n",
        "    future_df['predicted_amount'] = future_df['predicted_quantity'] * future_df['unit_price']\n",
        "\n",
        "    # Merge with actual values if any exist\n",
        "    actuals = monthly[\n",
        "        (monthly['Description'] == desc) &\n",
        "        (monthly['year'].isin([2025, 2026, 2027])) &\n",
        "        (monthly['month'].isin([4, 5, 6]))\n",
        "    ]\n",
        "    merged = pd.merge(future_df, actuals[['date', 'Quantity']], on='date', how='left')\n",
        "    merged.rename(columns={'Quantity': 'actual_quantity'}, inplace=True)\n",
        "    merged['error'] = merged['actual_quantity'] - merged['predicted_quantity']\n",
        "    results.append(merged)\n",
        "\n",
        "# 7. Save to CSV\n",
        "if results:\n",
        "    final = pd.concat(results)\n",
        "    final = final[['date', 'Description', 'unit_price', 'actual_quantity', 'predicted_quantity', 'predicted_amount', 'error']]\n",
        "\n",
        "    # Add NO_ column\n",
        "    final.insert(0, 'NO_', range(1, len(final) + 1))\n",
        "\n",
        "    final.to_csv(\"xgboost_forecast_apr_jun_2025_2027.csv\", index=False)\n",
        "    print(\"✅ Forecast for Apr–Jun 2025–2027 saved to 'xgboost_forecast_apr_jun_2025_2027.csv'\")\n",
        "else:\n",
        "    print(\"❌ No products had enough data to forecast.\")\n"
      ],
      "metadata": {
        "colab": {
          "base_uri": "https://localhost:8080/"
        },
        "id": "fjBbeUXt1ewV",
        "outputId": "9448d246-0ce9-4781-e337-a4ea3b4b6ff8"
      },
      "execution_count": null,
      "outputs": [
        {
          "output_type": "stream",
          "name": "stderr",
          "text": [
            "<ipython-input-4-4f34cece8bb5>:20: FutureWarning: 'M' is deprecated and will be removed in a future version, please use 'ME' instead.\n",
            "  monthly = df.groupby([pd.Grouper(key='date', freq='M'), 'Description'])['Quantity'].sum().reset_index()\n"
          ]
        },
        {
          "output_type": "stream",
          "name": "stdout",
          "text": [
            "✅ Forecast for Apr–Jun 2025–2027 saved to 'xgboost_forecast_apr_jun_2025_2027.csv'\n"
          ]
        }
      ]
    },
    {
      "cell_type": "code",
      "source": [
        "from google.colab import drive\n",
        "drive.mount('/content/drive')"
      ],
      "metadata": {
        "id": "Y2lapkcnN6pR"
      },
      "execution_count": null,
      "outputs": []
    }
  ]
}